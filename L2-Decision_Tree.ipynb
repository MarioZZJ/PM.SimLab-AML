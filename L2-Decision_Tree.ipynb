{
 "cells": [
  {
   "cell_type": "markdown",
   "id": "medieval-mills",
   "metadata": {},
   "source": [
    "<center>决策树实验</center>\n",
    "    \n",
    "# 决策树构建实现\n",
    "\n",
    "> 根据理论课给出的决策树框架修改课程中的决策树程序代码。"
   ]
  },
  {
   "cell_type": "markdown",
   "id": "excessive-colors",
   "metadata": {},
   "source": [
    "## 模型解构\n",
    "\n",
    "检测数据集中的每个子项是否属于同一分类：\n",
    "* If so return 类标签；\n",
    "* Else\n",
    "    * 寻找划分数据集的最好特征\n",
    "    * 划分数据集\n",
    "    * 创建分支节点\n",
    "    * for 每个划分的子集\n",
    "        - 调用函数createBranch并增加返回结果到分支节点中\n",
    "    * return 分支节点"
   ]
  },
  {
   "cell_type": "code",
   "execution_count": 1,
   "id": "beginning-hierarchy",
   "metadata": {},
   "outputs": [],
   "source": [
    "# %load ./code/Ch03/trees.py\n",
    "'''\n",
    "Created on Oct 12, 2010\n",
    "Decision Tree Source Code for Machine Learning in Action Ch. 3\n",
    "@author: Peter Harrington\n",
    "'''\n",
    "from math import log\n",
    "import operator\n",
    "\n",
    "# ..............\n",
    "    \n",
    "# def classify(inputTree,featLabels,testVec):\n",
    "#     firstStr = inputTree.keys()[0]\n",
    "#     secondDict = inputTree[firstStr]\n",
    "#     featIndex = featLabels.index(firstStr)\n",
    "#     key = testVec[featIndex]\n",
    "#     valueOfFeat = secondDict[key]\n",
    "#     if isinstance(valueOfFeat, dict): \n",
    "#         classLabel = classify(valueOfFeat, featLabels, testVec)\n",
    "#     else: classLabel = valueOfFeat\n",
    "#     return classLabel\n",
    "\n",
    "# def storeTree(inputTree,filename):\n",
    "#     import pickle\n",
    "#     fw = open(filename,'w')\n",
    "#     pickle.dump(inputTree,fw)\n",
    "#     fw.close()\n",
    "    \n",
    "# def grabTree(filename):\n",
    "#     import pickle\n",
    "#     fr = open(filename)\n",
    "#     return pickle.load(fr)\n",
    "    \n"
   ]
  },
  {
   "cell_type": "markdown",
   "id": "antique-purchase",
   "metadata": {},
   "source": [
    "使用`createDateSet()`方法可以生成一个小范围数据"
   ]
  },
  {
   "cell_type": "code",
   "execution_count": 2,
   "id": "unknown-acceptance",
   "metadata": {},
   "outputs": [],
   "source": [
    "def createDataSet():\n",
    "    dataSet = [[1, 1, 'yes'],\n",
    "               [1, 1, 'yes'],\n",
    "               [1, 0, 'no'],\n",
    "               [0, 1, 'no'],\n",
    "               [0, 1, 'no']]\n",
    "    labels = ['no surfacing','flippers']\n",
    "    # change to discrete values\n",
    "    return dataSet, labels"
   ]
  },
  {
   "cell_type": "code",
   "execution_count": 3,
   "id": "structured-jumping",
   "metadata": {
    "scrolled": true
   },
   "outputs": [
    {
     "data": {
      "text/plain": [
       "[[1, 1, 'yes'], [1, 1, 'yes'], [1, 0, 'no'], [0, 1, 'no'], [0, 1, 'no']]"
      ]
     },
     "execution_count": 3,
     "metadata": {},
     "output_type": "execute_result"
    }
   ],
   "source": [
    "myDat, labels=createDataSet()\n",
    "myDat"
   ]
  },
  {
   "cell_type": "markdown",
   "id": "stone-instrumentation",
   "metadata": {},
   "source": [
    "## 最优属性选择\n",
    "\n",
    "在构建决策树时，确定最优划分属性$a_*$的方法的选择非常关键。\n",
    "\n",
    "### 样本集信息熵的计算\n",
    "\n",
    "这里首先引入信息熵，对于样本集合$D$的信息熵可按如下法则计算：\n",
    "\n",
    "假设样本集合$D$中第$k$类样本所占比例为$p_k$，则$D$的信息熵定义为\n",
    "\n",
    "$$\\text{Ent}(D)=-\\sum\\limits_{k=1}^{|y|}p_k\\log_2p_k$$\n",
    "\n",
    "`calcShannonEnt()`方法可以对集合样本执行计算"
   ]
  },
  {
   "cell_type": "code",
   "execution_count": 4,
   "id": "brutal-rider",
   "metadata": {},
   "outputs": [],
   "source": [
    "def calcShannonEnt(dataSet):\n",
    "    numEntries = len(dataSet)\n",
    "    labelCounts = {}\n",
    "    for featVec in dataSet: #the the number of unique elements and their occurance\n",
    "        currentLabel = featVec[-1]\n",
    "        if currentLabel not in labelCounts.keys(): labelCounts[currentLabel] = 0\n",
    "        labelCounts[currentLabel] += 1\n",
    "    shannonEnt = 0.0\n",
    "    for key in labelCounts:\n",
    "        prob = float(labelCounts[key])/numEntries\n",
    "        shannonEnt -= prob * log(prob,2) #log base 2\n",
    "    return shannonEnt"
   ]
  },
  {
   "cell_type": "code",
   "execution_count": 5,
   "id": "suitable-amber",
   "metadata": {},
   "outputs": [
    {
     "data": {
      "text/plain": [
       "0.9709505944546686"
      ]
     },
     "execution_count": 5,
     "metadata": {},
     "output_type": "execute_result"
    }
   ],
   "source": [
    "calcShannonEnt(myDat)"
   ]
  },
  {
   "cell_type": "markdown",
   "id": "sporting-librarian",
   "metadata": {},
   "source": [
    "如果我们增大某一变量的取值范围，样本集合的信息熵也对应增大："
   ]
  },
  {
   "cell_type": "code",
   "execution_count": 6,
   "id": "respective-printer",
   "metadata": {},
   "outputs": [
    {
     "data": {
      "text/plain": [
       "[[1, 1, 'maybe'], [1, 1, 'yes'], [1, 0, 'no'], [0, 1, 'no'], [0, 1, 'no']]"
      ]
     },
     "execution_count": 6,
     "metadata": {},
     "output_type": "execute_result"
    }
   ],
   "source": [
    "myDat[0][-1]='maybe'\n",
    "myDat"
   ]
  },
  {
   "cell_type": "code",
   "execution_count": 7,
   "id": "engaging-irrigation",
   "metadata": {},
   "outputs": [
    {
     "data": {
      "text/plain": [
       "1.3709505944546687"
      ]
     },
     "execution_count": 7,
     "metadata": {},
     "output_type": "execute_result"
    }
   ],
   "source": [
    "calcShannonEnt(myDat)"
   ]
  },
  {
   "cell_type": "markdown",
   "id": "tight-reviewer",
   "metadata": {},
   "source": [
    "### 样本集划分\n",
    "\n",
    "决策树会根据构建的规则，依据样本某一/某些属性的取值做出判断。因此需要构建`splitDataSet()`方法，能实现根据某一属性的取值对样本集进行切割。"
   ]
  },
  {
   "cell_type": "code",
   "execution_count": 8,
   "id": "activated-twins",
   "metadata": {},
   "outputs": [],
   "source": [
    "def splitDataSet(dataSet, axis, value):\n",
    "    retDataSet = []\n",
    "    for featVec in dataSet:\n",
    "        if featVec[axis] == value:\n",
    "            reducedFeatVec = featVec[:axis]     #chop out axis used for splitting\n",
    "            reducedFeatVec.extend(featVec[axis+1:])\n",
    "            retDataSet.append(reducedFeatVec)\n",
    "    return retDataSet"
   ]
  },
  {
   "cell_type": "code",
   "execution_count": 9,
   "id": "coupled-italy",
   "metadata": {
    "scrolled": true
   },
   "outputs": [
    {
     "data": {
      "text/plain": [
       "[[1, 'maybe'], [1, 'yes'], [0, 'no']]"
      ]
     },
     "execution_count": 9,
     "metadata": {},
     "output_type": "execute_result"
    }
   ],
   "source": [
    "splitDataSet(myDat,0,1)"
   ]
  },
  {
   "cell_type": "code",
   "execution_count": 10,
   "id": "interstate-compatibility",
   "metadata": {},
   "outputs": [
    {
     "data": {
      "text/plain": [
       "[[1, 'no'], [1, 'no']]"
      ]
     },
     "execution_count": 10,
     "metadata": {},
     "output_type": "execute_result"
    }
   ],
   "source": [
    "splitDataSet(myDat,0,0)"
   ]
  },
  {
   "cell_type": "markdown",
   "id": "boolean-configuration",
   "metadata": {},
   "source": [
    "### 依据信息增益选择最优属性\n",
    "\n",
    "假设离散属性a有V个可能的取值$\\{a_1,a_2....a_v\\}$, $a=a_v$的分支对应子集$D^v$\n",
    "\n",
    "用属性a划分D的信息增益为\n",
    "$$\\text{Gain}(D,a)=\\text{Ent}(D)-\\sum\\limits_{v=1}^V\\dfrac{|D_v|}{|D|}\\text{Ent}(D^v)$$\n",
    "$$\\text{Gain}(D,a)=\\text{Ent}(D)-\\text{Ent}(D|a)$$\n",
    "\n",
    "实现能根据属性值对样本进行分割之后，我们可以根据属性值取值划分样本集为若干子集，再依照之前计算样本集信息熵的方法分别计算这些子集的信息熵。最后将计算结果进行比较，留取信息增益较大的子集所属属性为最优属性并在该节点进行划分"
   ]
  },
  {
   "cell_type": "code",
   "execution_count": 11,
   "id": "painted-radical",
   "metadata": {},
   "outputs": [],
   "source": [
    "def chooseBestFeatureToSplit(dataSet):\n",
    "    numFeatures = len(dataSet[0]) - 1      #the last column is used for the labels\n",
    "    baseEntropy = calcShannonEnt(dataSet)  \n",
    "    bestInfoGain = 0.0; bestFeature = -1\n",
    "    for i in range(numFeatures):        #iterate over all the features\n",
    "        featList = [example[i] for example in dataSet]#create a list of all the examples of this feature\n",
    "        uniqueVals = set(featList)       #get a set of unique values\n",
    "        newEntropy = 0.0\n",
    "        for value in uniqueVals:\n",
    "            subDataSet = splitDataSet(dataSet, i, value)\n",
    "            prob = len(subDataSet)/float(len(dataSet))\n",
    "            newEntropy += prob * calcShannonEnt(subDataSet)     \n",
    "        infoGain = baseEntropy - newEntropy     #calculate the info gain; ie reduction in entropy\n",
    "        print(\"Feature %s . infoGain:% s\" % (i,infoGain))\n",
    "        if (infoGain > bestInfoGain):       #compare this to the best gain so far\n",
    "            bestInfoGain = infoGain         #if better than current best, set to best\n",
    "            bestFeature = i\n",
    "    return bestFeature                      #returns an integer"
   ]
  },
  {
   "cell_type": "code",
   "execution_count": 12,
   "id": "continental-digest",
   "metadata": {},
   "outputs": [
    {
     "data": {
      "text/plain": [
       "[[1, 1, 'maybe'], [1, 1, 'yes'], [1, 0, 'no'], [0, 1, 'no'], [0, 1, 'no']]"
      ]
     },
     "execution_count": 12,
     "metadata": {},
     "output_type": "execute_result"
    }
   ],
   "source": [
    "myDat"
   ]
  },
  {
   "cell_type": "code",
   "execution_count": 13,
   "id": "weekly-cooling",
   "metadata": {
    "scrolled": true
   },
   "outputs": [
    {
     "name": "stdout",
     "output_type": "stream",
     "text": [
      "Feature 0 . infoGain:0.41997309402197514\n",
      "Feature 1 . infoGain:0.17095059445466854\n",
      "best Feature: 0\n"
     ]
    }
   ],
   "source": [
    "print(\"best Feature:\",chooseBestFeatureToSplit(myDat))"
   ]
  },
  {
   "cell_type": "markdown",
   "id": "better-poland",
   "metadata": {},
   "source": [
    "## 决策树生成\n",
    "\n",
    "### 叶子节点分类处理\n",
    "前面已经定义了选择最优属性以及依据最优属性划分决策树的方法。要构建决策树还需要考虑到决策树划分到最后的叶子节点，需要定义叶子节点对结果的选择，一般是选择集合中样本数较多的属性为最终划分属性。所以定义了`majorityCnt()`方法应用于只剩一个属性的情况。"
   ]
  },
  {
   "cell_type": "code",
   "execution_count": 14,
   "id": "assisted-ghost",
   "metadata": {},
   "outputs": [],
   "source": [
    "def majorityCnt(classList):\n",
    "    classCount={}\n",
    "    for vote in classList:\n",
    "        if vote not in classCount.keys(): classCount[vote] = 0\n",
    "        classCount[vote] += 1\n",
    "    sortedClassCount = sorted(classCount.iteritems(), key=operator.itemgetter(1), reverse=True)\n",
    "    return sortedClassCount[0][0]"
   ]
  },
  {
   "cell_type": "markdown",
   "id": "killing-cheat",
   "metadata": {},
   "source": [
    "### 决策树生成构建\n",
    "\n",
    "本例中选择json/dict的方法来存储决策树。这样一种表示方式很利于表示层级数据。\n",
    "\n",
    "运用之前定义的所有方法来递归地生成决策树。"
   ]
  },
  {
   "cell_type": "code",
   "execution_count": 15,
   "id": "civic-current",
   "metadata": {},
   "outputs": [],
   "source": [
    "def createTree(dataSet,labels):\n",
    "    classList = [example[-1] for example in dataSet]\n",
    "    if classList.count(classList[0]) == len(classList): \n",
    "        return classList[0]#stop splitting when all of the classes are equal\n",
    "    if len(dataSet[0]) == 1: #stop splitting when there are no more features in dataSet\n",
    "        return majorityCnt(classList)\n",
    "    bestFeat = chooseBestFeatureToSplit(dataSet)\n",
    "    bestFeatLabel = labels[bestFeat]\n",
    "    myTree = {bestFeatLabel:{}}\n",
    "    del(labels[bestFeat])\n",
    "    featValues = [example[bestFeat] for example in dataSet]\n",
    "    uniqueVals = set(featValues)\n",
    "    for value in uniqueVals:\n",
    "        subLabels = labels[:]       #copy all of labels, so trees don't mess up existing labels\n",
    "        myTree[bestFeatLabel][value] = createTree(splitDataSet(dataSet, bestFeat, value),subLabels)\n",
    "    return myTree               "
   ]
  },
  {
   "cell_type": "code",
   "execution_count": 16,
   "id": "special-massage",
   "metadata": {
    "scrolled": true
   },
   "outputs": [
    {
     "name": "stdout",
     "output_type": "stream",
     "text": [
      "Feature 0 . infoGain:0.41997309402197514\n",
      "Feature 1 . infoGain:0.17095059445466854\n",
      "Feature 0 . infoGain:0.9182958340544894\n"
     ]
    },
    {
     "ename": "AttributeError",
     "evalue": "'dict' object has no attribute 'iteritems'",
     "output_type": "error",
     "traceback": [
      "\u001b[0;31m---------------------------------------------------------------------------\u001b[0m",
      "\u001b[0;31mAttributeError\u001b[0m                            Traceback (most recent call last)",
      "\u001b[0;32m<ipython-input-16-e296dc6f83fb>\u001b[0m in \u001b[0;36m<module>\u001b[0;34m\u001b[0m\n\u001b[0;32m----> 1\u001b[0;31m \u001b[0mmyTree\u001b[0m \u001b[0;34m=\u001b[0m \u001b[0mcreateTree\u001b[0m\u001b[0;34m(\u001b[0m\u001b[0mmyDat\u001b[0m\u001b[0;34m,\u001b[0m\u001b[0mlabels\u001b[0m\u001b[0;34m)\u001b[0m\u001b[0;34m\u001b[0m\u001b[0;34m\u001b[0m\u001b[0m\n\u001b[0m\u001b[1;32m      2\u001b[0m \u001b[0;31m# myTree\u001b[0m\u001b[0;34m\u001b[0m\u001b[0;34m\u001b[0m\u001b[0;34m\u001b[0m\u001b[0m\n",
      "\u001b[0;32m<ipython-input-15-ad9897355491>\u001b[0m in \u001b[0;36mcreateTree\u001b[0;34m(dataSet, labels)\u001b[0m\n\u001b[1;32m     13\u001b[0m     \u001b[0;32mfor\u001b[0m \u001b[0mvalue\u001b[0m \u001b[0;32min\u001b[0m \u001b[0muniqueVals\u001b[0m\u001b[0;34m:\u001b[0m\u001b[0;34m\u001b[0m\u001b[0;34m\u001b[0m\u001b[0m\n\u001b[1;32m     14\u001b[0m         \u001b[0msubLabels\u001b[0m \u001b[0;34m=\u001b[0m \u001b[0mlabels\u001b[0m\u001b[0;34m[\u001b[0m\u001b[0;34m:\u001b[0m\u001b[0;34m]\u001b[0m       \u001b[0;31m#copy all of labels, so trees don't mess up existing labels\u001b[0m\u001b[0;34m\u001b[0m\u001b[0;34m\u001b[0m\u001b[0m\n\u001b[0;32m---> 15\u001b[0;31m         \u001b[0mmyTree\u001b[0m\u001b[0;34m[\u001b[0m\u001b[0mbestFeatLabel\u001b[0m\u001b[0;34m]\u001b[0m\u001b[0;34m[\u001b[0m\u001b[0mvalue\u001b[0m\u001b[0;34m]\u001b[0m \u001b[0;34m=\u001b[0m \u001b[0mcreateTree\u001b[0m\u001b[0;34m(\u001b[0m\u001b[0msplitDataSet\u001b[0m\u001b[0;34m(\u001b[0m\u001b[0mdataSet\u001b[0m\u001b[0;34m,\u001b[0m \u001b[0mbestFeat\u001b[0m\u001b[0;34m,\u001b[0m \u001b[0mvalue\u001b[0m\u001b[0;34m)\u001b[0m\u001b[0;34m,\u001b[0m\u001b[0msubLabels\u001b[0m\u001b[0;34m)\u001b[0m\u001b[0;34m\u001b[0m\u001b[0;34m\u001b[0m\u001b[0m\n\u001b[0m\u001b[1;32m     16\u001b[0m     \u001b[0;32mreturn\u001b[0m \u001b[0mmyTree\u001b[0m\u001b[0;34m\u001b[0m\u001b[0;34m\u001b[0m\u001b[0m\n",
      "\u001b[0;32m<ipython-input-15-ad9897355491>\u001b[0m in \u001b[0;36mcreateTree\u001b[0;34m(dataSet, labels)\u001b[0m\n\u001b[1;32m     13\u001b[0m     \u001b[0;32mfor\u001b[0m \u001b[0mvalue\u001b[0m \u001b[0;32min\u001b[0m \u001b[0muniqueVals\u001b[0m\u001b[0;34m:\u001b[0m\u001b[0;34m\u001b[0m\u001b[0;34m\u001b[0m\u001b[0m\n\u001b[1;32m     14\u001b[0m         \u001b[0msubLabels\u001b[0m \u001b[0;34m=\u001b[0m \u001b[0mlabels\u001b[0m\u001b[0;34m[\u001b[0m\u001b[0;34m:\u001b[0m\u001b[0;34m]\u001b[0m       \u001b[0;31m#copy all of labels, so trees don't mess up existing labels\u001b[0m\u001b[0;34m\u001b[0m\u001b[0;34m\u001b[0m\u001b[0m\n\u001b[0;32m---> 15\u001b[0;31m         \u001b[0mmyTree\u001b[0m\u001b[0;34m[\u001b[0m\u001b[0mbestFeatLabel\u001b[0m\u001b[0;34m]\u001b[0m\u001b[0;34m[\u001b[0m\u001b[0mvalue\u001b[0m\u001b[0;34m]\u001b[0m \u001b[0;34m=\u001b[0m \u001b[0mcreateTree\u001b[0m\u001b[0;34m(\u001b[0m\u001b[0msplitDataSet\u001b[0m\u001b[0;34m(\u001b[0m\u001b[0mdataSet\u001b[0m\u001b[0;34m,\u001b[0m \u001b[0mbestFeat\u001b[0m\u001b[0;34m,\u001b[0m \u001b[0mvalue\u001b[0m\u001b[0;34m)\u001b[0m\u001b[0;34m,\u001b[0m\u001b[0msubLabels\u001b[0m\u001b[0;34m)\u001b[0m\u001b[0;34m\u001b[0m\u001b[0;34m\u001b[0m\u001b[0m\n\u001b[0m\u001b[1;32m     16\u001b[0m     \u001b[0;32mreturn\u001b[0m \u001b[0mmyTree\u001b[0m\u001b[0;34m\u001b[0m\u001b[0;34m\u001b[0m\u001b[0m\n",
      "\u001b[0;32m<ipython-input-15-ad9897355491>\u001b[0m in \u001b[0;36mcreateTree\u001b[0;34m(dataSet, labels)\u001b[0m\n\u001b[1;32m      4\u001b[0m         \u001b[0;32mreturn\u001b[0m \u001b[0mclassList\u001b[0m\u001b[0;34m[\u001b[0m\u001b[0;36m0\u001b[0m\u001b[0;34m]\u001b[0m\u001b[0;31m#stop splitting when all of the classes are equal\u001b[0m\u001b[0;34m\u001b[0m\u001b[0;34m\u001b[0m\u001b[0m\n\u001b[1;32m      5\u001b[0m     \u001b[0;32mif\u001b[0m \u001b[0mlen\u001b[0m\u001b[0;34m(\u001b[0m\u001b[0mdataSet\u001b[0m\u001b[0;34m[\u001b[0m\u001b[0;36m0\u001b[0m\u001b[0;34m]\u001b[0m\u001b[0;34m)\u001b[0m \u001b[0;34m==\u001b[0m \u001b[0;36m1\u001b[0m\u001b[0;34m:\u001b[0m \u001b[0;31m#stop splitting when there are no more features in dataSet\u001b[0m\u001b[0;34m\u001b[0m\u001b[0;34m\u001b[0m\u001b[0m\n\u001b[0;32m----> 6\u001b[0;31m         \u001b[0;32mreturn\u001b[0m \u001b[0mmajorityCnt\u001b[0m\u001b[0;34m(\u001b[0m\u001b[0mclassList\u001b[0m\u001b[0;34m)\u001b[0m\u001b[0;34m\u001b[0m\u001b[0;34m\u001b[0m\u001b[0m\n\u001b[0m\u001b[1;32m      7\u001b[0m     \u001b[0mbestFeat\u001b[0m \u001b[0;34m=\u001b[0m \u001b[0mchooseBestFeatureToSplit\u001b[0m\u001b[0;34m(\u001b[0m\u001b[0mdataSet\u001b[0m\u001b[0;34m)\u001b[0m\u001b[0;34m\u001b[0m\u001b[0;34m\u001b[0m\u001b[0m\n\u001b[1;32m      8\u001b[0m     \u001b[0mbestFeatLabel\u001b[0m \u001b[0;34m=\u001b[0m \u001b[0mlabels\u001b[0m\u001b[0;34m[\u001b[0m\u001b[0mbestFeat\u001b[0m\u001b[0;34m]\u001b[0m\u001b[0;34m\u001b[0m\u001b[0;34m\u001b[0m\u001b[0m\n",
      "\u001b[0;32m<ipython-input-14-80a440da53c7>\u001b[0m in \u001b[0;36mmajorityCnt\u001b[0;34m(classList)\u001b[0m\n\u001b[1;32m      4\u001b[0m         \u001b[0;32mif\u001b[0m \u001b[0mvote\u001b[0m \u001b[0;32mnot\u001b[0m \u001b[0;32min\u001b[0m \u001b[0mclassCount\u001b[0m\u001b[0;34m.\u001b[0m\u001b[0mkeys\u001b[0m\u001b[0;34m(\u001b[0m\u001b[0;34m)\u001b[0m\u001b[0;34m:\u001b[0m \u001b[0mclassCount\u001b[0m\u001b[0;34m[\u001b[0m\u001b[0mvote\u001b[0m\u001b[0;34m]\u001b[0m \u001b[0;34m=\u001b[0m \u001b[0;36m0\u001b[0m\u001b[0;34m\u001b[0m\u001b[0;34m\u001b[0m\u001b[0m\n\u001b[1;32m      5\u001b[0m         \u001b[0mclassCount\u001b[0m\u001b[0;34m[\u001b[0m\u001b[0mvote\u001b[0m\u001b[0;34m]\u001b[0m \u001b[0;34m+=\u001b[0m \u001b[0;36m1\u001b[0m\u001b[0;34m\u001b[0m\u001b[0;34m\u001b[0m\u001b[0m\n\u001b[0;32m----> 6\u001b[0;31m     \u001b[0msortedClassCount\u001b[0m \u001b[0;34m=\u001b[0m \u001b[0msorted\u001b[0m\u001b[0;34m(\u001b[0m\u001b[0mclassCount\u001b[0m\u001b[0;34m.\u001b[0m\u001b[0miteritems\u001b[0m\u001b[0;34m(\u001b[0m\u001b[0;34m)\u001b[0m\u001b[0;34m,\u001b[0m \u001b[0mkey\u001b[0m\u001b[0;34m=\u001b[0m\u001b[0moperator\u001b[0m\u001b[0;34m.\u001b[0m\u001b[0mitemgetter\u001b[0m\u001b[0;34m(\u001b[0m\u001b[0;36m1\u001b[0m\u001b[0;34m)\u001b[0m\u001b[0;34m,\u001b[0m \u001b[0mreverse\u001b[0m\u001b[0;34m=\u001b[0m\u001b[0;32mTrue\u001b[0m\u001b[0;34m)\u001b[0m\u001b[0;34m\u001b[0m\u001b[0;34m\u001b[0m\u001b[0m\n\u001b[0m\u001b[1;32m      7\u001b[0m     \u001b[0;32mreturn\u001b[0m \u001b[0msortedClassCount\u001b[0m\u001b[0;34m[\u001b[0m\u001b[0;36m0\u001b[0m\u001b[0;34m]\u001b[0m\u001b[0;34m[\u001b[0m\u001b[0;36m0\u001b[0m\u001b[0;34m]\u001b[0m\u001b[0;34m\u001b[0m\u001b[0;34m\u001b[0m\u001b[0m\n",
      "\u001b[0;31mAttributeError\u001b[0m: 'dict' object has no attribute 'iteritems'"
     ]
    }
   ],
   "source": [
    "myTree = createTree(myDat,labels)\n",
    "# myTree"
   ]
  },
  {
   "cell_type": "markdown",
   "id": "toxic-session",
   "metadata": {},
   "source": [
    "源代码此处报错，考证后原因是：\n",
    "\n",
    "Python3.x中不再支持`iteritems()`，所以将`iteritems()`改成`items()`，即`dict.items()`"
   ]
  },
  {
   "cell_type": "code",
   "execution_count": 17,
   "id": "focal-groove",
   "metadata": {},
   "outputs": [],
   "source": [
    "def majorityCnt(classList):\n",
    "    classCount={}\n",
    "    for vote in classList:\n",
    "        if vote not in classCount.keys(): classCount[vote] = 0\n",
    "        classCount[vote] += 1\n",
    "#     sortedClassCount = sorted(classCount.iteritems(), key=operator.itemgetter(1), reverse=True)\n",
    "    sortedClassCount = sorted(classCount.items(), key=operator.itemgetter(1), reverse=True)\n",
    "    return sortedClassCount[0][0]"
   ]
  },
  {
   "cell_type": "code",
   "execution_count": 18,
   "id": "interior-kelly",
   "metadata": {},
   "outputs": [
    {
     "name": "stdout",
     "output_type": "stream",
     "text": [
      "Feature 0 . infoGain:0.4199730940219749\n",
      "Feature 1 . infoGain:0.17095059445466854\n",
      "Feature 0 . infoGain:0.9182958340544896\n"
     ]
    },
    {
     "data": {
      "text/plain": [
       "{'no surfacing': {0: 'no', 1: {'flippers': {0: 'no', 1: 'yes'}}}}"
      ]
     },
     "execution_count": 18,
     "metadata": {},
     "output_type": "execute_result"
    }
   ],
   "source": [
    "myDat, labels=createDataSet()\n",
    "myTree = createTree(myDat,labels)\n",
    "myTree"
   ]
  },
  {
   "cell_type": "markdown",
   "id": "expanded-florida",
   "metadata": {},
   "source": [
    "至此生成了判定原数据的决策树。"
   ]
  },
  {
   "cell_type": "markdown",
   "id": "subjective-disability",
   "metadata": {},
   "source": [
    "# CART决策树实现\n",
    "\n",
    "> 进一步修改代码实现CART决策树程序\n",
    "\n",
    "## 模型解构\n",
    "\n",
    "CART生成算法\n",
    "\n",
    "输入：训练数据集D，停止计算条件\n",
    "输出：CART决策树\n",
    "* 从根节点开始，递归对每个结点操作\n",
    "    * 1、设结点数据集为$D$，对每个特征$A$的每个值$a$，根据样本点对$A=a$的测试为是或否，将D分为$D_1$，$D_2$，计算$A=a$的基尼指数\n",
    "    * $ D_1 = \\{(x,y) \\in D | A(x) = a \\},\\\\ D_2 = D - D_1 $\n",
    "    * 2、在所有的特征$A$以及所有可能的切分点$a$中，选择基尼指数最小的特征和切分点，将数据集分配到两个子结点中。\n",
    "    * 3、对两个子结点递归调用1，2步骤\n",
    "    * 4、生成CART树\n",
    "\n",
    "与上一个实验中使用到的ID3算法相比，仅仅是选择最优属性的方式不同，构建过程类似，因此可以复用之前的部分方法。"
   ]
  },
  {
   "cell_type": "markdown",
   "id": "presidential-clause",
   "metadata": {},
   "source": [
    "## 选择最优属性\n",
    "\n",
    "### 样本集Gini指数的计算\n",
    "\n",
    "Gini指数反映了从数据集D中随机抽取两个样本，其类别标记不一致的概率。\n",
    "\n",
    "$$\\text{Gini}(D)=\\sum\\limits_{k=1}^{|y|}\\sum\\limits_{k'\\ne k}p_k p_{k'}=1-\\sum\\limits_{k=1}^{|y|}p_k^2 $$"
   ]
  },
  {
   "cell_type": "code",
   "execution_count": 19,
   "id": "prepared-width",
   "metadata": {},
   "outputs": [],
   "source": [
    "def calcGini(dataSet):\n",
    "    numEntries = len(dataSet)\n",
    "    labelCounts = {}\n",
    "    for featVec in dataSet: #获取样本中\n",
    "        currentLabel = featVec[-1]\n",
    "        if currentLabel not in labelCounts.keys(): labelCounts[currentLabel] = 0\n",
    "        labelCounts[currentLabel] += 1\n",
    "    probSquareSum = 0.0\n",
    "    for key in labelCounts:\n",
    "        prob = float(labelCounts[key])/numEntries\n",
    "        probSquareSum += prob**2\n",
    "    gini = 1 - probSquareSum\n",
    "    return gini"
   ]
  },
  {
   "cell_type": "markdown",
   "id": "moderate-carpet",
   "metadata": {},
   "source": [
    "样本集分割方法已在上一节实现，不再赘述。"
   ]
  },
  {
   "cell_type": "markdown",
   "id": "compressed-prompt",
   "metadata": {},
   "source": [
    "### 依据Gini指数选择最优属性\n",
    "\n",
    "属性a的基尼指数定义为：\n",
    "$$\n",
    "\\text{Gini_index}(D,a) = \\sum\\limits_{v=1}^V\\dfrac{|D^v|}{|D|}Gini(D)\n",
    "$$"
   ]
  },
  {
   "cell_type": "code",
   "execution_count": 20,
   "id": "numerous-model",
   "metadata": {},
   "outputs": [],
   "source": [
    "def chooseBestFeatureToSplitByGini(dataSet):\n",
    "    numFeatures = len(dataSet[0]) - 1      #the last column is used for the labels\n",
    "    bestGiniIndex = 1; bestFeature = -1\n",
    "    for i in range(numFeatures):        #iterate over all the features\n",
    "        featList = [example[i] for example in dataSet]#create a list of all the examples of this feature\n",
    "        uniqueVals = set(featList)       #get a set of unique values\n",
    "        GiniIndex = 0.0\n",
    "        for value in uniqueVals:\n",
    "            subDataSet = splitDataSet(dataSet, i, value)\n",
    "            prob = len(subDataSet)/float(len(dataSet))\n",
    "            GiniIndex += prob * calcGini(subDataSet)\n",
    "        print(\"Feature %s . GiniIndex:% s\" % (i,GiniIndex))\n",
    "        if (GiniIndex < bestGiniIndex):       #compare this to the best gain so far\n",
    "            bestGiniIndex = GiniIndex         #if better than current best, set to best\n",
    "            bestFeature = i\n",
    "    return bestFeature                      #returns an integer"
   ]
  },
  {
   "cell_type": "code",
   "execution_count": 21,
   "id": "weighted-cuisine",
   "metadata": {},
   "outputs": [
    {
     "data": {
      "text/plain": [
       "[[1, 1, 'yes'], [1, 1, 'yes'], [1, 0, 'no'], [0, 1, 'no'], [0, 1, 'no']]"
      ]
     },
     "execution_count": 21,
     "metadata": {},
     "output_type": "execute_result"
    }
   ],
   "source": [
    "myDat"
   ]
  },
  {
   "cell_type": "code",
   "execution_count": 22,
   "id": "contemporary-miracle",
   "metadata": {},
   "outputs": [
    {
     "name": "stdout",
     "output_type": "stream",
     "text": [
      "Feature 0 . GiniIndex:0.26666666666666666\n",
      "Feature 1 . GiniIndex:0.4\n",
      "best Feature: 0\n"
     ]
    }
   ],
   "source": [
    "print(\"best Feature:\",chooseBestFeatureToSplitByGini(myDat))"
   ]
  },
  {
   "cell_type": "markdown",
   "id": "environmental-stack",
   "metadata": {},
   "source": [
    "## 决策树生成\n",
    "\n",
    "叶子结点的分类处理也已在上一节实现，不再赘述。由于本节`CART`和上节`ID3`仅在最优属性选择上有差别，因此只需要替换原生成树中关键的选择最优属性方法为本节实现的方法即可。"
   ]
  },
  {
   "cell_type": "code",
   "execution_count": 23,
   "id": "shared-hollow",
   "metadata": {},
   "outputs": [],
   "source": [
    "def createTreeByGini(dataSet,labels):\n",
    "    classList = [example[-1] for example in dataSet]\n",
    "    if classList.count(classList[0]) == len(classList): \n",
    "        return classList[0]#stop splitting when all of the classes are equal\n",
    "    if len(dataSet[0]) == 1: #stop splitting when there are no more features in dataSet\n",
    "        return majorityCnt(classList)\n",
    "    bestFeat = chooseBestFeatureToSplitByGini(dataSet) # 仅替换此行\n",
    "    bestFeatLabel = labels[bestFeat]\n",
    "    myTree = {bestFeatLabel:{}}\n",
    "    del(labels[bestFeat])\n",
    "    featValues = [example[bestFeat] for example in dataSet]\n",
    "    uniqueVals = set(featValues)\n",
    "    for value in uniqueVals:\n",
    "        subLabels = labels[:]       #copy all of labels, so trees don't mess up existing labels\n",
    "        myTree[bestFeatLabel][value] = createTree(splitDataSet(dataSet, bestFeat, value),subLabels)\n",
    "    return myTree  "
   ]
  },
  {
   "cell_type": "code",
   "execution_count": 24,
   "id": "adapted-vegetable",
   "metadata": {},
   "outputs": [
    {
     "name": "stdout",
     "output_type": "stream",
     "text": [
      "Feature 0 . infoGain:0.4199730940219749\n",
      "Feature 1 . infoGain:0.17095059445466854\n",
      "Feature 0 . infoGain:0.9182958340544896\n"
     ]
    },
    {
     "data": {
      "text/plain": [
       "{'no surfacing': {0: 'no', 1: {'flippers': {0: 'no', 1: 'yes'}}}}"
      ]
     },
     "execution_count": 24,
     "metadata": {},
     "output_type": "execute_result"
    }
   ],
   "source": [
    "myDat, labels=createDataSet()\n",
    "myTree = createTree(myDat,labels)\n",
    "myTree"
   ]
  },
  {
   "cell_type": "markdown",
   "id": "configured-conditions",
   "metadata": {},
   "source": [
    "根据CART算法划分得到的决策树如上。\n",
    "\n",
    "就课本提供的小批量生成数据而言，二者产生的决策树完全相同，所以一定程度上并不能完全说明这两种划分最优属性算法的优劣。在下一节中将使用Titanic数据集就这两种算法进行训练和验证。"
   ]
  },
  {
   "cell_type": "markdown",
   "id": "nominated-feeding",
   "metadata": {},
   "source": [
    "有兴趣做剪枝 *"
   ]
  },
  {
   "cell_type": "markdown",
   "id": "banner-boundary",
   "metadata": {},
   "source": [
    "# 决策树测试训练和验证\n",
    "\n",
    "> 使用Titanic数据集，应用留出法、交叉验证法，用上述两种决策树程序进行训练和验证；\n",
    "\n",
    "（提交实验报告）\n",
    "\n",
    "## Titanic数据集读取与处理\n",
    "\n",
    "```\n",
    "/titanic8120 \n",
    "    | ------ train.csv   #训练集数据\n",
    "    | ------ test.csv    #测试集数据\n",
    "    | ------ gender_submmission.csv  #一组假设所有且只有女性乘客幸存的预测，提交文件案例。（本实验用不到）\n",
    "    \n",
    "```\n",
    "收集和准备数据的流程已经完成，现在应该对数据进行分析和初步的预处理\n",
    "\n",
    "### 读入数据与描述分析\n",
    "\n"
   ]
  },
  {
   "cell_type": "code",
   "execution_count": 86,
   "id": "seven-church",
   "metadata": {},
   "outputs": [],
   "source": [
    "import numpy as np\n",
    "import pandas as pd"
   ]
  },
  {
   "cell_type": "code",
   "execution_count": 96,
   "id": "transparent-sampling",
   "metadata": {
    "scrolled": true
   },
   "outputs": [
    {
     "data": {
      "text/html": [
       "<div>\n",
       "<style scoped>\n",
       "    .dataframe tbody tr th:only-of-type {\n",
       "        vertical-align: middle;\n",
       "    }\n",
       "\n",
       "    .dataframe tbody tr th {\n",
       "        vertical-align: top;\n",
       "    }\n",
       "\n",
       "    .dataframe thead th {\n",
       "        text-align: right;\n",
       "    }\n",
       "</style>\n",
       "<table border=\"1\" class=\"dataframe\">\n",
       "  <thead>\n",
       "    <tr style=\"text-align: right;\">\n",
       "      <th></th>\n",
       "      <th>PassengerId</th>\n",
       "      <th>Survived</th>\n",
       "      <th>Pclass</th>\n",
       "      <th>Name</th>\n",
       "      <th>Sex</th>\n",
       "      <th>Age</th>\n",
       "      <th>SibSp</th>\n",
       "      <th>Parch</th>\n",
       "      <th>Ticket</th>\n",
       "      <th>Fare</th>\n",
       "      <th>Cabin</th>\n",
       "      <th>Embarked</th>\n",
       "    </tr>\n",
       "  </thead>\n",
       "  <tbody>\n",
       "    <tr>\n",
       "      <th>0</th>\n",
       "      <td>1</td>\n",
       "      <td>0</td>\n",
       "      <td>3</td>\n",
       "      <td>Braund, Mr. Owen Harris</td>\n",
       "      <td>male</td>\n",
       "      <td>22.0</td>\n",
       "      <td>1</td>\n",
       "      <td>0</td>\n",
       "      <td>A/5 21171</td>\n",
       "      <td>7.2500</td>\n",
       "      <td>NaN</td>\n",
       "      <td>S</td>\n",
       "    </tr>\n",
       "    <tr>\n",
       "      <th>1</th>\n",
       "      <td>2</td>\n",
       "      <td>1</td>\n",
       "      <td>1</td>\n",
       "      <td>Cumings, Mrs. John Bradley (Florence Briggs Th...</td>\n",
       "      <td>female</td>\n",
       "      <td>38.0</td>\n",
       "      <td>1</td>\n",
       "      <td>0</td>\n",
       "      <td>PC 17599</td>\n",
       "      <td>71.2833</td>\n",
       "      <td>C85</td>\n",
       "      <td>C</td>\n",
       "    </tr>\n",
       "    <tr>\n",
       "      <th>2</th>\n",
       "      <td>3</td>\n",
       "      <td>1</td>\n",
       "      <td>3</td>\n",
       "      <td>Heikkinen, Miss. Laina</td>\n",
       "      <td>female</td>\n",
       "      <td>26.0</td>\n",
       "      <td>0</td>\n",
       "      <td>0</td>\n",
       "      <td>STON/O2. 3101282</td>\n",
       "      <td>7.9250</td>\n",
       "      <td>NaN</td>\n",
       "      <td>S</td>\n",
       "    </tr>\n",
       "    <tr>\n",
       "      <th>3</th>\n",
       "      <td>4</td>\n",
       "      <td>1</td>\n",
       "      <td>1</td>\n",
       "      <td>Futrelle, Mrs. Jacques Heath (Lily May Peel)</td>\n",
       "      <td>female</td>\n",
       "      <td>35.0</td>\n",
       "      <td>1</td>\n",
       "      <td>0</td>\n",
       "      <td>113803</td>\n",
       "      <td>53.1000</td>\n",
       "      <td>C123</td>\n",
       "      <td>S</td>\n",
       "    </tr>\n",
       "    <tr>\n",
       "      <th>4</th>\n",
       "      <td>5</td>\n",
       "      <td>0</td>\n",
       "      <td>3</td>\n",
       "      <td>Allen, Mr. William Henry</td>\n",
       "      <td>male</td>\n",
       "      <td>35.0</td>\n",
       "      <td>0</td>\n",
       "      <td>0</td>\n",
       "      <td>373450</td>\n",
       "      <td>8.0500</td>\n",
       "      <td>NaN</td>\n",
       "      <td>S</td>\n",
       "    </tr>\n",
       "  </tbody>\n",
       "</table>\n",
       "</div>"
      ],
      "text/plain": [
       "   PassengerId  Survived  Pclass  \\\n",
       "0            1         0       3   \n",
       "1            2         1       1   \n",
       "2            3         1       3   \n",
       "3            4         1       1   \n",
       "4            5         0       3   \n",
       "\n",
       "                                                Name     Sex   Age  SibSp  \\\n",
       "0                            Braund, Mr. Owen Harris    male  22.0      1   \n",
       "1  Cumings, Mrs. John Bradley (Florence Briggs Th...  female  38.0      1   \n",
       "2                             Heikkinen, Miss. Laina  female  26.0      0   \n",
       "3       Futrelle, Mrs. Jacques Heath (Lily May Peel)  female  35.0      1   \n",
       "4                           Allen, Mr. William Henry    male  35.0      0   \n",
       "\n",
       "   Parch            Ticket     Fare Cabin Embarked  \n",
       "0      0         A/5 21171   7.2500   NaN        S  \n",
       "1      0          PC 17599  71.2833   C85        C  \n",
       "2      0  STON/O2. 3101282   7.9250   NaN        S  \n",
       "3      0            113803  53.1000  C123        S  \n",
       "4      0            373450   8.0500   NaN        S  "
      ]
     },
     "execution_count": 96,
     "metadata": {},
     "output_type": "execute_result"
    }
   ],
   "source": [
    "titanic = pd.read_csv('./data/titanic8120/train.csv')\n",
    "titanic.head()"
   ]
  },
  {
   "cell_type": "markdown",
   "id": "auburn-allah",
   "metadata": {},
   "source": [
    "一共有891行数据，12个字段。其中`Survived`列表示乘客存活情况(0,1)，应该成为本次预测的标签。`Pclass`为船票等级（1,2,3)，`Sex`为性别，`Age`为年龄，`Sibsp`表示乘客是否有兄弟姐妹或配偶同行，`Parch`表示乘客是否有父母子女同行，`Fare`为船票费用，`Embarked`为登船港口(C,Q,S)。其余的字段如年龄、船票号码、船舱号码是其他标识乘客的元素，对结果影响可以不计。"
   ]
  },
  {
   "cell_type": "markdown",
   "id": "fresh-batch",
   "metadata": {},
   "source": [
    "### 删除冗余列\n",
    "\n",
    "已经提到有部分列是冗余的，首先将其删除不参与计算。"
   ]
  },
  {
   "cell_type": "code",
   "execution_count": 97,
   "id": "fifth-fiction",
   "metadata": {},
   "outputs": [],
   "source": [
    "titanic = titanic.drop(labels=['Name','Ticket','Cabin'],axis=1)"
   ]
  },
  {
   "cell_type": "markdown",
   "id": "provincial-shepherd",
   "metadata": {},
   "source": [
    "### 缺失值处理"
   ]
  },
  {
   "cell_type": "code",
   "execution_count": 98,
   "id": "common-lyric",
   "metadata": {},
   "outputs": [
    {
     "name": "stdout",
     "output_type": "stream",
     "text": [
      "<class 'pandas.core.frame.DataFrame'>\n",
      "RangeIndex: 891 entries, 0 to 890\n",
      "Data columns (total 9 columns):\n",
      " #   Column       Non-Null Count  Dtype  \n",
      "---  ------       --------------  -----  \n",
      " 0   PassengerId  891 non-null    int64  \n",
      " 1   Survived     891 non-null    int64  \n",
      " 2   Pclass       891 non-null    int64  \n",
      " 3   Sex          891 non-null    object \n",
      " 4   Age          714 non-null    float64\n",
      " 5   SibSp        891 non-null    int64  \n",
      " 6   Parch        891 non-null    int64  \n",
      " 7   Fare         891 non-null    float64\n",
      " 8   Embarked     889 non-null    object \n",
      "dtypes: float64(2), int64(5), object(2)\n",
      "memory usage: 62.8+ KB\n"
     ]
    }
   ],
   "source": [
    "titanic.info()"
   ]
  },
  {
   "cell_type": "markdown",
   "id": "engaging-visibility",
   "metadata": {},
   "source": [
    "可以看到，`Age`列缺失值较多，而此列为连续值。就我在之前两节实现的决策树而言，只能处理离散的数据且不具备自动离散化的功能，因此这里我认为采用常规的填充缺失值方式可能带来较大误差，因此我决定**删除**这些缺失值。对`Embarked`列同理。"
   ]
  },
  {
   "cell_type": "code",
   "execution_count": 99,
   "id": "molecular-integer",
   "metadata": {
    "scrolled": true
   },
   "outputs": [],
   "source": [
    "titanic = titanic.dropna()"
   ]
  },
  {
   "cell_type": "markdown",
   "id": "dried-drink",
   "metadata": {},
   "source": [
    "### 连续属性离散化\n",
    "\n",
    "`Age`列和`Fare`列都是连续属性，取值较多，如果强行分类可能会造成决策树特别复杂。因此需要将其划分为若干小单元。首先要获取其分布情况"
   ]
  },
  {
   "cell_type": "code",
   "execution_count": 100,
   "id": "acoustic-vehicle",
   "metadata": {},
   "outputs": [
    {
     "data": {
      "text/html": [
       "<div>\n",
       "<style scoped>\n",
       "    .dataframe tbody tr th:only-of-type {\n",
       "        vertical-align: middle;\n",
       "    }\n",
       "\n",
       "    .dataframe tbody tr th {\n",
       "        vertical-align: top;\n",
       "    }\n",
       "\n",
       "    .dataframe thead th {\n",
       "        text-align: right;\n",
       "    }\n",
       "</style>\n",
       "<table border=\"1\" class=\"dataframe\">\n",
       "  <thead>\n",
       "    <tr style=\"text-align: right;\">\n",
       "      <th></th>\n",
       "      <th>PassengerId</th>\n",
       "      <th>Survived</th>\n",
       "      <th>Pclass</th>\n",
       "      <th>Age</th>\n",
       "      <th>SibSp</th>\n",
       "      <th>Parch</th>\n",
       "      <th>Fare</th>\n",
       "    </tr>\n",
       "  </thead>\n",
       "  <tbody>\n",
       "    <tr>\n",
       "      <th>count</th>\n",
       "      <td>712.000000</td>\n",
       "      <td>712.000000</td>\n",
       "      <td>712.000000</td>\n",
       "      <td>712.000000</td>\n",
       "      <td>712.000000</td>\n",
       "      <td>712.000000</td>\n",
       "      <td>712.000000</td>\n",
       "    </tr>\n",
       "    <tr>\n",
       "      <th>mean</th>\n",
       "      <td>448.589888</td>\n",
       "      <td>0.404494</td>\n",
       "      <td>2.240169</td>\n",
       "      <td>29.642093</td>\n",
       "      <td>0.514045</td>\n",
       "      <td>0.432584</td>\n",
       "      <td>34.567251</td>\n",
       "    </tr>\n",
       "    <tr>\n",
       "      <th>std</th>\n",
       "      <td>258.683191</td>\n",
       "      <td>0.491139</td>\n",
       "      <td>0.836854</td>\n",
       "      <td>14.492933</td>\n",
       "      <td>0.930692</td>\n",
       "      <td>0.854181</td>\n",
       "      <td>52.938648</td>\n",
       "    </tr>\n",
       "    <tr>\n",
       "      <th>min</th>\n",
       "      <td>1.000000</td>\n",
       "      <td>0.000000</td>\n",
       "      <td>1.000000</td>\n",
       "      <td>0.420000</td>\n",
       "      <td>0.000000</td>\n",
       "      <td>0.000000</td>\n",
       "      <td>0.000000</td>\n",
       "    </tr>\n",
       "    <tr>\n",
       "      <th>25%</th>\n",
       "      <td>222.750000</td>\n",
       "      <td>0.000000</td>\n",
       "      <td>1.000000</td>\n",
       "      <td>20.000000</td>\n",
       "      <td>0.000000</td>\n",
       "      <td>0.000000</td>\n",
       "      <td>8.050000</td>\n",
       "    </tr>\n",
       "    <tr>\n",
       "      <th>50%</th>\n",
       "      <td>445.000000</td>\n",
       "      <td>0.000000</td>\n",
       "      <td>2.000000</td>\n",
       "      <td>28.000000</td>\n",
       "      <td>0.000000</td>\n",
       "      <td>0.000000</td>\n",
       "      <td>15.645850</td>\n",
       "    </tr>\n",
       "    <tr>\n",
       "      <th>75%</th>\n",
       "      <td>677.250000</td>\n",
       "      <td>1.000000</td>\n",
       "      <td>3.000000</td>\n",
       "      <td>38.000000</td>\n",
       "      <td>1.000000</td>\n",
       "      <td>1.000000</td>\n",
       "      <td>33.000000</td>\n",
       "    </tr>\n",
       "    <tr>\n",
       "      <th>max</th>\n",
       "      <td>891.000000</td>\n",
       "      <td>1.000000</td>\n",
       "      <td>3.000000</td>\n",
       "      <td>80.000000</td>\n",
       "      <td>5.000000</td>\n",
       "      <td>6.000000</td>\n",
       "      <td>512.329200</td>\n",
       "    </tr>\n",
       "  </tbody>\n",
       "</table>\n",
       "</div>"
      ],
      "text/plain": [
       "       PassengerId    Survived      Pclass         Age       SibSp  \\\n",
       "count   712.000000  712.000000  712.000000  712.000000  712.000000   \n",
       "mean    448.589888    0.404494    2.240169   29.642093    0.514045   \n",
       "std     258.683191    0.491139    0.836854   14.492933    0.930692   \n",
       "min       1.000000    0.000000    1.000000    0.420000    0.000000   \n",
       "25%     222.750000    0.000000    1.000000   20.000000    0.000000   \n",
       "50%     445.000000    0.000000    2.000000   28.000000    0.000000   \n",
       "75%     677.250000    1.000000    3.000000   38.000000    1.000000   \n",
       "max     891.000000    1.000000    3.000000   80.000000    5.000000   \n",
       "\n",
       "            Parch        Fare  \n",
       "count  712.000000  712.000000  \n",
       "mean     0.432584   34.567251  \n",
       "std      0.854181   52.938648  \n",
       "min      0.000000    0.000000  \n",
       "25%      0.000000    8.050000  \n",
       "50%      0.000000   15.645850  \n",
       "75%      1.000000   33.000000  \n",
       "max      6.000000  512.329200  "
      ]
     },
     "execution_count": 100,
     "metadata": {},
     "output_type": "execute_result"
    }
   ],
   "source": [
    "titanic.describe()"
   ]
  },
  {
   "cell_type": "code",
   "execution_count": 101,
   "id": "oriented-transmission",
   "metadata": {},
   "outputs": [
    {
     "data": {
      "text/plain": [
       "<AxesSubplot:>"
      ]
     },
     "execution_count": 101,
     "metadata": {},
     "output_type": "execute_result"
    },
    {
     "data": {
      "image/png": "[encoded data removed]",
      "text/plain": [
       "<Figure size 432x288 with 1 Axes>"
      ]
     },
     "metadata": {
      "needs_background": "light"
     },
     "output_type": "display_data"
    }
   ],
   "source": [
    "titanic.Age.hist()"
   ]
  },
  {
   "cell_type": "code",
   "execution_count": 102,
   "id": "potential-isolation",
   "metadata": {},
   "outputs": [
    {
     "data": {
      "text/plain": [
       "<AxesSubplot:>"
      ]
     },
     "execution_count": 102,
     "metadata": {},
     "output_type": "execute_result"
    },
    {
     "data": {
      "image/png": "[encoded data removed]",
      "text/plain": [
       "<Figure size 432x288 with 1 Axes>"
      ]
     },
     "metadata": {
      "needs_background": "light"
     },
     "output_type": "display_data"
    }
   ],
   "source": [
    "titanic.Fare.hist()"
   ]
  },
  {
   "cell_type": "code",
   "execution_count": 103,
   "id": "special-greensboro",
   "metadata": {},
   "outputs": [
    {
     "data": {
      "text/plain": [
       "0      22.0\n",
       "1      38.0\n",
       "2      26.0\n",
       "3      35.0\n",
       "4      35.0\n",
       "       ... \n",
       "885    39.0\n",
       "886    27.0\n",
       "887    19.0\n",
       "889    26.0\n",
       "890    32.0\n",
       "Name: Age, Length: 712, dtype: float64"
      ]
     },
     "execution_count": 103,
     "metadata": {},
     "output_type": "execute_result"
    }
   ],
   "source": [
    "titanic['Age']"
   ]
  },
  {
   "cell_type": "code",
   "execution_count": 104,
   "id": "touched-science",
   "metadata": {},
   "outputs": [
    {
     "data": {
      "text/html": [
       "<div>\n",
       "<style scoped>\n",
       "    .dataframe tbody tr th:only-of-type {\n",
       "        vertical-align: middle;\n",
       "    }\n",
       "\n",
       "    .dataframe tbody tr th {\n",
       "        vertical-align: top;\n",
       "    }\n",
       "\n",
       "    .dataframe thead th {\n",
       "        text-align: right;\n",
       "    }\n",
       "</style>\n",
       "<table border=\"1\" class=\"dataframe\">\n",
       "  <thead>\n",
       "    <tr style=\"text-align: right;\">\n",
       "      <th></th>\n",
       "      <th>PassengerId</th>\n",
       "    </tr>\n",
       "    <tr>\n",
       "      <th>Age</th>\n",
       "      <th></th>\n",
       "    </tr>\n",
       "  </thead>\n",
       "  <tbody>\n",
       "    <tr>\n",
       "      <th>0</th>\n",
       "      <td>100</td>\n",
       "    </tr>\n",
       "    <tr>\n",
       "      <th>1</th>\n",
       "      <td>549</td>\n",
       "    </tr>\n",
       "    <tr>\n",
       "      <th>2</th>\n",
       "      <td>63</td>\n",
       "    </tr>\n",
       "  </tbody>\n",
       "</table>\n",
       "</div>"
      ],
      "text/plain": [
       "     PassengerId\n",
       "Age             \n",
       "0            100\n",
       "1            549\n",
       "2             63"
      ]
     },
     "execution_count": 104,
     "metadata": {},
     "output_type": "execute_result"
    }
   ],
   "source": [
    "def classifyAge(x):\n",
    "    if x<=16:return 0\n",
    "    elif x>50:return 2\n",
    "    else: return 1\n",
    "\n",
    "titanic['Age'] = titanic['Age'].map(classifyAge)\n",
    "titanic.groupby('Age').count().iloc[:,:1]"
   ]
  },
  {
   "cell_type": "code",
   "execution_count": 105,
   "id": "constant-engineer",
   "metadata": {},
   "outputs": [
    {
     "data": {
      "text/html": [
       "<div>\n",
       "<style scoped>\n",
       "    .dataframe tbody tr th:only-of-type {\n",
       "        vertical-align: middle;\n",
       "    }\n",
       "\n",
       "    .dataframe tbody tr th {\n",
       "        vertical-align: top;\n",
       "    }\n",
       "\n",
       "    .dataframe thead th {\n",
       "        text-align: right;\n",
       "    }\n",
       "</style>\n",
       "<table border=\"1\" class=\"dataframe\">\n",
       "  <thead>\n",
       "    <tr style=\"text-align: right;\">\n",
       "      <th></th>\n",
       "      <th>PassengerId</th>\n",
       "    </tr>\n",
       "    <tr>\n",
       "      <th>Fare</th>\n",
       "      <th></th>\n",
       "    </tr>\n",
       "  </thead>\n",
       "  <tbody>\n",
       "    <tr>\n",
       "      <th>0</th>\n",
       "      <td>391</td>\n",
       "    </tr>\n",
       "    <tr>\n",
       "      <th>1</th>\n",
       "      <td>185</td>\n",
       "    </tr>\n",
       "    <tr>\n",
       "      <th>2</th>\n",
       "      <td>136</td>\n",
       "    </tr>\n",
       "  </tbody>\n",
       "</table>\n",
       "</div>"
      ],
      "text/plain": [
       "      PassengerId\n",
       "Fare             \n",
       "0             391\n",
       "1             185\n",
       "2             136"
      ]
     },
     "execution_count": 105,
     "metadata": {},
     "output_type": "execute_result"
    }
   ],
   "source": [
    "def classifyFare(x):\n",
    "    if x<=20:return 0\n",
    "    elif x>50:return 2\n",
    "    else: return 1\n",
    "\n",
    "titanic['Fare'] = titanic['Fare'].map(classifyFare)\n",
    "titanic.groupby('Fare').count().iloc[:,:1]"
   ]
  },
  {
   "cell_type": "markdown",
   "id": "ahead-archive",
   "metadata": {},
   "source": [
    "### 数据类型转换\n",
    "\n",
    "将Dateframe格式的数据抽出X和Y，放入输入要求的数组中。"
   ]
  },
  {
   "cell_type": "code",
   "execution_count": 133,
   "id": "written-virus",
   "metadata": {},
   "outputs": [
    {
     "name": "stdout",
     "output_type": "stream",
     "text": [
      "Label:  ['Pclass', 'Sex', 'Age', 'SibSp', 'Parch', 'Fare', 'Embarked']\n"
     ]
    }
   ],
   "source": [
    "titanic_survive = titanic['Survived']\n",
    "titanic_X = titanic.drop(labels=['PassengerId','Survived'],axis=1)\n",
    "titanic_labels = titanic_X.columns.tolist()\n",
    "print(\"Label: \",titanic_labels)\n",
    "titanic_data = titanic[titanic_labels+['Survived']].values.tolist()"
   ]
  },
  {
   "cell_type": "code",
   "execution_count": 134,
   "id": "restricted-harrison",
   "metadata": {
    "scrolled": true
   },
   "outputs": [
    {
     "data": {
      "text/plain": [
       "[[3, 'male', 1, 1, 0, 0, 'S', 0],\n",
       " [1, 'female', 1, 1, 0, 2, 'C', 1],\n",
       " [3, 'female', 1, 0, 0, 0, 'S', 1]]"
      ]
     },
     "metadata": {},
     "output_type": "display_data"
    }
   ],
   "source": [
    "display(titanic_data[:3])"
   ]
  },
  {
   "cell_type": "markdown",
   "id": "accepted-twelve",
   "metadata": {},
   "source": [
    "## 不算数的简单测试\n",
    "\n",
    "为什么不算数呢，因为1没有删除多余的print，2没有合并train.test文件[test文件不含survive所以不能用于训练分别，需要提及一下。只能分割train，依据train的结果来判断是否正确。]"
   ]
  },
  {
   "cell_type": "code",
   "execution_count": 135,
   "id": "cooperative-jonathan",
   "metadata": {},
   "outputs": [
    {
     "name": "stdout",
     "output_type": "stream",
     "text": [
      "Feature 0 . infoGain:0.09400998456880605\n",
      "Feature 1 . infoGain:0.21410831283572307\n",
      "Feature 2 . infoGain:0.010852205429086492\n",
      "Feature 3 . infoGain:0.024868993114017024\n",
      "Feature 4 . infoGain:0.030682011788098373\n",
      "Feature 5 . infoGain:0.07439877734497358\n",
      "Feature 6 . infoGain:0.027858206925992057\n",
      "Feature 0 . infoGain:0.04147079049162472\n",
      "Feature 1 . infoGain:0.025956515815038994\n",
      "Feature 2 . infoGain:0.0210431039065464\n",
      "Feature 3 . infoGain:0.017605070197630468\n",
      "Feature 4 . infoGain:0.03363541986614105\n",
      "Feature 5 . infoGain:0.01763005943178475\n",
      "Feature 0 . infoGain:0.08026391825614954\n",
      "Feature 1 . infoGain:0.01773307318873829\n",
      "Feature 2 . infoGain:0.024678088785691887\n",
      "Feature 3 . infoGain:0.02966830873696502\n",
      "Feature 4 . infoGain:0.010542020096306559\n",
      "Feature 0 . infoGain:0.013588530392043219\n",
      "Feature 1 . infoGain:0.0021602367456079463\n",
      "Feature 2 . infoGain:0.05679140056535226\n",
      "Feature 3 . infoGain:0.01999014544677702\n",
      "Feature 0 . infoGain:0.0\n",
      "Feature 1 . infoGain:0.04420098937141048\n",
      "Feature 2 . infoGain:0.0019055645046179848\n",
      "Feature 0 . infoGain:0.0\n",
      "Feature 1 . infoGain:0.00014888004894531015\n",
      "Feature 0 . infoGain:0.0\n",
      "Feature 0 . infoGain:0.0\n",
      "Feature 0 . infoGain:0.02962952124213558\n",
      "Feature 1 . infoGain:0.0016015595476547295\n",
      "Feature 2 . infoGain:0.03840567187263788\n",
      "Feature 0 . infoGain:0.0022280134226153603\n",
      "Feature 1 . infoGain:0.0009242061299820081\n",
      "Feature 0 . infoGain:0.039035952556318865\n",
      "Feature 0 . infoGain:0.14269027946047563\n",
      "Feature 0 . infoGain:0.22660618948173294\n",
      "Feature 1 . infoGain:0.005740623051456839\n",
      "Feature 0 . infoGain:0.16594919445169543\n",
      "Feature 0 . infoGain:0.002660316807006513\n",
      "Feature 1 . infoGain:0.027204256608935773\n",
      "Feature 2 . infoGain:0.01740959001827813\n",
      "Feature 3 . infoGain:0.002164379615930412\n",
      "Feature 0 . infoGain:0.0\n",
      "Feature 1 . infoGain:0.02080717509631058\n",
      "Feature 2 . infoGain:0.0008051532178469101\n",
      "Feature 0 . infoGain:0.0\n",
      "Feature 1 . infoGain:0.002127882204421616\n",
      "Feature 0 . infoGain:0.0\n",
      "Feature 0 . infoGain:0.0\n",
      "Feature 0 . infoGain:0.19087450462110933\n",
      "Feature 1 . infoGain:0.0\n",
      "Feature 2 . infoGain:0.19087450462110933\n",
      "Feature 0 . infoGain:0.0\n",
      "Feature 1 . infoGain:0.9182958340544896\n",
      "Feature 0 . infoGain:0.21876013012344842\n",
      "Feature 1 . infoGain:0.02508758272607381\n",
      "Feature 2 . infoGain:0.11261218624186475\n",
      "Feature 3 . infoGain:0.01835780765119932\n",
      "Feature 4 . infoGain:0.002812612682718929\n",
      "Feature 0 . infoGain:0.320402072002678\n",
      "Feature 1 . infoGain:0.6840384356390417\n",
      "Feature 2 . infoGain:0.012509167646966857\n",
      "Feature 3 . infoGain:0.027740167559621387\n",
      "Feature 0 . infoGain:0.006445139510163234\n",
      "Feature 1 . infoGain:0.012403171318362938\n",
      "Feature 2 . infoGain:0.011412348128790273\n",
      "Feature 3 . infoGain:0.009503394989294756\n",
      "Feature 0 . infoGain:0.005134049304030275\n",
      "Feature 1 . infoGain:0.009776190365086423\n",
      "Feature 2 . infoGain:0.008692001195350685\n",
      "Feature 0 . infoGain:0.0028861103569723934\n",
      "Feature 1 . infoGain:0.005840234725392912\n",
      "Feature 0 . infoGain:0.0031629433632739956\n",
      "Feature 0 . infoGain:0.026927428889288563\n",
      "Feature 1 . infoGain:0.01940467116824368\n",
      "Feature 0 . infoGain:0.03637309922189941\n",
      "Feature 0 . infoGain:0.022987188979232687\n",
      "Feature 1 . infoGain:0.01094461229224647\n",
      "Feature 2 . infoGain:0.03637309922189941\n",
      "Feature 3 . infoGain:0.01094461229224647\n",
      "Feature 0 . infoGain:0.0\n",
      "Feature 1 . infoGain:0.0\n",
      "Feature 2 . infoGain:0.02008994082044896\n",
      "Feature 0 . infoGain:0.0\n",
      "Feature 1 . infoGain:0.0\n",
      "Feature 0 . infoGain:0.019459671737710904\n",
      "Feature 1 . infoGain:0.01771419134423824\n",
      "Feature 2 . infoGain:0.007950958005590536\n",
      "Feature 3 . infoGain:0.023141671316847745\n",
      "Feature 4 . infoGain:0.010669273047411831\n",
      "Feature 0 . infoGain:0.04337781261146911\n",
      "Feature 1 . infoGain:0.014710622294123676\n",
      "Feature 2 . infoGain:0.02728577979538449\n",
      "Feature 3 . infoGain:0.011486888286476815\n",
      "Feature 0 . infoGain:0.19677767872596208\n",
      "Feature 1 . infoGain:0.2578314624597724\n",
      "Feature 2 . infoGain:0.0\n",
      "Feature 0 . infoGain:0.32376130822286725\n",
      "Feature 1 . infoGain:0.0737613082228673\n",
      "Feature 0 . infoGain:0.048415675908885514\n",
      "Feature 0 . infoGain:0.10917033867559889\n",
      "Feature 1 . infoGain:0.3166890883150208\n",
      "Feature 0 . infoGain:1.0\n",
      "Feature 0 . infoGain:0.004245562511822509\n",
      "Feature 1 . infoGain:0.0010701756530531181\n",
      "Feature 2 . infoGain:0.007950329691147506\n",
      "Feature 0 . infoGain:0.00013147336471663884\n",
      "Feature 1 . infoGain:0.024845789648419436\n",
      "Feature 0 . infoGain:0.03821641346730387\n",
      "Feature 0 . infoGain:0.0\n",
      "Feature 0 . infoGain:0.025850761940059863\n",
      "Feature 1 . infoGain:0.025850761940059863\n",
      "Feature 0 . infoGain:0.0\n",
      "Feature 0 . infoGain:0.0043707645851253085\n",
      "Feature 1 . infoGain:0.005436516729266483\n",
      "Feature 0 . infoGain:0.004897035953244977\n",
      "Feature 0 . infoGain:0.047349626554261226\n",
      "Feature 1 . infoGain:0.06605152876090797\n",
      "Feature 2 . infoGain:0.14463519205085462\n",
      "Feature 3 . infoGain:0.01903181462673792\n",
      "Feature 0 . infoGain:0.03637309922189935\n",
      "Feature 1 . infoGain:0.4150374992788438\n",
      "Feature 2 . infoGain:0.0\n",
      "Feature 0 . infoGain:1.0\n",
      "Feature 1 . infoGain:0.0\n",
      "Feature 0 . infoGain:0.0\n",
      "Feature 1 . infoGain:0.0\n",
      "Feature 0 . infoGain:0.0\n",
      "Feature 1 . infoGain:0.0\n",
      "Feature 2 . infoGain:0.0\n",
      "Feature 3 . infoGain:0.0\n",
      "Feature 0 . infoGain:0.2267010508317432\n",
      "Feature 1 . infoGain:0.015080838519099027\n",
      "Feature 2 . infoGain:0.0315811797454405\n",
      "Feature 3 . infoGain:0.041912234279654625\n",
      "Feature 4 . infoGain:0.09615364099705126\n",
      "Feature 5 . infoGain:0.03291081488065872\n",
      "Feature 0 . infoGain:0.022093138703582732\n",
      "Feature 1 . infoGain:0.00915414865397457\n",
      "Feature 2 . infoGain:0.040759375335429227\n",
      "Feature 3 . infoGain:0.0061382835886739096\n",
      "Feature 4 . infoGain:0.002530207984627053\n",
      "Feature 0 . infoGain:0.005528412169016228\n",
      "Feature 1 . infoGain:0.015905037322625534\n",
      "Feature 2 . infoGain:0.049163259481424665\n",
      "Feature 3 . infoGain:0.017780847514416304\n",
      "Feature 0 . infoGain:0.02008994082044896\n",
      "Feature 1 . infoGain:0.02008994082044896\n",
      "Feature 2 . infoGain:0.10218717094933333\n",
      "Feature 0 . infoGain:0.0\n",
      "Feature 1 . infoGain:0.07290559532005603\n",
      "Feature 0 . infoGain:0.0\n",
      "Feature 0 . infoGain:0.09365397497594474\n",
      "Feature 1 . infoGain:0.31168988698645606\n",
      "Feature 2 . infoGain:0.04058044144572848\n",
      "Feature 3 . infoGain:0.06405289091925426\n",
      "Feature 0 . infoGain:0.0\n",
      "Feature 1 . infoGain:0.0\n",
      "Feature 2 . infoGain:0.0\n",
      "Feature 0 . infoGain:0.031539890045342855\n",
      "Feature 1 . infoGain:0.00940402104316429\n",
      "Feature 2 . infoGain:0.029351630480935975\n",
      "Feature 3 . infoGain:0.003541688557004985\n",
      "Feature 4 . infoGain:0.013993239329356422\n",
      "Feature 0 . infoGain:0.019146109505455144\n",
      "Feature 1 . infoGain:0.018155269031505716\n",
      "Feature 2 . infoGain:0.008199658152435174\n",
      "Feature 3 . infoGain:0.012805363950658732\n",
      "Feature 0 . infoGain:0.020807175096310804\n",
      "Feature 1 . infoGain:0.017891031920160116\n",
      "Feature 2 . infoGain:0.007184531460441013\n",
      "Feature 0 . infoGain:0.007934731842281051\n",
      "Feature 1 . infoGain:0.012143763960274834\n",
      "Feature 0 . infoGain:0.010048825763979585\n",
      "Feature 0 . infoGain:0.04435695956014529\n",
      "Feature 1 . infoGain:0.031193186325649602\n",
      "Feature 2 . infoGain:0.031193186325649602\n",
      "Feature 0 . infoGain:0.027740167559621387\n",
      "Feature 1 . infoGain:0.05878020304107956\n",
      "Feature 0 . infoGain:0.0\n",
      "Feature 0 . infoGain:0.0\n",
      "Feature 1 . infoGain:0.0\n",
      "Feature 0 . infoGain:0.2516291673878229\n",
      "Feature 1 . infoGain:0.2516291673878229\n",
      "Feature 2 . infoGain:0.2516291673878229\n",
      "Feature 3 . infoGain:0.0\n",
      "Feature 0 . infoGain:0.0\n",
      "Feature 1 . infoGain:0.0\n",
      "Feature 2 . infoGain:0.0\n",
      "Feature 0 . infoGain:0.02234819644835384\n",
      "Feature 1 . infoGain:0.04474624527432658\n",
      "Feature 2 . infoGain:0.03904663940718234\n",
      "Feature 3 . infoGain:0.07639583948055562\n",
      "Feature 4 . infoGain:0.030208792381866578\n",
      "Feature 0 . infoGain:0.08264735701991022\n",
      "Feature 1 . infoGain:0.06470288597912177\n",
      "Feature 2 . infoGain:0.07331884381417197\n",
      "Feature 3 . infoGain:0.015121991827451886\n",
      "Feature 0 . infoGain:0.07021820506954257\n",
      "Feature 1 . infoGain:0.017072019514801973\n",
      "Feature 2 . infoGain:0.07021820506954257\n",
      "Feature 0 . infoGain:0.05707507634451803\n",
      "Feature 1 . infoGain:0.320402072002678\n",
      "Feature 0 . infoGain:0.0\n",
      "Feature 0 . infoGain:0.0\n",
      "Feature 1 . infoGain:0.2516291673878229\n",
      "Feature 0 . infoGain:0.31127812445913283\n",
      "Feature 0 . infoGain:0.11369626259004562\n",
      "Feature 1 . infoGain:0.11737250853464942\n",
      "Feature 2 . infoGain:0.006776969131936483\n",
      "Feature 0 . infoGain:0.0691097771991761\n",
      "Feature 1 . infoGain:0.01880158278302213\n",
      "Feature 0 . infoGain:0.03496653290585838\n",
      "Feature 0 . infoGain:0.0\n",
      "Feature 0 . infoGain:0.2916919971380596\n",
      "Feature 1 . infoGain:0.2916919971380596\n",
      "Feature 0 . infoGain:1.0\n",
      "Feature 0 . infoGain:0.006908073202176235\n",
      "Feature 1 . infoGain:0.12376458812119084\n",
      "Feature 2 . infoGain:0.08504970453630056\n",
      "Feature 3 . infoGain:0.012112459488213823\n",
      "Feature 0 . infoGain:0.3166890883150208\n",
      "Feature 1 . infoGain:0.19087450462110933\n",
      "Feature 2 . infoGain:0.048415675908885514\n",
      "Feature 0 . infoGain:0.0\n",
      "Feature 1 . infoGain:0.0\n",
      "Feature 0 . infoGain:0.0\n",
      "Feature 1 . infoGain:0.3600730651545314\n",
      "Feature 2 . infoGain:0.0\n",
      "Feature 0 . infoGain:0.0\n",
      "Feature 1 . infoGain:0.0\n",
      "Feature 0 . infoGain:0.0\n",
      "Feature 1 . infoGain:0.0\n",
      "Feature 0 . infoGain:0.0\n",
      "Feature 1 . infoGain:0.0\n",
      "Feature 2 . infoGain:0.0\n"
     ]
    },
    {
     "data": {
      "text/plain": [
       "{'Sex': {'male': {'Pclass': {1: {'Age': {0: 1,\n",
       "      1: {'Fare': {0: 0,\n",
       "        1: {'Parch': {0: {'Embarked': {'C': {'SibSp': {0: 0, 1: 1}},\n",
       "            'S': {'SibSp': {0: 0, 1: 1}}}},\n",
       "          1: 0}},\n",
       "        2: {'Embarked': {'C': {'SibSp': {0: {'Parch': {0: 0, 1: 1, 2: 0}},\n",
       "            1: {'Parch': {0: 1, 1: 0}}}},\n",
       "          'Q': 0,\n",
       "          'S': {'SibSp': {0: 0,\n",
       "            1: {'Parch': {0: 0, 1: 1, 2: 1}},\n",
       "            2: 1,\n",
       "            3: 0}}}}}},\n",
       "      2: {'Parch': {0: {'Fare': {1: {'Embarked': {'C': {'SibSp': {0: 0, 1: 1}},\n",
       "            'S': {'SibSp': {0: 0, 1: 1}}}},\n",
       "          2: 0}},\n",
       "        1: {'SibSp': {0: 0, 1: {'Embarked': {'C': 1, 'S': 0}}}},\n",
       "        2: 0,\n",
       "        4: 0}}}},\n",
       "    2: {'Age': {0: {'Parch': {0: 0, 1: 1, 2: 1}},\n",
       "      1: {'Parch': {0: {'Fare': {0: {'Embarked': {'C': 0,\n",
       "            'S': {'SibSp': {0: 0, 1: 0}}}},\n",
       "          1: {'SibSp': {0: 0, 1: {'Embarked': {'C': 0, 'S': 0}}}},\n",
       "          2: 0}},\n",
       "        1: 0,\n",
       "        2: 0}},\n",
       "      2: {'Fare': {0: {'Embarked': {'Q': 0, 'S': {'Parch': {0: 0, 1: 1}}}},\n",
       "        1: 0}}}},\n",
       "    3: {'Fare': {0: {'Age': {0: {'Parch': {0: {'SibSp': {0: {'Embarked': {'C': 0,\n",
       "              'S': 0}},\n",
       "            1: 1,\n",
       "            2: 0}},\n",
       "          1: {'Embarked': {'C': {'SibSp': {0: 1, 1: 0}}, 'S': 1}}}},\n",
       "        1: {'Embarked': {'C': {'Parch': {0: {'SibSp': {0: 0, 1: 0}},\n",
       "            1: {'SibSp': {0: 0, 1: 1}}}},\n",
       "          'Q': {'SibSp': {0: {'Parch': {0: 0, 1: 1}}, 1: 0}},\n",
       "          'S': {'Parch': {0: {'SibSp': {0: 0, 1: 0, 2: 0}}, 1: 0, 2: 0}}}},\n",
       "        2: 0}},\n",
       "      1: {'Parch': {0: 0,\n",
       "        1: 0,\n",
       "        2: {'SibSp': {0: 1,\n",
       "          1: {'Age': {0: 1, 1: 0}},\n",
       "          3: 0,\n",
       "          4: {'Embarked': {0: 0, 1: 1}},\n",
       "          5: 0}},\n",
       "        3: 0,\n",
       "        4: 0,\n",
       "        5: 0}},\n",
       "      2: {'Embarked': {0: 0, 1: 1}}}}}},\n",
       "  'female': {'Pclass': {1: {'Parch': {0: {'Fare': {1: {'Embarked': {'C': {'SibSp': {0: {'Age': {0: 0,\n",
       "              1: 1}},\n",
       "            1: 1}},\n",
       "          'S': 1}},\n",
       "        2: 1}},\n",
       "      1: 1,\n",
       "      2: {'SibSp': {0: 1, 1: {'Embarked': {0: 0, 1: 1}}, 2: 1, 3: 1}}}},\n",
       "    2: {'Age': {0: 1,\n",
       "      1: {'SibSp': {0: {'Parch': {0: {'Embarked': {'C': 1,\n",
       "            'Q': 1,\n",
       "            'S': {'Fare': {0: 1, 1: 1}}}},\n",
       "          1: 1,\n",
       "          2: 1}},\n",
       "        1: {'Parch': {0: {'Embarked': {'C': 1, 'S': {'Fare': {0: 0, 1: 1}}}},\n",
       "          1: {'Embarked': {0: 0, 1: 1}},\n",
       "          2: 1}},\n",
       "        2: 1,\n",
       "        3: 1}},\n",
       "      2: {'SibSp': {0: {'Embarked': {0: 0, 1: 1}}, 1: 1}}}},\n",
       "    3: {'Fare': {0: {'Age': {0: {'SibSp': {0: {'Embarked': {'C': 1,\n",
       "            'Q': 1,\n",
       "            'S': {'Parch': {0: 0, 1: 1}}}},\n",
       "          1: {'Embarked': {'C': {'Parch': {0: 1, 1: 0}}, 'S': 1}},\n",
       "          2: 1}},\n",
       "        1: {'Parch': {0: {'SibSp': {0: {'Embarked': {'C': 0, 'Q': 0, 'S': 1}},\n",
       "            1: {'Embarked': {0: 0, 1: 1}},\n",
       "            2: 0,\n",
       "            3: 1}},\n",
       "          1: {'SibSp': {0: {'Embarked': {'C': 0, 'S': 1}}, 1: 0}},\n",
       "          2: 1,\n",
       "          3: 1}},\n",
       "        2: 1}},\n",
       "      1: {'SibSp': {0: {'Age': {0: {'Embarked': {0: 0, 1: 1}}, 1: 0}},\n",
       "        1: {'Parch': {1: {'Embarked': {0: 0, 1: 1}},\n",
       "          3: 0,\n",
       "          4: 0,\n",
       "          5: {'Embarked': {0: 0, 1: 1}},\n",
       "          6: 0}},\n",
       "        2: 0,\n",
       "        3: 0,\n",
       "        4: {'Embarked': {0: 0, 1: 1}},\n",
       "        5: 0}}}}}}}}"
      ]
     },
     "execution_count": 135,
     "metadata": {},
     "output_type": "execute_result"
    }
   ],
   "source": [
    "treetree = createTree(titanic_data,titanic_labels)\n",
    "treetree"
   ]
  },
  {
   "cell_type": "markdown",
   "id": "valid-oliver",
   "metadata": {},
   "source": [
    "## 留出法\n",
    "\n",
    "sklearn有train_test_split，注意stratify参数"
   ]
  },
  {
   "cell_type": "markdown",
   "id": "posted-borough",
   "metadata": {},
   "source": [
    "## 交叉验证法\n",
    "\n",
    "kfold"
   ]
  },
  {
   "cell_type": "markdown",
   "id": "apparent-class",
   "metadata": {},
   "source": [
    "# sk-learn 决策树应用*\n",
    "\n",
    "使用scikit-learn工具包，实现Titanic数据集的决策树分类，并尝试进行优化。"
   ]
  },
  {
   "cell_type": "code",
   "execution_count": null,
   "id": "dependent-radical",
   "metadata": {},
   "outputs": [],
   "source": []
  }
 ],
 "metadata": {
  "kernelspec": {
   "display_name": "Python 3",
   "language": "python",
   "name": "python3"
  },
  "language_info": {
   "codemirror_mode": {
    "name": "ipython",
    "version": 3
   },
   "file_extension": ".py",
   "mimetype": "text/x-python",
   "name": "python",
   "nbconvert_exporter": "python",
   "pygments_lexer": "ipython3",
   "version": "3.6.8"
  },
  "toc": {
   "base_numbering": 1,
   "nav_menu": {},
   "number_sections": true,
   "sideBar": true,
   "skip_h1_title": false,
   "title_cell": "Table of Contents",
   "title_sidebar": "Contents",
   "toc_cell": false,
   "toc_position": {},
   "toc_section_display": true,
   "toc_window_display": false
  }
 },
 "nbformat": 4,
 "nbformat_minor": 5
}
