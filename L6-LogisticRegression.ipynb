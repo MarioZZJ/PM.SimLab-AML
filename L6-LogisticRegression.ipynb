{
 "cells": [
  {
   "cell_type": "markdown",
   "id": "stone-spice",
   "metadata": {},
   "source": [
    "## 学习和使用Logstic回归\n",
    "\n",
    "* 复习教材第5章内容，调试运行相关代码。\n",
    "* 基于教材随机梯度上升算法实现小批量随机梯度上升算法，以疝气病马数据集进行训练和测试，并与教材中的算法进行比较。\n",
    "* 查阅scikit-learn工具包中Logistic回归学习器的相关说明，了解相关函数使用方法。"
   ]
  },
  {
   "cell_type": "code",
   "execution_count": 1,
   "id": "powerful-connectivity",
   "metadata": {},
   "outputs": [],
   "source": [
    "import numpy as np\n",
    "import pandas as pd\n",
    "import matplotlib.pyplot as plt\n",
    "import math"
   ]
  },
  {
   "cell_type": "markdown",
   "id": "downtown-bennett",
   "metadata": {},
   "source": [
    "# Logistic回归实现与最优化方法\n",
    "\n",
    "使用Logistic回归进行分类的基本思想是：根据现有数据对分类边界线建立回归公式，以此进行分类。\n",
    "\n",
    "在两个类的情况下，想要的函数应该输出0或1，这类函数称为单位阶跃函数。该函数在跳跃点上从0瞬间跳跃到1，这个瞬间跳跃过程有时很难处理，而Sigmoid函数有类似的性质，从数学上更容易处理：\n",
    "\n",
    "$$\n",
    "y = \\dfrac{1}{1+e^{-z}}\n",
    "$$"
   ]
  },
  {
   "cell_type": "markdown",
   "id": "instant-default",
   "metadata": {},
   "source": [
    "## 批量梯度上升BGA\n",
    "\n",
    "sigmoid函数的输入 $z$ 可由下面公式得出\n",
    "\n",
    "$$\n",
    "z = w_0x_0 + w_1x_1 + w_2x_2 + \\cdots + w_nx_n\n",
    "\\\\ 或 \\\\\n",
    "z = \\boldsymbol{w}^T\\boldsymbol{x}\n",
    "$$\n",
    "\n",
    "梯度上升法的基本思想是：要找到某函数的最大值，最好的方法是沿着该函数的梯度方向探寻。函数 $f(x,y)$ 的梯度由下式表示：\n",
    "\n",
    "$$\n",
    "\\nabla f(x,y) = \\left(\n",
    "\\begin{align}\n",
    "\\dfrac{\\partial f(x,y)}{\\partial x} \\\\\n",
    "\\dfrac{\\partial f(x,y)}{\\partial y} \n",
    "\\end{align}\n",
    "\\right)\n",
    "$$\n",
    "\n",
    "梯度算子总是指向函数值增长最快的方向，而移动量的大小由步长 $\\alpha$ 决定。梯度上升算法的迭代公式如下：\n",
    "\n",
    "$$\n",
    "w := w+\\alpha \\nabla_w f(w)\n",
    "$$\n",
    "\n",
    "该公式将一直被迭代执行，直至达到某个停止条件（例如迭代次数达到某个指定值或算法达到某个可以允许的误差范围）。\n",
    "\n",
    "> 对应地，梯度下降算法公式为 $w := w-\\alpha \\nabla_w f(w)$\n",
    "\n",
    "梯度上升法的伪代码如下：\n",
    "\n",
    ">* 每个回归系数初始化为1\n",
    ">* 重复R次\n",
    ">   * 计算整个数据集的梯度\n",
    ">   * 使用alpha × gradient更新回归系数的向量\n",
    ">   * 返回回归系数"
   ]
  },
  {
   "cell_type": "code",
   "execution_count": 2,
   "id": "honest-medication",
   "metadata": {},
   "outputs": [],
   "source": [
    "## 5-1 Logistic回归梯度上升优化算法\n",
    "\n",
    "def loadDataSet():\n",
    "    dataMat = []; labelMat = []\n",
    "    fr = open('./data/testSet6.txt')\n",
    "    for line in fr.readlines():\n",
    "        lineArr = line.strip().split()\n",
    "        dataMat.append([1.0, float(lineArr[0]), float(lineArr[1])])\n",
    "        labelMat.append(int(lineArr[2]))\n",
    "    return dataMat,labelMat\n",
    "\n",
    "def sigmoid(inX):\n",
    "    return 1.0/(1+np.exp(-inX))\n",
    "\n",
    "def gradAscent(dataMatIn, classLabels):\n",
    "    dataMatrix = np.mat(dataMatIn)             \n",
    "    labelMat = np.mat(classLabels).transpose()\n",
    "    m,n = np.shape(dataMatrix)\n",
    "    alpha = 0.001 # 步长\n",
    "    maxCycles = 500 # 迭代次数\n",
    "    weights = np.ones((n,1))\n",
    "    for k in range(maxCycles):              \n",
    "        h = sigmoid(dataMatrix*weights)     \n",
    "        error = (labelMat - h)              # 计算真实类别与预测的差值\n",
    "        weights = weights + alpha * dataMatrix.transpose()* error #按照差值方向调整回归系数\n",
    "    return weights"
   ]
  },
  {
   "cell_type": "code",
   "execution_count": 3,
   "id": "vanilla-diamond",
   "metadata": {},
   "outputs": [],
   "source": [
    "dataArr, labelMat = loadDataSet()"
   ]
  },
  {
   "cell_type": "markdown",
   "id": "stainless-representation",
   "metadata": {},
   "source": [
    "该方法加载了一个100行的数据集，每行数据三列分别为X1、X2和标签。对数据部分增加一列X0设置初始值为1."
   ]
  },
  {
   "cell_type": "code",
   "execution_count": 4,
   "id": "metallic-arbor",
   "metadata": {},
   "outputs": [
    {
     "data": {
      "text/plain": [
       "[[1.0, -0.017612, 14.053064],\n",
       " [1.0, -1.395634, 4.662541],\n",
       " [1.0, -0.752157, 6.53862]]"
      ]
     },
     "metadata": {},
     "output_type": "display_data"
    }
   ],
   "source": [
    "display(dataArr[:3])"
   ]
  },
  {
   "cell_type": "code",
   "execution_count": 5,
   "id": "reverse-spirit",
   "metadata": {},
   "outputs": [
    {
     "data": {
      "text/plain": [
       "[0, 1, 0]"
      ]
     },
     "metadata": {},
     "output_type": "display_data"
    }
   ],
   "source": [
    "display(labelMat[:3])"
   ]
  },
  {
   "cell_type": "markdown",
   "id": "prescribed-allergy",
   "metadata": {},
   "source": [
    "使用梯度上升方法计算权值。在`gradAscnt()`方法中已经设定好目标移动步长 $\\alpha$ 值和迭代次数 `maxCycles`。程序在数据集上自动迭代计算$w := w+ \\alpha \\nabla_w f(w)$\n",
    "\n",
    "按照差值方向、设定的步长调整回归系数。500次迭代后计算出权值："
   ]
  },
  {
   "cell_type": "code",
   "execution_count": 6,
   "id": "cordless-scope",
   "metadata": {},
   "outputs": [
    {
     "data": {
      "text/plain": [
       "matrix([[ 4.12414349],\n",
       "        [ 0.48007329],\n",
       "        [-0.6168482 ]])"
      ]
     },
     "metadata": {},
     "output_type": "display_data"
    }
   ],
   "source": [
    "weights = gradAscent(dataArr, labelMat)\n",
    "display(weights)"
   ]
  },
  {
   "cell_type": "markdown",
   "id": "advance-indian",
   "metadata": {},
   "source": [
    "## 可视化决策边界\n",
    "\n",
    "仅有权值，看着还是比较抽象的，可以使用 `matplotlib` 包在坐标系中绘制决策边界。\n",
    "\n",
    "设置Sigmoid函数为0（分类为0和1的边界点），设定 $0 = w_0x_0 + w_1x_1 + w_2x_2$ ，解出 $x_1$ , $x_2$ 的关系式( $x_0=1$ )：\n",
    "\n",
    "$$\n",
    "x_2 = \\dfrac{-w_0 - w_1x_1}{w_2}\n",
    "$$"
   ]
  },
  {
   "cell_type": "code",
   "execution_count": 7,
   "id": "increasing-fields",
   "metadata": {},
   "outputs": [],
   "source": [
    "## 5-2 画出数据集和Logistic回归最佳拟合直线的函数\n",
    "\n",
    "def plotBestFit(weights):\n",
    "    dataMat,labelMat=loadDataSet()\n",
    "    dataArr = np.array(dataMat)\n",
    "    n = np.shape(dataArr)[0] \n",
    "    xcord1 = []; ycord1 = []\n",
    "    xcord2 = []; ycord2 = []\n",
    "    for i in range(n):\n",
    "        if int(labelMat[i])== 1:\n",
    "            xcord1.append(dataArr[i,1]); ycord1.append(dataArr[i,2])\n",
    "        else:\n",
    "            xcord2.append(dataArr[i,1]); ycord2.append(dataArr[i,2])\n",
    "    fig = plt.figure()\n",
    "    ax = fig.add_subplot(111)\n",
    "    ax.scatter(xcord1, ycord1, s=30, c='red', marker='s') #正例点\n",
    "    ax.scatter(xcord2, ycord2, s=30, c='green')\n",
    "    x = np.arange(-3.0, 3.0, 0.1)\n",
    "    y = (-weights[0]-weights[1]*x)/weights[2] # 设置了Sigmoid函数为0\n",
    "    ax.plot(x, y)\n",
    "    plt.xlabel('X1'); plt.ylabel('X2');\n",
    "    plt.show()"
   ]
  },
  {
   "cell_type": "code",
   "execution_count": 8,
   "id": "occupational-miller",
   "metadata": {
    "tags": []
   },
   "outputs": [
    {
     "data": {
      "image/png": "[encoded data removed]",
      "text/plain": [
       "<Figure size 432x288 with 1 Axes>"
      ]
     },
     "metadata": {
      "needs_background": "light"
     },
     "output_type": "display_data"
    }
   ],
   "source": [
    "plotBestFit(weights.getA()) # weights是numpy矩阵，将其转为数组array"
   ]
  },
  {
   "cell_type": "markdown",
   "id": "handmade-geology",
   "metadata": {},
   "source": [
    "## 伪随机梯度上升SGA\n",
    "\n",
    "梯度上升算法在每次更新回归系数时都需要遍历整个数据集，在小规模数据集上可用，但如果样本数和特征数很高，该方法的计算复杂度就太高了。\n",
    "\n",
    "一种改进的方法是一次**仅用一个样本点来更新回归系数**，该方法称为 **随机梯度上升** 算法。"
   ]
  },
  {
   "cell_type": "code",
   "execution_count": 9,
   "id": "fifteen-hostel",
   "metadata": {},
   "outputs": [],
   "source": [
    "# 5-3 随机梯度上升算法\n",
    "\n",
    "def stocGradAscent0(dataMatrix, classLabels):\n",
    "    m,n = np.shape(dataMatrix)\n",
    "    alpha = 0.01\n",
    "    weights = np.ones(n)   \n",
    "    for i in range(m):\n",
    "        h = sigmoid(sum(dataMatrix[i]*weights)) # 区别：仅使用第i条数据用于更新系数\n",
    "        error = classLabels[i] - h\n",
    "        weights = weights + alpha * error * dataMatrix[i] # 区别：仅使用第i条数据用于更新系数\n",
    "    return weights"
   ]
  },
  {
   "cell_type": "code",
   "execution_count": 10,
   "id": "broke-cherry",
   "metadata": {},
   "outputs": [
    {
     "data": {
      "text/plain": [
       "array([ 1.01702007,  0.85914348, -0.36579921])"
      ]
     },
     "metadata": {},
     "output_type": "display_data"
    },
    {
     "data": {
      "image/png": "[encoded data removed]",
      "text/plain": [
       "<Figure size 432x288 with 1 Axes>"
      ]
     },
     "metadata": {
      "needs_background": "light"
     },
     "output_type": "display_data"
    }
   ],
   "source": [
    "weights = stocGradAscent0(np.array(dataArr),labelMat)\n",
    "display(weights)\n",
    "plotBestFit(weights)"
   ]
  },
  {
   "cell_type": "markdown",
   "id": "adult-letters",
   "metadata": {},
   "source": [
    "从可视化可以看出，区分的效果一般，误分现象比较严重。\n",
    "\n",
    "这是因为执行一次`stocGradAscent0()`方法，实际上只是利用样本集的每条数据更新回归系数一次，而之前的`stocGradAscent()`迭代了500次，所以后者呈现的效果不佳，可以对这一过程进行迭代查看效果。"
   ]
  },
  {
   "cell_type": "code",
   "execution_count": 11,
   "id": "polar-robin",
   "metadata": {},
   "outputs": [],
   "source": [
    "## 多次迭代再比较，看看真本事\n",
    "\n",
    "def stocGradAscent0cycle(dataMatrix, classLabels,maxCycles = 200):\n",
    "    m,n = np.shape(dataMatrix)\n",
    "    alpha = 0.01\n",
    "    weights = np.ones(n)\n",
    "    for k in range(maxCycles):\n",
    "        for i in range(m):\n",
    "            h = sigmoid(sum(dataMatrix[i]*weights))\n",
    "            error = classLabels[i] - h\n",
    "            weights = weights + alpha * error * dataMatrix[i]\n",
    "    return weights"
   ]
  },
  {
   "cell_type": "code",
   "execution_count": 12,
   "id": "wired-hammer",
   "metadata": {},
   "outputs": [
    {
     "data": {
      "text/plain": [
       "array([ 9.55333325,  0.87771989, -1.36118565])"
      ]
     },
     "metadata": {},
     "output_type": "display_data"
    },
    {
     "data": {
      "image/png": "[encoded data removed]",
      "text/plain": [
       "<Figure size 432x288 with 1 Axes>"
      ]
     },
     "metadata": {
      "needs_background": "light"
     },
     "output_type": "display_data"
    }
   ],
   "source": [
    "maxCycle = 500\n",
    "\n",
    "weights_cycle = stocGradAscent0cycle(np.array(dataArr),labelMat,maxCycle)\n",
    "display(weights_cycle)\n",
    "plotBestFit(weights_cycle)"
   ]
  },
  {
   "cell_type": "markdown",
   "id": "private-chancellor",
   "metadata": {},
   "source": [
    "提升迭代次数到500次，最终分类效果尚可。"
   ]
  },
  {
   "cell_type": "markdown",
   "id": "instructional-nicaragua",
   "metadata": {},
   "source": [
    "## 随机梯度上升SGA\n",
    "\n",
    "实际上因为数据集本身并不是线性可分的，存在一些不能正确分类的样本点，在每次迭代时可能引发系数的一定程度的变化（图中的震荡）。另外也可以看出三个系数收敛的速度也不够快。针对这些问题，可以修改原伪随机梯度上升算法的实现来解决。\n",
    "\n",
    "改进之处在于\n",
    "\n",
    "1. 每次执行的步长 $\\alpha$ 会进行随机调整。这样可以一定程度上消除某些样本点的影响。\n",
    "\n",
    "2. 原伪随机算法中实际每轮迭代时是**顺序使用**了每一个样本点来做优化，而随机梯度上升应该是**随机选取**一个样本点来更新回归系数。这里便随机选择。当然，这还是一种无放回的采样。"
   ]
  },
  {
   "cell_type": "code",
   "execution_count": 13,
   "id": "literary-synthesis",
   "metadata": {},
   "outputs": [],
   "source": [
    "# 5-4 改进的随机梯度上升算法\n",
    "\n",
    "import random\n",
    "def stocGradAscent10(dataMatrix, classLabels, numIter=150):\n",
    "    m,n = np.shape(dataMatrix)\n",
    "    weights = np.ones(n)\n",
    "    for j in range(numIter):\n",
    "        dataIndex = list(range(m))\n",
    "        for i in range(m):\n",
    "            alpha = 4/(1.0+j+i)+0.0001    \n",
    "            randIndex = int(random.uniform(0,len(dataIndex)))\n",
    "            h = sigmoid(sum(dataMatrix[randIndex]*weights))\n",
    "            error = classLabels[randIndex] - h\n",
    "            weights = weights + alpha * error * dataMatrix[randIndex]\n",
    "            del(dataIndex[randIndex])\n",
    "    return weights"
   ]
  },
  {
   "cell_type": "code",
   "execution_count": 14,
   "id": "creative-olive",
   "metadata": {},
   "outputs": [
    {
     "data": {
      "text/plain": [
       "array([13.8236416 ,  0.90622354, -1.88789608])"
      ]
     },
     "metadata": {},
     "output_type": "display_data"
    },
    {
     "data": {
      "image/png": "[encoded data removed]",
      "text/plain": [
       "<Figure size 432x288 with 1 Axes>"
      ]
     },
     "metadata": {
      "needs_background": "light"
     },
     "output_type": "display_data"
    }
   ],
   "source": [
    "numIter = 500\n",
    "weights = stocGradAscent10(np.array(dataArr),labelMat,numIter)\n",
    "display(weights)\n",
    "plotBestFit(weights)"
   ]
  },
  {
   "cell_type": "markdown",
   "id": "dutch-small",
   "metadata": {},
   "source": [
    "同样的500轮迭代，最终效果还是不错的。"
   ]
  },
  {
   "cell_type": "markdown",
   "id": "respiratory-albuquerque",
   "metadata": {},
   "source": [
    "## 实战：疝气病症预测马死亡率（SGA实现）\n",
    "\n",
    "《实战》直接提供了预处理过的数据，方法是对缺失值填充0，这么做的原因是sigmoid(0)=0.5，对分类结果没有倾向性。"
   ]
  },
  {
   "cell_type": "code",
   "execution_count": 15,
   "id": "liked-engagement",
   "metadata": {},
   "outputs": [],
   "source": [
    "def stocGradAscent1(dataMatrix, classLabels, numIter=150):\n",
    "    m,n = np.shape(dataMatrix)\n",
    "    weights = np.ones(n)   #initialize to all ones\n",
    "    for j in range(numIter):\n",
    "        dataIndex = list(range(m))\n",
    "        for i in range(m):\n",
    "            alpha = 0.004/(1.0+j+i)+0.0001    #alpha decreases with iteration, does not \n",
    "            randIndex = int(random.uniform(0,len(dataIndex)))#go to 0 because of the constant\n",
    "            h = sigmoid(sum(dataMatrix[randIndex]*weights))\n",
    "            error = classLabels[randIndex] - h\n",
    "            weights = weights + alpha * error * dataMatrix[randIndex]\n",
    "            del(dataIndex[randIndex])\n",
    "    return weights"
   ]
  },
  {
   "cell_type": "markdown",
   "id": "heated-impression",
   "metadata": {},
   "source": [
    "注意到处理后的文件是制表符分隔的txt文件，原代码使用按行读取文件、依次添加列表的方式我认为过于繁琐，这里替换为使用`pandas`的`read_csv()`读取，将参数进行适当调整即可。"
   ]
  },
  {
   "cell_type": "code",
   "execution_count": 16,
   "id": "chubby-sierra",
   "metadata": {},
   "outputs": [],
   "source": [
    "# 5-5 Logistic回归分类函数\n",
    "def classifyVector(inX, weights):\n",
    "    prob = sigmoid(np.sum(inX*weights))\n",
    "    if prob > 0.5: return 1.0\n",
    "    else: return 0.0\n",
    "\n",
    "train = pd.read_csv('./data/horseColicTraining.txt',sep='\\t',header=None)\n",
    "trainingSet = train.iloc[:,:21];trainingLabels = train.iloc[:,21:].values.tolist() # 替换使用pandas，原代码略去\n",
    "test = pd.read_csv('./data/horseColicTest.txt',sep='\\t',header=None)\n",
    "testSet = test.iloc[:,:21];testLabels = test.iloc[:,21:]\n",
    "def colicTest(trainingSet,trainingLabels,testSet,testLabels): \n",
    "    trainWeights = stocGradAscent1(np.array(trainingSet), trainingLabels, 2000)\n",
    "    errorCount = 0\n",
    "    for index,row in testSet.iterrows():\n",
    "        if int(classifyVector(np.array(row),trainWeights)) != int(testLabels.iloc[index,0]):\n",
    "            errorCount += 1\n",
    "    errorRate = (float(errorCount)/len(testSet))\n",
    "    print (\"the error rate of this test is: %f\" % errorRate)\n",
    "    return errorRate\n",
    "\n",
    "def multiTest(trainingSet,trainingLabels,testSet,testLabels):\n",
    "    numTests = 10; errorSum=0.0\n",
    "    for k in range(numTests):\n",
    "        errorSum += colicTest(trainingSet,trainingLabels,testSet,testLabels)\n",
    "    print(\"after %d iterations the average error rate is: %f\" % (numTests, errorSum/float(numTests)))"
   ]
  },
  {
   "cell_type": "code",
   "execution_count": 17,
   "id": "unable-drink",
   "metadata": {},
   "outputs": [
    {
     "name": "stdout",
     "output_type": "stream",
     "text": [
      "the error rate of this test is: 0.417910\n",
      "the error rate of this test is: 0.373134\n",
      "the error rate of this test is: 0.373134\n",
      "the error rate of this test is: 0.358209\n",
      "the error rate of this test is: 0.358209\n",
      "the error rate of this test is: 0.373134\n",
      "the error rate of this test is: 0.373134\n",
      "the error rate of this test is: 0.388060\n",
      "the error rate of this test is: 0.373134\n",
      "the error rate of this test is: 0.328358\n",
      "after 10 iterations the average error rate is: 0.371642\n",
      "CPU times: user 1min 39s, sys: 33.1 ms, total: 1min 39s\n",
      "Wall time: 1min 39s\n"
     ]
    }
   ],
   "source": [
    "%%time\n",
    "multiTest(trainingSet,trainingLabels,testSet,testLabels)"
   ]
  },
  {
   "cell_type": "markdown",
   "id": "solid-selection",
   "metadata": {},
   "source": [
    "迭代10次，平均错误率约为0.32~0.35左右，因为原数据有近30%的缺失，所以这个成绩尚可。后续可尝试修改步长进行优化。\n",
    "\n",
    "对 $\\alpha$ 和迭代次数等进行调整，试图优化表现(i在0 ~ 299内变化，j在0 ~ 1000内变化。若分子为$10^0$量级，整体大约在 $10^{-1}$ ~ $10^{-3}$ 量级变化)：\n",
    "\n",
    "| 步长 $\\alpha$ | 迭代次数`numiter` | 错误率变化范围 | 10轮平均错误率 | \n",
    "| -------- | ---- | ----------------- | ------- |\n",
    "| $\\frac{4}{1+ij}$ | 1000 | 0.268657~0.432836 | 0.332836 |\n",
    "| $\\frac{4}{1+ij}$ | 2000 | 0.328358~0.417910 | 0.353731 |\n",
    "| $\\frac{0.04}{1+ij}$ | 2000 | 0.283582~0.328358 | 0.314925 |\n",
    "| $\\frac{0.004}{1+ij}$ | 2000 | 0.268657~0.298507 | 0.276119 |\n",
    "| $\\frac{0.0004}{1+ij}$ | 2000 | 0.402985~0.402985 | 0.402985 |\n",
    "| $\\frac{0.0004}{1+ij}$ | 10000 | 0.402985~0.402985 | 0.402985 |\n",
    "| $\\frac{0.004}{1+ij}$ | 5000 | 0.253731~0.313433 | 0.291045 |\n",
    "\n",
    "最终优化的最优平均错误率约为0.28，对应的 $\\alpha$ 量级在 $10^{-3}$ ~ $10^{-5}$，迭代次数2000."
   ]
  },
  {
   "cell_type": "markdown",
   "id": "emotional-hostel",
   "metadata": {},
   "source": [
    "## 小批量梯度上升MBGA\n",
    "\n",
    "《实战》中并未给出小批量梯度上升的实现。\n",
    "\n",
    "小批量梯度上升相比于批量梯度上升，每次随机选取训练集的小批量子集参与计算更新 $w$ 。这么做相比于普通的批量梯度上升，更新一次 $w$ 计算的量减少，能更快达到收敛；同时相比于随机梯度上升，只要`batch_size`设置合理，使用`numpy`优化的矩阵运算在执行速度上更快，收敛所需运算量也是类似的。\n",
    "\n",
    "由于选取参与计算更新 $w$ 的子集时也是随机的，所以可以考虑直接修改原随机梯度上升的实现，只需改为根据`batch_size`随机选取适当样本参与计算。"
   ]
  },
  {
   "cell_type": "code",
   "execution_count": 18,
   "id": "interstate-attachment",
   "metadata": {},
   "outputs": [],
   "source": [
    "def miniBatchGradAscent(dataMatrix, classLabels, numIter, batch_size):\n",
    "    m,n = np.shape(dataMatrix)\n",
    "    weights = np.ones((n,1))   #initialize to all ones\n",
    "    for j in range(numIter):\n",
    "        dataIndex = list(range(m))\n",
    "        rd = math.ceil(m / batch_size) #向上取整，总运算次数不小于样本数\n",
    "        for i in range(rd):\n",
    "            alpha = 0.00001 \n",
    "            randIndices = sorted(random.sample(dataIndex,min(batch_size,len(dataIndex))))\n",
    "            h = sigmoid(dataMatrix[randIndices]*weights)\n",
    "            error = np.array(classLabels)[randIndices] - np.array(h)\n",
    "            weights = weights + alpha * dataMatrix[randIndices].transpose() * error\n",
    "            dataIndex = [i for i in dataIndex if i not in randIndices] # 无放回取样\n",
    "    return weights"
   ]
  },
  {
   "cell_type": "markdown",
   "id": "ready-statement",
   "metadata": {},
   "source": [
    "## 实战：疝气病症预测马死亡率（MBGA实现）"
   ]
  },
  {
   "cell_type": "code",
   "execution_count": 19,
   "id": "established-annex",
   "metadata": {},
   "outputs": [],
   "source": [
    "def classifyVector(inX, weights):\n",
    "    prob = sigmoid(np.sum(inX*weights))\n",
    "    if prob > 0.5: return 1.0\n",
    "    else: return 0.0\n",
    "\n",
    "def colicTestMBGA(trainingSet,trainingLabels,testSet,testLabels,batch_size): \n",
    "    trainWeights = miniBatchGradAscent(np.mat(trainingSet), np.mat(trainingLabels), 2500, batch_size)\n",
    "    errorCount = 0\n",
    "    for index,row in testSet.iterrows():\n",
    "        if int(classifyVector(np.array(row),trainWeights)) != int(testLabels.iloc[index,0]):\n",
    "            errorCount += 1\n",
    "    errorRate = (float(errorCount)/len(testSet))\n",
    "    print (\"the error rate of this test is: %f\" % errorRate)\n",
    "    return errorRate\n",
    "\n",
    "def multiTestMBGA(trainingSet,trainingLabels,testSet,testLabels,batch_size=20):\n",
    "    numTests = 10; errorSum=0.0\n",
    "    for k in range(numTests):\n",
    "        errorSum += colicTestMBGA(trainingSet,trainingLabels,testSet,testLabels,batch_size)\n",
    "    print(\"after %d iterations the average error rate is: %f\" % (numTests, errorSum/float(numTests)))"
   ]
  },
  {
   "cell_type": "code",
   "execution_count": 20,
   "id": "mathematical-serbia",
   "metadata": {},
   "outputs": [
    {
     "name": "stdout",
     "output_type": "stream",
     "text": [
      "the error rate of this test is: 0.253731\n",
      "the error rate of this test is: 0.298507\n",
      "the error rate of this test is: 0.253731\n",
      "the error rate of this test is: 0.268657\n",
      "the error rate of this test is: 0.253731\n",
      "the error rate of this test is: 0.298507\n",
      "the error rate of this test is: 0.253731\n",
      "the error rate of this test is: 0.328358\n",
      "the error rate of this test is: 0.268657\n",
      "the error rate of this test is: 0.298507\n",
      "after 10 iterations the average error rate is: 0.277612\n",
      "CPU times: user 37.9 s, sys: 133 ms, total: 38 s\n",
      "Wall time: 37.9 s\n"
     ]
    }
   ],
   "source": [
    "%%time\n",
    "multiTestMBGA(trainingSet,trainingLabels,testSet,testLabels,80)"
   ]
  },
  {
   "cell_type": "markdown",
   "id": "wanted-fusion",
   "metadata": {},
   "source": [
    "对实现的小批量梯度算法进行了多次实验：\n",
    "\n",
    "| 步长 $\\alpha$ | 迭代次数`numiter` |  batch_size | 错误率变化范围 | 10轮平均错误率 | \n",
    "| ------ | ---- | --- | -------------- | ------- |\n",
    "| 0.00001 | 5000 | 20 | 0.238806~0.268657 | 0.250746 |\n",
    "| 0.00001 | 3000 | 20 | 0.223881~0.268657 | 0.247761 |\n",
    "| 0.00001 | 2500 | 20 | 0.238806~0.253731 | 0.250746 |\n",
    "| 0.00001 | 2000 | 20 | 0.238806~0.328358 | 0.285075 |\n",
    "| 0.00001 | 1500 | 20 | 0.283582~0.373134 | 0.335821 |\n",
    "| 0.00003 | 2500 | 20 | 0.253731~0.313433 | 0.283582 |\n",
    "| 0.00001 | 2500 | 80 | 0.238806~0.268657 | 0.252239 |"
   ]
  },
  {
   "cell_type": "markdown",
   "id": "rotary-democracy",
   "metadata": {},
   "source": [
    "基于测试结果得出的MBGA最优错误率为0.25左右，对应步长量级为 $10^{-5}$ ，迭代次数在2000~2500次。就本例而言，MBGA在运算速度和最终优化效果上都**略胜于**SGA。\n",
    "\n",
    "由于样本数量不是很多，所以并不能明显体现出运算量方面SGA和MGA的优劣，但是使用小批量梯度下降时，合理调整`batch_size`可以在一定程度上加快运算速度。"
   ]
  },
  {
   "cell_type": "markdown",
   "id": "expressed-calculator",
   "metadata": {},
   "source": [
    "虽然样本数量不大，但是迭代次数非常多，在我的主机上难以记录完整的迭代过程，这是一例每轮迭代10次的10次测验（代码略去），每次迭代的不同参数对应的散点颜色不同，可以看到大约3~5次迭代就可以让某一参数收敛到一个较小的范围。\n",
    "\n",
    "![index](https://downloads.mariozzj.cn/img/typora/index.png)"
   ]
  },
  {
   "cell_type": "markdown",
   "id": "statistical-things",
   "metadata": {},
   "source": [
    "## BGA、SGA、MBGA对比"
   ]
  },
  {
   "cell_type": "markdown",
   "id": "saved-landing",
   "metadata": {},
   "source": [
    "由于疝气病马数据的属性数量较多（21条），对应的权值参数也较多、计算耗时较大（从前面的计时可以看出执行一次可能要耗时1分钟），所以先选择最初的两列数据进行算法的对比。\n",
    "\n",
    "$$\n",
    "x_2 = \\dfrac{-w_0 - w_1x_1}{w_2}\n",
    "$$\n",
    "\n",
    "考虑到实际控制决策平面方向的参数不是三个参数 $w_0$、$w_1$、$w_2$而是两个比值 $-\\dfrac{w_0}{w_2}$ 、 $-\\dfrac{w_1}{w_2}$，所以要展示整体回归系数的收敛情况，只需对这两个比值的变化情况进行分析即可。我在原来的方法中稍加改动，对每一次迭代的这两个比值进行记录。"
   ]
  },
  {
   "cell_type": "code",
   "execution_count": 21,
   "id": "fresh-sullivan",
   "metadata": {},
   "outputs": [],
   "source": [
    "def batchGradAscentV(dataMatIn, classLabels, maxCycles=500,alpha=0.001):\n",
    "    dataMatrix = np.mat(dataMatIn)             \n",
    "    labelMat = np.mat(classLabels).transpose()\n",
    "    m,n = np.shape(dataMatrix)\n",
    "    weights = np.ones((n,1))\n",
    "    weights_arr = np.zeros(shape=(maxCycles,n-1))\n",
    "    for k in range(maxCycles):\n",
    "        h = sigmoid(dataMatrix*weights)  \n",
    "        error = (labelMat - h)\n",
    "        weights = weights + alpha * dataMatrix.transpose()* error\n",
    "        weights_arr[k,:] = np.array([-weights[0,0]/weights[2,0] , -weights[1,0]/weights[2,0]])\n",
    "    return np.array(weights).reshape(n,),weights_arr\n",
    "\n",
    "def stocGradAscentV(dataMatrix, classLabels, numIter=500, alpha=0.001):\n",
    "    m,n = np.shape(dataMatrix)\n",
    "    weights = np.ones(n)\n",
    "    weights_arr = np.zeros(shape=(numIter*m,n-1))\n",
    "#     weights_arr = np.zeros(shape=(numIter*m,n))\n",
    "    for j in range(numIter):\n",
    "        dataIndex = list(range(m))\n",
    "        for i in range(m):\n",
    "            randIndex = int(random.uniform(0,len(dataIndex)))\n",
    "            h = sigmoid(sum(dataMatrix[randIndex]*weights))\n",
    "            error = classLabels[randIndex] - h\n",
    "            weights = weights + ((4/(i+j+1)) + alpha) * error * dataMatrix[randIndex]\n",
    "#             weights = weights + alpha * error * dataMatrix[randIndex]\n",
    "            weights_arr[i+j*m,:] = np.array([-weights[0]/weights[2],-weights[1]/weights[2]])\n",
    "            del(dataIndex[randIndex])\n",
    "    return weights, weights_arr\n",
    "\n",
    "def miniBatchGradAscentV(dataMatrix, classLabels, numIter=500, alpha=0.001, batch_size=10):\n",
    "    dataMatrix = np.mat(dataMatrix)             \n",
    "    labelMat = np.mat(classLabels).transpose()\n",
    "    m,n = np.shape(dataMatrix)\n",
    "    rd = math.ceil(m / batch_size) #向上取整，总运算次数不小于样本数\n",
    "    weights = np.ones((n,1))\n",
    "    weights_arr = np.zeros(shape=(numIter*rd,n-1))\n",
    "    for j in range(numIter):\n",
    "        dataIndex = list(range(m))\n",
    "        for i in range(rd):\n",
    "            randIndices = sorted(random.sample(dataIndex,min(batch_size,len(dataIndex))))\n",
    "            h = sigmoid(dataMatrix[randIndices]*weights)\n",
    "            error = labelMat[randIndices] - h\n",
    "            weights = weights + ((0.4/(i+j+1)) + alpha) * dataMatrix[randIndices].transpose() * error\n",
    "#             weights = weights + alpha * dataMatrix[randIndices].transpose() * error\n",
    "            dataIndex = [i for i in dataIndex if i not in randIndices] # 无放回取样\n",
    "            weights_arr[i+j*rd,:] = np.array([-weights[0,0]/weights[2,0] , -weights[1,0]/weights[2,0]])\n",
    "    return np.array(weights).reshape(n,), weights_arr"
   ]
  },
  {
   "cell_type": "code",
   "execution_count": 22,
   "id": "wrapped-boutique",
   "metadata": {},
   "outputs": [],
   "source": [
    "dataArr, labelMat = loadDataSet()\n",
    "W_BGA, Ws_BGA = batchGradAscentV(np.array(dataArr),labelMat,500,0.001)\n",
    "W_SGA, Ws_SGA = stocGradAscentV(np.array(dataArr),labelMat,500,0.001)\n",
    "W_MBGA, Ws_MBGA = miniBatchGradAscentV(np.array(dataArr),labelMat,500,0.001,10)"
   ]
  },
  {
   "cell_type": "code",
   "execution_count": 23,
   "id": "exempt-train",
   "metadata": {},
   "outputs": [
    {
     "data": {
      "text/plain": [
       "<matplotlib.legend.Legend at 0x7f384f4632e8>"
      ]
     },
     "execution_count": 23,
     "metadata": {},
     "output_type": "execute_result"
    },
    {
     "data": {
      "image/png": "[encoded data removed]",
      "text/plain": [
       "<Figure size 1080x864 with 2 Axes>"
      ]
     },
     "metadata": {
      "needs_background": "light"
     },
     "output_type": "display_data"
    }
   ],
   "source": [
    "fig = plt.figure(figsize=(15, 12))\n",
    "ax1 = fig.add_subplot(211)\n",
    "ax1.set_title(\"GradAscent; for $y=kx+b$\")\n",
    "ax1.set_ylim((1,11));ax1.set_ylabel('b')\n",
    "ax1.plot(np.arange(0,Ws_SGA.shape[0],1),Ws_SGA[:,0],label='SGA')\n",
    "ax1.plot(np.arange(0,Ws_MBGA.shape[0]*10,10),Ws_MBGA[:,0],label='MBGA')\n",
    "ax1.plot(np.arange(0,Ws_BGA.shape[0]*100,100),Ws_BGA[:,0],label='BGA')\n",
    "ax1.legend()\n",
    "ax2 = fig.add_subplot(212)\n",
    "ax2.set_ylim((-1,5));ax2.set_ylabel('k')\n",
    "ax2.plot(np.arange(0,Ws_SGA.shape[0],1),Ws_SGA[:,1],label='SGA')\n",
    "ax2.plot(np.arange(0,Ws_MBGA.shape[0]*10,10),Ws_MBGA[:,1],label='MBGA')\n",
    "ax2.plot(np.arange(0,Ws_BGA.shape[0]*100,100),Ws_BGA[:,1],label='BGA')\n",
    "ax2.legend()"
   ]
  },
  {
   "cell_type": "markdown",
   "id": "collective-breach",
   "metadata": {},
   "source": [
    "在进行可视化时,将三张图进行了合并,并对横坐标进行适当的放缩,使得同运算量情况下三种算法的图像可重叠.\n",
    "\n",
    "从图中可以看出,回归线斜率 $k$ 和纵截距 $b$ 在迭代过程中不断收敛,收敛速度方面,同等运算量情况下小批量梯度上升MBGA和随机梯度上升SGA要快于批量梯度上升BGA.\n",
    "\n",
    "迭代中后期,MBGA和SGA均会出现小幅度震荡,后者震荡幅度稍大,这是因为随机梯度下降较容易受个别样本/噪声的影响.\n",
    "\n",
    "前期波动比较明显的原因,一是随机选取 $\\alpha$ 的方法在迭代之初使之会有较大的值,二是迭代之初上升速度(导数)都较快.\n",
    "\n",
    "《实战》认为这样一种在线学习的方式（`gradAscent1()`）比批处理的方式（`gradAscent()`）“所使用的计算量更少”，但是仅就提供的代码而言，如果迭代轮数相同，我认为二者的运算量相同，而且批处理方式由于用到了矩阵运算（`numpy`有优化，且在多核硬件如GPU上有加速效果）实际上执行速度要快于前者。\n",
    "\n",
    "查阅相关资料得知，得出*SGA收敛速度快于BGA*这一结论的原因是，就权重参数的更新频率而言，遍历一轮所有样本，BGA仅更新了一次 $w$ ，而SGA由于是用每一条数据更新，实际上更新了训练集样本数量等量次数的 $w$ ，在这一过程中（尤其是训练集样本数非常大时），有可能 $w$ 早已收敛。另外就运算速度而言,相等运算量的情况下SGA和MBGA更新的 $w$ 次数也更多."
   ]
  },
  {
   "cell_type": "markdown",
   "id": "prepared-senegal",
   "metadata": {},
   "source": [
    "如果目标都是迭代、收敛、获得最优解：\n",
    "\n",
    "1. BGA：每次更新权重参数都需要所有样本参与\n",
    "\n",
    "    优点：\n",
    "\n",
    "    * 最终表现可能是最佳的\n",
    "    * 使用矩阵进行运算，在外部库或硬件优化的情况下可能有较快速度。\n",
    "\n",
    "    缺点：\n",
    "\n",
    "    * 权重参数更新次数较少，得到最优解对应的计算量较大。\n",
    "\n",
    "\n",
    "2. SGA：每次更新权重参数随机选取1个样本参与\n",
    "\n",
    "    优点：\n",
    "\n",
    "    * 权重参数更新次数较多，能以较小运算量达到收敛\n",
    "    * 在线学习、增量学习。\n",
    "\n",
    "   缺点：\n",
    "\n",
    "    * 容易受个别样本例如噪声数据影响，准确性降低。\n",
    "\n",
    "\n",
    "3. MBGA：每次更新权重参数随机选取一部分样本参与\n",
    "\n",
    "    综合了BGA较好的准确率表现和并行运算加成，同时也可控制 $w$ 的更新次数在一个不低的水平，能相对较快收敛。\n",
    "    \n",
    "另外,我认为呈现如图规律的因素很多,不可忽视的是本次实验中实现SGA和MBGA时对 $\\alpha$ 进行了灵活变换处理.另做探究实验锁定 $\\alpha$ 为常量(与BGD维持同一水平)时,呈现规律如下(代码更改略)\n",
    "\n",
    "![另一种规律](https://downloads.mariozzj.cn/img/picgo/index1.png)\n",
    "\n",
    "从收敛速度方面而言,三者就难分伯仲了."
   ]
  },
  {
   "cell_type": "markdown",
   "id": "conventional-merchant",
   "metadata": {},
   "source": [
    "# scikit-learn实现Logistic回归\n",
    "```Python\n",
    "class sklearn.linear_model.LogisticRegression(penalty='l2', *, dual=False, tol=0.0001,\n",
    " C=1.0, fit_intercept=True, intercept_scaling=1, class_weight=None, random_state=None, \n",
    " solver='lbfgs', max_iter=100, multi_class='auto', verbose=0, warm_start=False,\n",
    "                                              n_jobs=None, l1_ratio=None)\n",
    "```"
   ]
  },
  {
   "cell_type": "markdown",
   "id": "registered-complement",
   "metadata": {},
   "source": [
    "* `solver` 构造函数，指定逻辑回归损失函数的优化方法。\n",
    "    * `liblinear`：坐标轴下降法，对于大多数少样本情况都适用。一般用于二分类。\n",
    "    * `sag`：随机平均梯度下降(Stochastic Average Gradient Descent)，在大规模数据集上运算较快。\n",
    "    * `saga`：优化的无偏估计的sag.\n",
    "    * 其他：`lbfgs`、`newton-cg`。\n",
    "\n",
    "* `penalty`损失函数惩罚参数\n",
    "    * `l1`：支持`liblinear`、`saga`；\n",
    "    * `l2`：支持`newton-cg`、`lbfgs`、`sag`、`saga`；\n",
    "    * `none`：`newton-cg`、`lbfgs`、`sag`、`saga` ;\n",
    "    * `elasticnet`：仅`saga`。\n",
    "\n",
    "* `tol`停止迭代求解的阈值\n",
    "\n",
    "* `C`正则化系数倒数。\n",
    "\n",
    "    正浮点数。\n",
    "    \n",
    "    越小模型的泛化能力越强，同时更易欠拟合。\n",
    "    \n",
    "* `max_iter`最大迭代次数\n",
    "\n",
    "* `multiclass`多分类\n",
    "\n",
    "    * `auto`\n",
    "    * `ovr`：可用二分类方法解决多分类问题（分正负例）\n",
    "    * `multinomial`：建立多个二分类模型综合实现多分类\n",
    "\n",
    "就疝气病马数据可体验参数调节。\n"
   ]
  },
  {
   "cell_type": "code",
   "execution_count": 24,
   "id": "agricultural-quarterly",
   "metadata": {},
   "outputs": [],
   "source": [
    "from sklearn.linear_model import LogisticRegression"
   ]
  },
  {
   "cell_type": "code",
   "execution_count": 25,
   "id": "successful-clock",
   "metadata": {},
   "outputs": [
    {
     "name": "stdout",
     "output_type": "stream",
     "text": [
      "CPU times: user 6.62 ms, sys: 3 µs, total: 6.63 ms\n",
      "Wall time: 6.32 ms\n"
     ]
    },
    {
     "data": {
      "text/plain": [
       "0.7313432835820896"
      ]
     },
     "execution_count": 25,
     "metadata": {},
     "output_type": "execute_result"
    }
   ],
   "source": [
    "%%time\n",
    "lr = LogisticRegression(solver='liblinear',penalty='l1')\n",
    "lr.fit(np.array(trainingSet),np.array(trainingLabels).ravel())\n",
    "lr.score(np.array(testSet),np.array(testLabels).ravel())"
   ]
  },
  {
   "cell_type": "code",
   "execution_count": 26,
   "id": "rocky-stereo",
   "metadata": {},
   "outputs": [
    {
     "name": "stderr",
     "output_type": "stream",
     "text": [
      "/usr/local/lib64/python3.6/site-packages/sklearn/linear_model/_sag.py:329: ConvergenceWarning: The max_iter was reached which means the coef_ did not converge\n",
      "  \"the coef_ did not converge\", ConvergenceWarning)\n"
     ]
    },
    {
     "data": {
      "text/plain": [
       "0.7761194029850746"
      ]
     },
     "execution_count": 26,
     "metadata": {},
     "output_type": "execute_result"
    }
   ],
   "source": [
    "lr = LogisticRegression(solver='sag',penalty='l2')\n",
    "lr.fit(np.array(trainingSet),np.array(trainingLabels).ravel())\n",
    "lr.score(np.array(testSet),np.array(testLabels).ravel())"
   ]
  },
  {
   "cell_type": "markdown",
   "id": "round-dress",
   "metadata": {},
   "source": [
    "出现报错，迭代未收敛，此时我们需要调整`max_iter`参数或者`tol`参数使之收敛。"
   ]
  },
  {
   "cell_type": "code",
   "execution_count": 27,
   "id": "interior-holiday",
   "metadata": {},
   "outputs": [
    {
     "name": "stdout",
     "output_type": "stream",
     "text": [
      "CPU times: user 100 ms, sys: 0 ns, total: 100 ms\n",
      "Wall time: 98.9 ms\n"
     ]
    },
    {
     "data": {
      "text/plain": [
       "0.7313432835820896"
      ]
     },
     "execution_count": 27,
     "metadata": {},
     "output_type": "execute_result"
    }
   ],
   "source": [
    "%%time\n",
    "lr = LogisticRegression(solver='sag',penalty='l2',max_iter=1600)\n",
    "lr.fit(np.array(trainingSet),np.array(trainingLabels).ravel())\n",
    "lr.score(np.array(testSet),np.array(testLabels).ravel())"
   ]
  },
  {
   "cell_type": "markdown",
   "id": "permanent-paradise",
   "metadata": {},
   "source": [
    "调大迭代次数，最终测试的收敛迭代次数大约在1600次。当然降低误差阈值也可以快速收敛。"
   ]
  },
  {
   "cell_type": "code",
   "execution_count": 28,
   "id": "minimal-seafood",
   "metadata": {},
   "outputs": [
    {
     "data": {
      "text/plain": [
       "0.7761194029850746"
      ]
     },
     "execution_count": 28,
     "metadata": {},
     "output_type": "execute_result"
    }
   ],
   "source": [
    "lr = LogisticRegression(solver='sag',penalty='l2',tol=0.01)\n",
    "lr.fit(np.array(trainingSet),np.array(trainingLabels).ravel())\n",
    "lr.score(np.array(testSet),np.array(testLabels).ravel())"
   ]
  },
  {
   "cell_type": "markdown",
   "id": "statutory-moisture",
   "metadata": {},
   "source": [
    "# 实验总结"
   ]
  },
  {
   "cell_type": "markdown",
   "id": "legendary-judgment",
   "metadata": {},
   "source": [
    "1. 完成了本次实验要求的各项目标，通过阅读、理解、复现、修改《实战》代码，基本掌握了Logistic回归中常用到的最优化回归系数方法的思想并总结：\n",
    "\n",
    "> 如果目标都是迭代、收敛、获得最优解：\n",
    ">\n",
    ">    1. BGA（批量梯度上升）：每次更新权重参数都需要所有样本参与\n",
    ">\n",
    ">        优点：\n",
    ">\n",
    ">        * 最终表现可能是最佳的\n",
    ">        * 使用矩阵进行运算，在外部库或硬件优化的情况下可能有较快速度。\n",
    ">\n",
    ">      缺点：\n",
    ">\n",
    ">        * 权重参数更新次数较少，得到最优解对应的计算量较大。\n",
    ">\n",
    ">\n",
    ">    2. SGA（随机梯度上升）：每次更新权重参数随机选取1个样本参与\n",
    ">\n",
    ">        优点：\n",
    ">\n",
    ">        * 权重参数更新次数较多，能以较小运算量达到收敛\n",
    ">        * 在线学习、增量学习。\n",
    ">\n",
    ">       缺点：\n",
    ">\n",
    ">        * 容易受个别样本例如噪声数据影响，准确性降低。\n",
    ">\n",
    ">\n",
    ">    3. MBGA（小批量梯度上升）：每次更新权重参数随机选取一部分样本参与\n",
    ">\n",
    ">        综合了BGA较好的准确率表现和并行运算加成，同时也可控制 $w$ 的更新次数在一个不低的水平，能相对较快收敛。\n",
    "\n",
    "同时，反思了《实战》中部分说法的不合理之处，并进行分析，进一步理解了三种最优化方法的优势和劣势。\n",
    "\n",
    "2. Logistic回归本身是寻找非线性函数（sigmoid）的最佳拟合参数，这一参数求解过程就可使用上述方法来完成。Logistic函数本身由于其函数数学特征适用于二分类问题，同时，由于我们已经求解出了函数的拟合参数，也就是获得了表达式，就可以用该函数去预测新样本。看起来分类问题和回归问题非常相似，都是要去寻找一个映射（函数）用于判断新样本的取值或分类，但是我认为二者的根本区别在于损失的判断上，分类问题只需要判断结果的对错，并以该结果影响训练；而回归问题，如本次实验中计算回归参数时，需要计算每一次拟合的误差值，并用误差去指导下一轮参数的计算。\n"
   ]
  }
 ],
 "metadata": {
  "kernelspec": {
   "display_name": "Python 3.6",
   "language": "python",
   "name": "python3"
  },
  "language_info": {
   "codemirror_mode": {
    "name": "ipython",
    "version": 3
   },
   "file_extension": ".py",
   "mimetype": "text/x-python",
   "name": "python",
   "nbconvert_exporter": "python",
   "pygments_lexer": "ipython3",
   "version": "3.6.8"
  },
  "toc": {
   "base_numbering": 1,
   "nav_menu": {},
   "number_sections": true,
   "sideBar": true,
   "skip_h1_title": false,
   "title_cell": "Table of Contents",
   "title_sidebar": "Contents",
   "toc_cell": false,
   "toc_position": {},
   "toc_section_display": true,
   "toc_window_display": false
  }
 },
 "nbformat": 4,
 "nbformat_minor": 5
}
