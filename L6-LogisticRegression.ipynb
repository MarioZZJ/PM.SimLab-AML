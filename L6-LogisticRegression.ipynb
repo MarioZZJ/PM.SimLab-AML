{
 "cells": [
  {
   "cell_type": "markdown",
   "id": "pressing-chicago",
   "metadata": {},
   "source": [
    "## 学习和使用Logstic回归\n",
    "\n",
    "* 复习教材第5章内容，调试运行相关代码。\n",
    "* 基于教材随机梯度上升算法实现小批量随机梯度上升算法，以疝气病马数据集进行训练和测试，并与教材中的算法进行比较。（第八周交电子版实验报告）\n",
    "* 查阅scikit-learn工具包中Logistic回归学习器的相关说明，了解相关函数使用方法。"
   ]
  },
  {
   "cell_type": "markdown",
   "id": "subject-complaint",
   "metadata": {},
   "source": [
    "## 实验原理"
   ]
  },
  {
   "cell_type": "code",
   "execution_count": 1,
   "id": "needed-sheffield",
   "metadata": {},
   "outputs": [],
   "source": [
    "import numpy as np\n",
    "import pandas as pd\n",
    "import matplotlib.pyplot as plt"
   ]
  },
  {
   "cell_type": "markdown",
   "id": "interesting-constitution",
   "metadata": {},
   "source": [
    "# Logistic回归：基于最优化方法的最佳回归系数确定\n",
    "\n",
    "使用Logistic回归进行分类的基本思想是：根据现有数据对分类边界线建立回归公式，以此进行分类。\n",
    "\n",
    "在两个类的情况下，想要的函数应该输出0或1，这类函数称为单位阶跃函数。该函数在跳跃点上从0瞬间跳跃到1，这个瞬间跳跃过程有时很难处理，而Sigmoid函数有类似的性质，从数学上更容易处理：\n",
    "\n",
    "$$\n",
    "y = \\dfrac{1}{1+e^{-z}}\n",
    "$$"
   ]
  },
  {
   "cell_type": "markdown",
   "id": "green-excerpt",
   "metadata": {},
   "source": [
    "## 梯度上升BGA\n",
    "\n",
    "sigmoid函数的输入 $z$ 可由下面公式得出\n",
    "\n",
    "$$\n",
    "z = w_0x_0 + w_1x_1 + w_2x_2 + \\cdots + w_nx_n\n",
    "\\\\ 或 \\\\\n",
    "z = \\boldsymbol{w}^T\\boldsymbol{x}\n",
    "$$\n",
    "\n",
    "梯度上升法的基本思想是：要找到某函数的最大值，最好的方法是沿着该函数的梯度方向探寻。函数 $f(x,y)$ 的梯度由下式表示：\n",
    "\n",
    "$$\n",
    "\\nabla f(x,y) = \\left(\n",
    "\\begin{align}\n",
    "\\dfrac{\\partial f(x,y)}{\\partial x} \\\\\n",
    "\\dfrac{\\partial f(x,y)}{\\partial y} \n",
    "\\end{align}\n",
    "\\right)\n",
    "$$\n",
    "\n",
    "梯度算子总是指向函数值增长最快的方向，而移动量的大小由步长 $\\alpha$ 决定。梯度上升算法的迭代公式如下：\n",
    "\n",
    "$$\n",
    "w := w+\\alpha \\nabla_w f(w)\n",
    "$$\n",
    "\n",
    "该公式将一直被迭代执行，直至达到某个停止条件（例如迭代次数达到某个指定值或算法达到某个可以允许的误差范围）。\n",
    "\n",
    "> 对应地，梯度下降算法公式为 $w := w-\\alpha \\nabla_w f(w)$\n",
    "\n",
    "梯度上升法的伪代码如下：\n",
    "\n",
    ">* 每个回归系数初始化为1\n",
    ">* 重复R次\n",
    "> >  * 计算整个数据集的梯度\n",
    "> >  * 使用alpha × gradient更新回归系数的向量\n",
    "> >  * 返回回归系数"
   ]
  },
  {
   "cell_type": "code",
   "execution_count": 2,
   "id": "exterior-concentration",
   "metadata": {},
   "outputs": [],
   "source": [
    "## 5-1 Logistic回归梯度上升优化算法\n",
    "\n",
    "def loadDataSet():\n",
    "    dataMat = []; labelMat = []\n",
    "    fr = open('./data/testSet6.txt')\n",
    "    for line in fr.readlines():\n",
    "        lineArr = line.strip().split()\n",
    "        dataMat.append([1.0, float(lineArr[0]), float(lineArr[1])])\n",
    "        labelMat.append(int(lineArr[2]))\n",
    "    return dataMat,labelMat\n",
    "\n",
    "def sigmoid(inX):\n",
    "    return 1.0/(1+np.exp(-inX))\n",
    "\n",
    "def gradAscent(dataMatIn, classLabels):\n",
    "    dataMatrix = np.mat(dataMatIn)             \n",
    "    labelMat = np.mat(classLabels).transpose()\n",
    "    m,n = np.shape(dataMatrix)\n",
    "    alpha = 0.001 # 步长\n",
    "    maxCycles = 500 # 迭代次数\n",
    "    weights = np.ones((n,1))\n",
    "    for k in range(maxCycles):              \n",
    "        h = sigmoid(dataMatrix*weights)     \n",
    "        error = (labelMat - h)              # 计算真实类别与预测的差值\n",
    "        weights = weights + alpha * dataMatrix.transpose()* error #按照差值方向调整回归系数\n",
    "    return weights"
   ]
  },
  {
   "cell_type": "code",
   "execution_count": 3,
   "id": "balanced-treat",
   "metadata": {},
   "outputs": [],
   "source": [
    "dataArr, labelMat = loadDataSet()"
   ]
  },
  {
   "cell_type": "markdown",
   "id": "following-chick",
   "metadata": {},
   "source": [
    "该方法加载了一个100行的数据集，每行数据三列分别为X1、X2和标签。对数据部分增加一列X0设置初始值为1."
   ]
  },
  {
   "cell_type": "code",
   "execution_count": 4,
   "id": "starting-aspect",
   "metadata": {},
   "outputs": [
    {
     "data": {
      "text/plain": [
       "[[1.0, -0.017612, 14.053064],\n",
       " [1.0, -1.395634, 4.662541],\n",
       " [1.0, -0.752157, 6.53862]]"
      ]
     },
     "metadata": {},
     "output_type": "display_data"
    }
   ],
   "source": [
    "display(dataArr[:3])"
   ]
  },
  {
   "cell_type": "code",
   "execution_count": 5,
   "id": "sitting-sentence",
   "metadata": {},
   "outputs": [
    {
     "data": {
      "text/plain": [
       "[0, 1, 0]"
      ]
     },
     "metadata": {},
     "output_type": "display_data"
    }
   ],
   "source": [
    "display(labelMat[:3])"
   ]
  },
  {
   "cell_type": "markdown",
   "id": "technological-nevada",
   "metadata": {},
   "source": [
    "使用梯度上升方法计算权值。在`gradAscnt()`方法中已经设定好目标移动步长 $\\alpha$ 值和迭代次数 `maxCycles`。程序在数据集上自动迭代计算$w := w+ \\alpha \\nabla_w f(w)$\n",
    "\n",
    "按照差值方向、设定的步长调整回归系数。500次迭代后计算出权值："
   ]
  },
  {
   "cell_type": "code",
   "execution_count": 6,
   "id": "academic-storm",
   "metadata": {},
   "outputs": [
    {
     "data": {
      "text/plain": [
       "matrix([[ 4.12414349],\n",
       "        [ 0.48007329],\n",
       "        [-0.6168482 ]])"
      ]
     },
     "metadata": {},
     "output_type": "display_data"
    }
   ],
   "source": [
    "weights = gradAscent(dataArr, labelMat)\n",
    "display(weights)"
   ]
  },
  {
   "cell_type": "markdown",
   "id": "bridal-arena",
   "metadata": {},
   "source": [
    "## 可视化决策边界\n",
    "\n",
    "仅有权值，看着还是比较抽象的，可以使用 `matplotlib` 包在坐标系中绘制决策边界。\n",
    "\n",
    "设置Sigmoid函数为0（分类为0和1的边界点），设定 $0 = w_0x_0 + w_1x_1 + w_2x_2$ ，解出 $x_1$ , $x_2$ 的关系式( $x_0=1$ )：\n",
    "\n",
    "$$\n",
    "x_2 = \\dfrac{-w_0 - w_1x_1}{w_2}\n",
    "$$"
   ]
  },
  {
   "cell_type": "code",
   "execution_count": 7,
   "id": "dirty-wisconsin",
   "metadata": {},
   "outputs": [],
   "source": [
    "## 5-2 画出数据集和Logistic回归最佳拟合直线的函数\n",
    "\n",
    "def plotBestFit(weights):\n",
    "    dataMat,labelMat=loadDataSet()\n",
    "    dataArr = np.array(dataMat)\n",
    "    n = np.shape(dataArr)[0] \n",
    "    xcord1 = []; ycord1 = []\n",
    "    xcord2 = []; ycord2 = []\n",
    "    for i in range(n):\n",
    "        if int(labelMat[i])== 1:\n",
    "            xcord1.append(dataArr[i,1]); ycord1.append(dataArr[i,2])\n",
    "        else:\n",
    "            xcord2.append(dataArr[i,1]); ycord2.append(dataArr[i,2])\n",
    "    fig = plt.figure()\n",
    "    ax = fig.add_subplot(111)\n",
    "    ax.scatter(xcord1, ycord1, s=30, c='red', marker='s') #正例点\n",
    "    ax.scatter(xcord2, ycord2, s=30, c='green')\n",
    "    x = np.arange(-3.0, 3.0, 0.1)\n",
    "    y = (-weights[0]-weights[1]*x)/weights[2] # 设置了Sigmoid函数为0\n",
    "    ax.plot(x, y)\n",
    "    plt.xlabel('X1'); plt.ylabel('X2');\n",
    "    plt.show()"
   ]
  },
  {
   "cell_type": "code",
   "execution_count": 8,
   "id": "analyzed-continent",
   "metadata": {
    "tags": []
   },
   "outputs": [
    {
     "data": {
      "image/png": "[encoded data removed]",
      "text/plain": [
       "<Figure size 432x288 with 1 Axes>"
      ]
     },
     "metadata": {
      "needs_background": "light"
     },
     "output_type": "display_data"
    }
   ],
   "source": [
    "plotBestFit(weights.getA()) # weights是numpy矩阵，将其转为数组array"
   ]
  },
  {
   "cell_type": "markdown",
   "id": "european-promise",
   "metadata": {},
   "source": [
    "## 伪随机梯度上升SGA\n",
    "\n",
    "梯度上升算法在每次更新回归系数时都需要遍历整个数据集，在小规模数据集上可用，但如果样本数和特征数很高，该方法的计算复杂度就太高了。\n",
    "\n",
    "一种改进的方法是一次**仅用一个样本点来更新回归系数**，该方法称为 **随机梯度上升** 算法。"
   ]
  },
  {
   "cell_type": "code",
   "execution_count": 9,
   "id": "plain-sauce",
   "metadata": {},
   "outputs": [],
   "source": [
    "def stocGradAscent0(dataMatrix, classLabels):\n",
    "    m,n = np.shape(dataMatrix)\n",
    "    alpha = 0.01\n",
    "    weights = np.ones(n)   \n",
    "    for i in range(m):\n",
    "        h = sigmoid(sum(dataMatrix[i]*weights)) # 区别：仅使用第i条数据用于更新系数\n",
    "        error = classLabels[i] - h\n",
    "        weights = weights + alpha * error * dataMatrix[i] # 区别：仅使用第i条数据用于更新系数\n",
    "    return weights"
   ]
  },
  {
   "cell_type": "code",
   "execution_count": 10,
   "id": "documented-track",
   "metadata": {},
   "outputs": [
    {
     "data": {
      "text/plain": [
       "array([ 1.01702007,  0.85914348, -0.36579921])"
      ]
     },
     "metadata": {},
     "output_type": "display_data"
    },
    {
     "data": {
      "image/png": "[encoded data removed]",
      "text/plain": [
       "<Figure size 432x288 with 1 Axes>"
      ]
     },
     "metadata": {
      "needs_background": "light"
     },
     "output_type": "display_data"
    }
   ],
   "source": [
    "weights = stocGradAscent0(np.array(dataArr),labelMat)\n",
    "display(weights)\n",
    "plotBestFit(weights)"
   ]
  },
  {
   "cell_type": "markdown",
   "id": "another-cassette",
   "metadata": {},
   "source": [
    "从可视化可以看出，区分的效果一般，误分现象比较严重。\n",
    "\n",
    "这是因为执行一次`stocGradAscent0()`方法，实际上只是利用样本集的每条数据更新回归系数一次，而之前的`stocGradAscent()`迭代了500次，所以后者呈现的效果不佳，可以对这一过程进行迭代查看效果。"
   ]
  },
  {
   "cell_type": "code",
   "execution_count": 11,
   "id": "confident-metadata",
   "metadata": {},
   "outputs": [],
   "source": [
    "## 多次迭代再比较，看看真本事\n",
    "\n",
    "def stocGradAscent0cycle(dataMatrix, classLabels,maxCycles = 200):\n",
    "    m,n = np.shape(dataMatrix)\n",
    "    alpha = 0.01\n",
    "    weights = np.ones(n)   #initialize to all ones\n",
    "    weights_arr = np.zeros(shape=(maxCycles*m,n))\n",
    "    for k in range(maxCycles):\n",
    "        for i in range(m):\n",
    "            h = sigmoid(sum(dataMatrix[i]*weights))\n",
    "            error = classLabels[i] - h\n",
    "            weights = weights + alpha * error * dataMatrix[i]\n",
    "            weights_arr[i+k*m,:] = weights\n",
    "    return weights,weights_arr"
   ]
  },
  {
   "cell_type": "code",
   "execution_count": 12,
   "id": "continued-suicide",
   "metadata": {},
   "outputs": [
    {
     "data": {
      "text/plain": [
       "array([ 9.55333325,  0.87771989, -1.36118565])"
      ]
     },
     "metadata": {},
     "output_type": "display_data"
    },
    {
     "data": {
      "image/png": "[encoded data removed]",
      "text/plain": [
       "<Figure size 432x288 with 1 Axes>"
      ]
     },
     "metadata": {
      "needs_background": "light"
     },
     "output_type": "display_data"
    }
   ],
   "source": [
    "maxCycle = 500\n",
    "\n",
    "weights_cycle, weights_cycle_arr = stocGradAscent0cycle(np.array(dataArr),labelMat,maxCycle)\n",
    "display(weights_cycle)\n",
    "plotBestFit(weights_cycle)"
   ]
  },
  {
   "cell_type": "markdown",
   "id": "attached-myrtle",
   "metadata": {},
   "source": [
    "提升迭代次数到500次，最终分类效果尚可。我们可以绘图查看各个系数的波动情况："
   ]
  },
  {
   "cell_type": "code",
   "execution_count": 13,
   "id": "solar-geometry",
   "metadata": {},
   "outputs": [
    {
     "data": {
      "text/plain": [
       "<matplotlib.legend.Legend at 0x7f33bd705ef0>"
      ]
     },
     "execution_count": 13,
     "metadata": {},
     "output_type": "execute_result"
    },
    {
     "data": {
      "image/png": "[encoded data removed]",
      "text/plain": [
       "<Figure size 432x288 with 3 Axes>"
      ]
     },
     "metadata": {
      "needs_background": "light"
     },
     "output_type": "display_data"
    }
   ],
   "source": [
    "import matplotlib.pyplot as plt\n",
    "fig = plt.figure()\n",
    "ax1 = fig.add_subplot(311)\n",
    "ax1.plot(range(101,maxCycle*len(dataArr)+1),weights_cycle_arr[100:,0],label='XO')\n",
    "ax2 = fig.add_subplot(312)\n",
    "ax2.plot(range(101,maxCycle*len(dataArr)+1),weights_cycle_arr[100:,1],label='X1')\n",
    "ax3 = fig.add_subplot(313)\n",
    "ax3.plot(range(101,maxCycle*len(dataArr)+1),weights_cycle_arr[100:,2],label='X2')\n",
    "ax1.legend();ax2.legend();ax3.legend()"
   ]
  },
  {
   "cell_type": "markdown",
   "id": "dominant-gardening",
   "metadata": {},
   "source": [
    "## 随机梯度上升SGA\n",
    "\n",
    "实际上因为数据集本身并不是线性可分的，存在一些不能正确分类的样本点，在每次迭代时可能引发系数的一定程度的变化（图中的震荡）。另外也可以看出三个系数收敛的速度也不够快。针对这些问题，可以修改原伪随机梯度上升算法的实现来解决。\n",
    "\n",
    "改进之处在于\n",
    "\n",
    "1. 每次执行的步长 $\\alpha$ 会进行随机调整。这样可以一定程度上消除某些样本点的影响。\n",
    "\n",
    "2. 原伪随机算法中实际每轮迭代时是使用了每一个样本点来做优化，而随机梯度上升应该是**随机选取**一个样本点来更新回归系数。这里便随机选择。"
   ]
  },
  {
   "cell_type": "code",
   "execution_count": 14,
   "id": "increased-disorder",
   "metadata": {},
   "outputs": [],
   "source": [
    "import random\n",
    "def stocGradAscent10(dataMatrix, classLabels, numIter=150):\n",
    "    m,n = np.shape(dataMatrix)\n",
    "    weights = np.ones(n)   #initialize to all ones\n",
    "    weights_arr = np.zeros(shape=(numIter*m,n))\n",
    "    for j in range(numIter):\n",
    "        dataIndex = list(range(m))\n",
    "        for i in range(m):\n",
    "            alpha = 4/(1.0+j+i)+0.0001    #alpha decreases with iteration, does not \n",
    "            randIndex = int(random.uniform(0,len(dataIndex)))#go to 0 because of the constant\n",
    "            h = sigmoid(sum(dataMatrix[randIndex]*weights))\n",
    "            error = classLabels[randIndex] - h\n",
    "            weights = weights + alpha * error * dataMatrix[randIndex]\n",
    "            weights_arr[i+j*m,:] = weights\n",
    "            del(dataIndex[randIndex])\n",
    "    return weights, weights_arr"
   ]
  },
  {
   "cell_type": "code",
   "execution_count": 15,
   "id": "solved-creation",
   "metadata": {},
   "outputs": [
    {
     "data": {
      "text/plain": [
       "array([14.07493302,  1.01817025, -1.96306059])"
      ]
     },
     "metadata": {},
     "output_type": "display_data"
    },
    {
     "data": {
      "image/png": "[encoded data removed]",
      "text/plain": [
       "<Figure size 432x288 with 1 Axes>"
      ]
     },
     "metadata": {
      "needs_background": "light"
     },
     "output_type": "display_data"
    }
   ],
   "source": [
    "numIter = 500\n",
    "weights, weights_arr = stocGradAscent10(np.array(dataArr),labelMat,numIter)\n",
    "display(weights)\n",
    "plotBestFit(weights)"
   ]
  },
  {
   "cell_type": "markdown",
   "id": "major-carry",
   "metadata": {},
   "source": [
    "同样的500轮迭代，最终效果还是不错的。"
   ]
  },
  {
   "cell_type": "code",
   "execution_count": 16,
   "id": "senior-floating",
   "metadata": {},
   "outputs": [
    {
     "data": {
      "text/plain": [
       "<matplotlib.legend.Legend at 0x7f33bd5225c0>"
      ]
     },
     "execution_count": 16,
     "metadata": {},
     "output_type": "execute_result"
    },
    {
     "data": {
      "image/png": "[encoded data removed]",
      "text/plain": [
       "<Figure size 432x288 with 3 Axes>"
      ]
     },
     "metadata": {
      "needs_background": "light"
     },
     "output_type": "display_data"
    }
   ],
   "source": [
    "fig = plt.figure()\n",
    "ax1 = fig.add_subplot(311)\n",
    "ax1.plot(range(101,maxCycle*len(dataArr)+1),weights_arr[100:,0],label='XO')\n",
    "ax2 = fig.add_subplot(312)\n",
    "ax2.plot(range(101,maxCycle*len(dataArr)+1),weights_arr[100:,1],label='X1')\n",
    "ax3 = fig.add_subplot(313)\n",
    "ax3.plot(range(101,maxCycle*len(dataArr)+1),weights_arr[100:,2],label='X2')\n",
    "ax1.legend();ax2.legend();ax3.legend()"
   ]
  },
  {
   "cell_type": "markdown",
   "id": "reserved-penny",
   "metadata": {},
   "source": [
    "虽然囿于样本和步长选择的随机性，回归参数仍然存在一定的波动，但是可以明显看到参数的波动幅度和收敛速度相对于之前的伪随机算法有所提升。\n",
    "\n",
    "前期波动比较明显的原因是随机选取 $\\alpha$ 的方法在迭代之初使之会有较大的值。（4/1 + 0.0001）\n",
    "\n",
    "《实战》认为这样一种在线学习的方式（`gradAscent1()`）比批处理的方式（`gradAscent()`）“所使用的计算量更少”，但是仅就提供的代码而言，如果迭代轮数相同，我认为二者的运算量相同，而且批处理方式由于用到了矩阵运算（`numpy`有优化，且在多核硬件如GPU上有加速效果）实际上执行速度要快于前者。\n",
    "\n",
    "查阅相关资料得知，得出SGA收敛速度快于BGA这一结论的原因是，就权重参数的更新频率而言，遍历一轮所有样本，BGA仅更新了一次 $w$ ，而SGA由于是用每一条数据更新，实际上更新了训练集样本数量等量次数的 $w$ ，在这一过程中（尤其是训练集样本数非常大时），有可能 $w$ 早已收敛。\n",
    "\n",
    "## 实战：疝气病症预测马死亡率\n",
    "\n",
    "《实战》直接提供了预处理过的数据，方法是对缺失值填充0，这么做的原因是sigmoid(0)=0.5，对分类结果没有倾向性。"
   ]
  },
  {
   "cell_type": "code",
   "execution_count": 17,
   "id": "digital-carpet",
   "metadata": {},
   "outputs": [],
   "source": [
    "def stocGradAscent1(dataMatrix, classLabels, numIter=150):\n",
    "    m,n = np.shape(dataMatrix)\n",
    "    weights = np.ones(n)   #initialize to all ones\n",
    "    for j in range(numIter):\n",
    "        dataIndex = list(range(m))\n",
    "        for i in range(m):\n",
    "            alpha = 4/(1.0+j+i)+0.0001    #alpha decreases with iteration, does not \n",
    "            randIndex = int(random.uniform(0,len(dataIndex)))#go to 0 because of the constant\n",
    "            h = sigmoid(sum(dataMatrix[randIndex]*weights))\n",
    "            error = classLabels[randIndex] - h\n",
    "            weights = weights + alpha * error * dataMatrix[randIndex]\n",
    "            del(dataIndex[randIndex])\n",
    "    return weights"
   ]
  },
  {
   "cell_type": "code",
   "execution_count": 18,
   "id": "static-owner",
   "metadata": {},
   "outputs": [],
   "source": [
    "def classifyVector(inX, weights):\n",
    "    prob = sigmoid(np.sum(inX*weights))\n",
    "    if prob > 0.5: return 1.0\n",
    "    else: return 0.0\n",
    "\n",
    "def colicTest(): \n",
    "    train = pd.read_csv('./data/horseColicTraining.txt',sep='\\t',header=None)\n",
    "    trainingSet = train.iloc[:,:21];trainingLabels = train.iloc[:,21:].values.tolist()\n",
    "    trainWeights = stocGradAscent1(np.array(trainingSet), trainingLabels, 1000)\n",
    "    test = pd.read_csv('./data/horseColicTest.txt',sep='\\t',header=None)\n",
    "    testSet = test.iloc[:,:21];testLabel = test.iloc[:,21:]\n",
    "    errorCount = 0\n",
    "    for index,row in testSet.iterrows():\n",
    "        if int(classifyVector(np.array(row),trainWeights)) != int(testLabel.iloc[index,0]):\n",
    "            errorCount += 1\n",
    "    errorRate = (float(errorCount)/len(testSet))\n",
    "    print (\"the error rate of this test is: %f\" % errorRate)\n",
    "    return errorRate\n",
    "\n",
    "def multiTest():\n",
    "    numTests = 10; errorSum=0.0\n",
    "    for k in range(numTests):\n",
    "        errorSum += colicTest()\n",
    "    print(\"after %d iterations the average error rate is: %f\" % (numTests, errorSum/float(numTests)))"
   ]
  },
  {
   "cell_type": "code",
   "execution_count": 19,
   "id": "faced-milwaukee",
   "metadata": {},
   "outputs": [
    {
     "name": "stderr",
     "output_type": "stream",
     "text": [
      "/usr/local/lib/python3.6/site-packages/ipykernel_launcher.py:13: RuntimeWarning: overflow encountered in exp\n",
      "  del sys.path[0]\n"
     ]
    },
    {
     "name": "stdout",
     "output_type": "stream",
     "text": [
      "the error rate of this test is: 0.328358\n",
      "the error rate of this test is: 0.447761\n",
      "the error rate of this test is: 0.298507\n",
      "the error rate of this test is: 0.477612\n",
      "the error rate of this test is: 0.298507\n",
      "the error rate of this test is: 0.268657\n",
      "the error rate of this test is: 0.417910\n",
      "the error rate of this test is: 0.268657\n",
      "the error rate of this test is: 0.343284\n",
      "the error rate of this test is: 0.328358\n",
      "after 10 iterations the average error rate is: 0.347761\n"
     ]
    }
   ],
   "source": [
    "multiTest()"
   ]
  },
  {
   "cell_type": "markdown",
   "id": "sudden-devil",
   "metadata": {},
   "source": [
    "迭代10次，平均准确率约为0.34左右，因为原数据有近30%的缺失，所以这个成绩尚可。后续可尝试修改步长进行优化。"
   ]
  }
 ],
 "metadata": {
  "kernelspec": {
   "display_name": "Python 3.6",
   "language": "python",
   "name": "python3"
  },
  "language_info": {
   "codemirror_mode": {
    "name": "ipython",
    "version": 3
   },
   "file_extension": ".py",
   "mimetype": "text/x-python",
   "name": "python",
   "nbconvert_exporter": "python",
   "pygments_lexer": "ipython3",
   "version": "3.6.8"
  },
  "toc": {
   "base_numbering": 1,
   "nav_menu": {},
   "number_sections": true,
   "sideBar": true,
   "skip_h1_title": false,
   "title_cell": "Table of Contents",
   "title_sidebar": "Contents",
   "toc_cell": false,
   "toc_position": {},
   "toc_section_display": true,
   "toc_window_display": false
  }
 },
 "nbformat": 4,
 "nbformat_minor": 5
}
