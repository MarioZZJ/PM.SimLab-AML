{
 "cells": [
  {
   "cell_type": "markdown",
   "id": "packed-little",
   "metadata": {},
   "source": [
    "## 学习神经网络\n",
    "\n",
    "* 查阅scikit-learn工具包中前馈神经网络学习器的相关说明，了解相关函数使用方法。\n",
    "* 基于NumPy设计一个包含输入层、隐含层和多分类输出层的前馈神经网络，并以此为基础对手写数字图像进行分类实验。（交电子版实验报告）\n",
    "\n",
    "有余力实现输入输出规模适应"
   ]
  },
  {
   "cell_type": "markdown",
   "id": "modified-robin",
   "metadata": {},
   "source": [
    "# sklearn前馈神经网络"
   ]
  },
  {
   "cell_type": "markdown",
   "id": "disturbed-aruba",
   "metadata": {},
   "source": [
    "## 加载数据"
   ]
  },
  {
   "cell_type": "code",
   "execution_count": 1,
   "id": "heard-portuguese",
   "metadata": {},
   "outputs": [
    {
     "name": "stdout",
     "output_type": "stream",
     "text": [
      "(1797, 64) (1797,)\n"
     ]
    }
   ],
   "source": [
    "import pandas as pd\n",
    "import numpy as np\n",
    "import matplotlib.pyplot as plt\n",
    "pd.options.display.latex.repr = False\n",
    "from sklearn.datasets import load_digits\n",
    "digits = load_digits()\n",
    "print(digits.data.shape,digits.target.shape)"
   ]
  },
  {
   "cell_type": "markdown",
   "id": "guided-peace",
   "metadata": {},
   "source": [
    "## 训练集、验证集、测试集分割\n",
    "\n",
    "使用`train_test_split`对训练集、测试集进行分割，使20%数据进入测试集。用Y值设定`stratify`参数，保证训练集、测试集类别分布一致。"
   ]
  },
  {
   "cell_type": "code",
   "execution_count": 2,
   "id": "proper-sixth",
   "metadata": {},
   "outputs": [],
   "source": [
    "from sklearn.model_selection import train_test_split\n",
    "X_train, X_test, y_train, y_test = train_test_split(digits.data, digits.target, test_size = 0.2, random_state = 512, stratify = digits.target)"
   ]
  },
  {
   "cell_type": "markdown",
   "id": "differential-exhibition",
   "metadata": {},
   "source": [
    "使用K折交叉验证分割训练集和验证集。"
   ]
  },
  {
   "cell_type": "code",
   "execution_count": 3,
   "id": "statewide-football",
   "metadata": {},
   "outputs": [],
   "source": [
    "from sklearn.model_selection import StratifiedKFold\n",
    "N=5\n",
    "skf = StratifiedKFold(n_splits=N,random_state=256,shuffle=True)"
   ]
  },
  {
   "cell_type": "markdown",
   "id": "reflected-scheme",
   "metadata": {},
   "source": [
    "## 模型加载\n",
    "\n",
    "`sklearn`的`neural_network`包有多层感知机分类模型`MLPClassifier()`，搭建baseline："
   ]
  },
  {
   "cell_type": "code",
   "execution_count": 4,
   "id": "interested-collectible",
   "metadata": {},
   "outputs": [
    {
     "data": {
      "text/plain": [
       "0.9722222222222222"
      ]
     },
     "execution_count": 4,
     "metadata": {},
     "output_type": "execute_result"
    }
   ],
   "source": [
    "from sklearn.neural_network import MLPClassifier\n",
    "\n",
    "clf = MLPClassifier()\n",
    "clf.fit(X_train,y_train)\n",
    "clf.score(X_test,y_test)"
   ]
  },
  {
   "cell_type": "markdown",
   "id": "false-indication",
   "metadata": {},
   "source": [
    "## 模型优化\n",
    "\n",
    "由于选择的是小手写数据集，每条记录仅由64维0-1数据构成，默认参数下模型就能有较好表现。查阅`sklearn`参数后，发现多层感知机有多个参数可以调节：\n",
    "```Python\n",
    "class sklearn.neural_network.MLPClassifier(hidden_layer_sizes=100, activation='relu', *, solver='adam', alpha=0.0001, batch_size='auto', learning_rate='constant', learning_rate_init=0.001, power_t=0.5, max_iter=200, shuffle=True, random_state=None, tol=0.0001, verbose=False, warm_start=False, momentum=0.9, nesterovs_momentum=True, early_stopping=False, validation_fraction=0.1, beta_1=0.9, beta_2=0.999, epsilon=1e-08, n_iter_no_change=10, max_fun=15000)\n",
    "```\n",
    "\n",
    "* `hidden_layer_sizes`: 隐层规模，可以传入多维数组，第i维数值代表第i层隐层的神经元数量。这个参数可以直观调整网络结构。\n",
    "* `activation`：激活函数，可取`identity`（$f(x)=x$）、`logistic`（$f(x)=\\dfrac{1}{1+e^{-x}}$）、`tanh`（$f(x)=\\tanh{(x)}$）、`relu`（$f(x)=\\max(0,x)$）\n",
    "* `solver`：权值优化器，默认`adam`在大数据集上表现很好，小数据集其实可以改为`lbfgs`提升速度。\n",
    "* `learning_rate_init`：初始学习率，默认为0.001\n",
    "* `learning_rate`：学习率更新方式：`constant`不变，`invscaling`使学习率按轮数t衰减，由参数`power_t`控制： $lr_{t}= \\dfrac{lr_{\\text{init}}}{t^\\text{power_t}}$，`adaptive`若连续两轮损失函数减少值/验证集准确率增加值少于`tol`则当前准确率除以5，否则保持不变。\n",
    "\n",
    "…………"
   ]
  },
  {
   "cell_type": "markdown",
   "id": "convertible-thought",
   "metadata": {},
   "source": [
    "因为数据集规模小，后续`solver`都采用`lbfgs`，调节其他参数。先尝试调节学习率："
   ]
  },
  {
   "cell_type": "code",
   "execution_count": 5,
   "id": "comparative-chapter",
   "metadata": {},
   "outputs": [
    {
     "name": "stdout",
     "output_type": "stream",
     "text": [
      "Training Score: 1.000\n",
      "Validation Score: 0.974\n"
     ]
    }
   ],
   "source": [
    "ts = 0; vs = 0;\n",
    "for train_idx, val_idx in skf.split(X_train,y_train):\n",
    "    clf = MLPClassifier(solver='lbfgs',learning_rate_init=0.01,learning_rate='adaptive')\n",
    "    clf.fit(X_train[train_idx], y_train[train_idx])\n",
    "    ts += clf.score(X_train[train_idx],y_train[train_idx])\n",
    "    vs += clf.score(X_train[val_idx],y_train[val_idx])\n",
    "print('Training Score: %.3f' % float(ts/N))\n",
    "print('Validation Score: %.3f' % float(vs/N))"
   ]
  },
  {
   "cell_type": "markdown",
   "id": "wired-shark",
   "metadata": {},
   "source": [
    "设定初始参数为不同数量级（$10^{-1}$ ~ $10^{-7}$）,最终验证集准确率均在0.96~0.97水平之间。可能这是因为数据复杂度不高，学习率的影响不大。\n",
    "\n",
    "尝试调节网络结构："
   ]
  },
  {
   "cell_type": "code",
   "execution_count": 6,
   "id": "restricted-lodging",
   "metadata": {},
   "outputs": [
    {
     "name": "stdout",
     "output_type": "stream",
     "text": [
      "Training Score: 1.000\n",
      "Validation Score: 0.945\n"
     ]
    }
   ],
   "source": [
    "ts = 0; vs = 0;\n",
    "for train_idx, val_idx in skf.split(X_train,y_train):\n",
    "    clf = MLPClassifier(solver='lbfgs',hidden_layer_sizes=(16,16))\n",
    "    clf.fit(X_train[train_idx], y_train[train_idx])\n",
    "    ts += clf.score(X_train[train_idx],y_train[train_idx])\n",
    "    vs += clf.score(X_train[val_idx],y_train[val_idx])\n",
    "print('Training Score: %.3f' % float(ts/N))\n",
    "print('Validation Score: %.3f' % float(vs/N))"
   ]
  },
  {
   "cell_type": "markdown",
   "id": "proud-diploma",
   "metadata": {},
   "source": [
    "当调整隐层神经元数量为较小值时，准确率会出现明显的下降，甚至有的迭代过程中会导致函数出现无法收敛的报错。\n",
    "\n",
    "当调整隐层神经元数量小于分类数时，这时的模型已经非常不合理，通过少于分类数的运算，输出层无法得出所有可能输出，准确率出现明显的下降。"
   ]
  },
  {
   "cell_type": "code",
   "execution_count": 7,
   "id": "saving-immunology",
   "metadata": {},
   "outputs": [
    {
     "name": "stdout",
     "output_type": "stream",
     "text": [
      "Training Score: 1.000\n",
      "Validation Score: 0.973\n"
     ]
    }
   ],
   "source": [
    "ts = 0; vs = 0;\n",
    "for train_idx, val_idx in skf.split(X_train,y_train):\n",
    "    clf = MLPClassifier(solver='lbfgs',hidden_layer_sizes=(200,100))\n",
    "    clf.fit(X_train[train_idx], y_train[train_idx])\n",
    "    ts += clf.score(X_train[train_idx],y_train[train_idx])\n",
    "    vs += clf.score(X_train[val_idx],y_train[val_idx])\n",
    "print('Training Score: %.3f' % float(ts/N))\n",
    "print('Validation Score: %.3f' % float(vs/N))"
   ]
  },
  {
   "cell_type": "markdown",
   "id": "convertible-there",
   "metadata": {},
   "source": [
    "当调整隐层神经元数量至较大值或者随意地增加隐层数目，会增加模型复杂度，导致运算时间增大，而准确率提升不明显。\n",
    "\n",
    "所以，隐层参数应根据问题进行合理调整，并且一般后面的隐层神经元数量要小于等于上一隐层。"
   ]
  },
  {
   "cell_type": "markdown",
   "id": "instrumental-librarian",
   "metadata": {},
   "source": [
    "# 神经网络实现-基于Numpy"
   ]
  },
  {
   "cell_type": "markdown",
   "id": "seventh-equity",
   "metadata": {},
   "source": [
    "## 神经元结构确定"
   ]
  },
  {
   "cell_type": "markdown",
   "id": "biblical-sterling",
   "metadata": {},
   "source": [
    "### 基本结构：权重、偏置、输入输出\n",
    "首先，观察一个神经元的结构：\n",
    "\n",
    "![](https://downloads.mariozzj.cn/img/picgo/图片1.png?imageMogr2/thumbnail/!50p)\n",
    "\n",
    "\n",
    "在一个前馈神经网络中，一个神经元需要接受上一层的所有神经元的输出$\\boldsymbol{x}^{(l-1)}=(x_1^{(l-1)},x_2^{(l-1)},\\cdots,x_n^{(l-1)})$，乘上权重$\\boldsymbol{w}^{(l)}=(w_1^{(l-1)},w_2^{(l-1)},\\cdots,w_n^{(l-1)})$加上偏置$b^{(l)}_i$作为输入$\\alpha_i^{(l)}=\\boldsymbol{w}_i^{(l)}\\cdot \\boldsymbol{x}_i^{(l-1)}+b^{(l)}_i$，而本层将输入用激活函数$\\sigma(\\alpha_i^{(l)})$进行计算，得到输出$x_i^{(l)}=\\sigma(\\boldsymbol{\\alpha})$。\n",
    "\n",
    "所以，对于一层的神经元而言，需要的基础变量是上一层的输入对应的权重$\\boldsymbol{w}^{(l)}$、偏置$\\boldsymbol{b}^{(l)}$，以及指定的激活函数。在训练过程中，需要对$\\boldsymbol{w}^{(l)}$、$\\boldsymbol{b}^{(l)}$进行更新:\n",
    "\n",
    "$$\n",
    " w \\leftarrow w-\\eta \\dfrac{\\partial\\mathcal{L}}{\\partial w} \\\\\n",
    " b \\leftarrow b-\\eta \\dfrac{\\partial\\mathcal{L}}{\\partial b} \n",
    "$$\n",
    "\n",
    "其中$\\mathcal{L}$是损失函数，$\\eta$为学习率。"
   ]
  },
  {
   "cell_type": "code",
   "execution_count": 8,
   "id": "sorted-stocks",
   "metadata": {},
   "outputs": [],
   "source": [
    "class Layer:\n",
    "    def __init__(self, size, prevsize):\n",
    "        self.w = np.random.randn(prevsize,size)\n",
    "        self.b = np.random.randn(size,1)\n",
    "        self.alpha = np.zeros((size,1))\n",
    "        self.x = np.zeros((size,1))"
   ]
  },
  {
   "cell_type": "markdown",
   "id": "young-exchange",
   "metadata": {},
   "source": [
    "### 损失函数\n",
    "\n",
    "由于参数的更新涉及到求导，损失函数可以选用易于求导的函数，对训练例$(\\boldsymbol{x}_k,\\boldsymbol{y}_k)$，设输出层输出为$\\hat{y}_j^k(j=1,2,\\cdots,l)$，目标输出为$\\boldsymbol{y}_k=(y_1^k,y_2^k,\\cdots,y_l^k)$，损失函数可采用交叉熵损失函数\n",
    "\n",
    "$$\n",
    "\\mathcal{L}(\\boldsymbol{y}_k,\\boldsymbol{\\hat{y}}_k)=\\sum\\limits_{j=1}^l y_j^k\\log\\hat{y}_j^k\n",
    "$$\n",
    "\n",
    "其偏微分是易求的，例如对输出层第m个输出$\\hat{y}_m^k$的偏微分$\\dfrac{\\partial\\mathcal{L}}{\\partial \\hat{y}_m^k}=\\dfrac{y_m^k}{\\hat{y}_m^k}$"
   ]
  },
  {
   "cell_type": "code",
   "execution_count": 9,
   "id": "different-sperm",
   "metadata": {},
   "outputs": [],
   "source": [
    "def crossEntropy(y,y_pred):\n",
    "    return -np.sum(y.T*np.log(y_pred+1e-16)) #y_pred加上一个\"无穷小量\"，防止出现对数为0."
   ]
  },
  {
   "cell_type": "markdown",
   "id": "standing-insertion",
   "metadata": {},
   "source": [
    "### 激活函数\n",
    "\n",
    "由于参数的更新涉及到求导，为简化这一过程的实现，隐藏层的激活函数可以采用Logistic函数$\\sigma(x) = \\dfrac{1}{1+e^{-x}}$，因为这一函数的导数具有容易计算的优秀性质：$\\sigma'(x)=\\sigma(x)(1-\\sigma(x))$。也可以采用Relu函数$\\text{Relu}(x)=\\max(0,x)$，导数为$\\text{Relu}'(x)=\\left\\{ \\begin{align}1,\\ &x\\ge 0\\\\ 0, \\ &x\\lt 0\\end{align}\\right.$\n",
    "\n",
    "而输出层的激活函数可以根据任务而定，本任务为手写数字分类，为多分类任务，可以使用Softmax函数。\n",
    "\n",
    "Softmax函数的求导较为复杂，通过阅读[@永远在你身后 的博文](https://zhuanlan.zhihu.com/p/67759205)，发现在本次应用中可以将其简化，这篇文章的推导最终指出，使用交叉熵作为多分类计算的损失函数时，\n",
    "$$\n",
    "\\dfrac{\\partial \\mathcal{L}}{\\partial \\alpha_i^{(\\text{output})}}=\\text{Softmax}\\left(\\alpha_i^{(\\text{output})}\\right)-y_i\n",
    "$$\n",
    "\n",
    "其中，$y_i$为0或1，为1时为正确样本分类。\n",
    "\n",
    "即不体现计算$\\dfrac{\\partial \\mathcal{L}}{\\partial x_i^{(\\text{output})}}\\dfrac{\\partial x_i^{(\\text{output})}}{\\partial \\alpha_i^{(\\text{output})}}$ 而是直接计算 $\\dfrac{\\partial \\mathcal{L}}{\\partial \\alpha_i^{(\\text{output})}}$。\n",
    "\n",
    "输入层不需要激活函数（identity即可）。"
   ]
  },
  {
   "cell_type": "code",
   "execution_count": 10,
   "id": "endangered-hours",
   "metadata": {},
   "outputs": [],
   "source": [
    "class sigmoid:\n",
    "    def __init__(self):\n",
    "        pass\n",
    "    def func(self,X):\n",
    "        return 1.0/(1+np.exp(-X))\n",
    "    def deriv(self,X):\n",
    "        return self.func(X)*(1-self.func(X))\n",
    "\n",
    "class relu:\n",
    "    def __init__(self):\n",
    "        pass\n",
    "    def func(self,X):\n",
    "        return np.maximum(0,X)\n",
    "    def deriv(self,X):\n",
    "        return 1*(X >= 0)\n",
    "\n",
    "class softmax:\n",
    "    def __init__(self):pass\n",
    "    def func(self,X):\n",
    "        return np.exp(X-X.max())/np.sum(np.exp(X-X.max()))\n",
    "    # 统一减去最大值可以保证不出现溢出，同时因为存在归一化所以结果不变\n",
    "    # 仅用于输出层，不可调整，故不定义导数\n",
    "    \n",
    "class identity:\n",
    "    def __init__(self):pass\n",
    "    def func(self,X): return X\n",
    "    def deriv(self,X): return 1"
   ]
  },
  {
   "cell_type": "markdown",
   "id": "together-terrorism",
   "metadata": {},
   "source": [
    "### 参数更新：基于反向传播\n",
    "\n",
    "损失函数我们只有在输出层通过计算得到，所以要想实现对参数的更新，要先通过参数计算前向传播到输出层得到损失，再反向传播求偏导更新各层参数。\n",
    "![](https://downloads.mariozzj.cn/img/picgo/图片4.png)\n",
    "\n",
    "\n"
   ]
  },
  {
   "cell_type": "markdown",
   "id": "republican-roller",
   "metadata": {},
   "source": [
    "由$\\alpha_i^{(l)}=\\sum\\limits_{j=1}^{N_{l-1}} w_{ji}^{(l)}x_j^{(l-1)}+b_i^{(l)}$知$\\dfrac{\\partial \\alpha_i^{(l)}}{\\partial x_j^{(l-1)}}=w_{ji}^{(l)}$，$\\dfrac{\\partial \\alpha_i^{(l)}}{\\partial w_{ji}^{(l)}}=x_{j}^{(l-1)}$，$\\dfrac{\\partial \\alpha_i^{(l)}}{\\partial b}=1$。\n",
    "\n",
    "由$x_i^{(l)}=\\sigma(\\alpha_i^{(l)})$知$\\dfrac{\\partial x_i^{(l)}}{\\partial \\alpha_i^{(l)}}=\\sigma'(\\alpha_i^{(l)})=\\sigma(\\alpha_i^{(l)})\\times\\sigma(1-\\alpha_i^{(l)})$。\n",
    "\n",
    "所以，结合上图，要实现对参数的更新，需要从输出层开始迭代计算才能得到。则更新参数：\n",
    "\n",
    "$$\n",
    "\\begin{align}\n",
    "w_{ij}^{(l)} &= w_{ij}^{(l)} - \\eta\\dfrac{\\partial \\mathcal{L}}{\\partial w_{ij}^{(l)}}\\\\\n",
    "&= w_{ij}^{(l)} - \\eta\\sum\\limits_{m}^{N_L}\\dfrac{\\partial \\mathcal{L}}{\\partial \\hat{y}_m}\\dfrac{\\partial \\hat{y}_m}{\\partial \\alpha_m^{(L)}}\\left(\\sum\\limits_{m}^{N_{L}}\\sum\\limits_{p}^{N_{L-1}}\\dfrac{\\partial \\alpha_m^{(L)}}{\\partial x_p^{(L-1)}}\\dfrac{\\partial x_p^{(L-1)}}{\\partial \\alpha_p^{(L-1)}}\\cdots\\sum\\limits_{q}^{N_{l+1}}\\sum\\limits_{r}^{N_{l}}\\dfrac{\\partial \\alpha_q^{(l+1)}}{\\partial x_r^{(l)}}\\dfrac{\\partial x_r^{(l)}}{\\partial \\alpha_r^{(l)}}\\cdot\\dfrac{\\partial \\alpha_r^{(l)}}{\\partial w_{ij}^{(l)}}\\right)\\\\\n",
    "b_{j}^{(l)} &= b_{j}^{(l)} - \\eta\\dfrac{\\partial \\mathcal{L}}{\\partial b_{j}^{(l)}}\\\\\n",
    "&= b_{j}^{(l)} - \\eta\\sum\\limits_{m}^{N_L}\\dfrac{\\partial \\mathcal{L}}{\\partial \\hat{y}_m}\\dfrac{\\partial \\hat{y}_m}{\\partial \\alpha_m^{(L)}}\\left(\\sum\\limits_{m}^{N_{L}}\\sum\\limits_{p}^{N_{L-1}}\\dfrac{\\partial \\alpha_m^{(L)}}{\\partial x_p^{(L-1)}}\\dfrac{\\partial x_p^{(L-1)}}{\\partial \\alpha_p^{(L-1)}}\\cdots\\sum\\limits_{q}^{N_{l+1}}\\sum\\limits_{r}^{N_{l}}\\dfrac{\\partial \\alpha_q^{(l+1)}}{\\partial x_r^{(l)}}\\dfrac{\\partial x_r^{(l)}}{\\partial \\alpha_r^{(l)}}\\cdot\\dfrac{\\partial \\alpha_r^{(l)}}{\\partial b_{j}^{(l)}}\\right)\n",
    "\\end{align}\n",
    "$$\n",
    "实际上，要更新某一层网络的参数，需要首先算出的是损失函数对当前神经元输入的偏微分$\\dfrac{\\partial \\mathcal{L}}{\\partial \\alpha_i^{(l)}}$，再分别求输入对$w$、$b$的偏微分。而算出$\\dfrac{\\partial \\mathcal{L}}{\\partial \\alpha_i^{(l)}}$实际上依赖于下一层的梯度$\\dfrac{\\partial \\mathcal{L}}{\\partial \\alpha_j^{(l+1)}}(j=1,2,\\cdots.N_{l+1})$，以此类推，所以还需要一个属性用于存储该梯度，便于反向运算。\n"
   ]
  },
  {
   "cell_type": "markdown",
   "id": "stylish-threat",
   "metadata": {},
   "source": [
    "### 层结构确定\n",
    "\n",
    "* 基本结构：\n",
    "    * 权重矩阵`w`，规模为上层神经元数量×本层神经元数量。还要加上一个旧$w$的存储。\n",
    "    * 偏置向量`b`，规模为本层神经元数量×1。\n",
    "    * 本层输入向量`x`：规模为本层神经元数量×1。\n",
    "    * 本层输出向量$\\alpha$：规模为本层神经元数量×1。\n",
    "    * 梯度向量：存储$\\dfrac{\\partial \\mathcal{L}}{\\partial \\alpha_i^{(l)}}$值，规模为本层神经元数量×1。\n",
    "    * 损失函数\n",
    "    * 指向上一层（前向传播和反向传播求$w$导数时用到了上一层的$x$）、下一层（反向传播用到了后层的梯度和$w$）的指针。\n",
    "\n",
    "* 方法：\n",
    "    * 初始化：随机指定$w$、$b$\n",
    "    * `forward()`实现前向传播\n",
    "        * 根据上层输出计算本层输入$\\alpha_i^{(l)}=\\sum\\limits_{j=1}^{N_{l-1}}w_{ji}^{(l)}x_j^{(l-1)} + b_i^{(l)}$\n",
    "        * 使用激活函数算出本层输出$x_i^{(l)}=\\sigma(\\alpha_i^{(l)})$\n",
    "        * 递归调用后一层的`forward()`\n",
    "    * `backPropagation()`实现反向传播\n",
    "        * 计算本层梯度$\\dfrac{\\partial \\mathcal{L}}{\\partial \\alpha_i^{(l)}}=\\sigma'(\\alpha_i^{(l)})\\cdot\\left(\\sum\\limits_{j=1}^{N_{l-1}}\\dfrac{\\partial \\mathcal{L}}{\\partial \\alpha_j^{(l+1)}}w_{ij}^{(l+1)}\\right)$。\n",
    "        * 更新参数$w_{ij}^{(l)}=w_{ij}^{(l)}-\\eta\\dfrac{\\partial \\mathcal{L}}{\\partial \\alpha_i^{(l)}}\\cdot x_i^{(l)}$；$b_{i}^{(l)}=b_{i}^{(l)}-\\eta\\dfrac{\\partial \\mathcal{L}}{\\partial \\alpha_i^{(l)}}\\cdot1$\n",
    "        * 递归调用前一层的BP.\n",
    "    \n",
    "* 继承：\n",
    "    * 设定隐层为基类`Layer`，输入层和输出层集成基类，重写方法。更改指定的激活函数。\n",
    "    * 输出层`outputLayer`：\n",
    "        * 追加属性`y`，存储目标值\n",
    "        * 追加计算损失函数的方法`calcLoss()`;\n",
    "        * 重写BP方法，修改梯度的计算方法为$\\dfrac{\\partial \\mathcal{L}}{\\partial \\alpha_i^{(\\text{output})}}=\\text{Softmax}\\left(\\alpha_i^{(\\text{output})}\\right)-y_i$;\n",
    "        * 重写forward方法，不再递归调用forward。\n",
    "    * 输入层`inputLayer`：\n",
    "        * 重写forward方法，要求传入x直接为输出，不计算w、b。\n",
    "        * 重写BP方法，不进行计算，不递归调用。"
   ]
  },
  {
   "cell_type": "code",
   "execution_count": 11,
   "id": "aerial-thirty",
   "metadata": {},
   "outputs": [],
   "source": [
    "class Layer:\n",
    "    lr = 0.001\n",
    "    def __init__(self, size, prevsize, activation_func=sigmoid()):\n",
    "        self.w = np.random.randn(prevsize,size)\n",
    "        self.b = np.random.randn(size,1)\n",
    "        self.alpha = np.zeros((size,1))\n",
    "        self.x = np.zeros((size,1))\n",
    "        self.w_old = self.w.copy()\n",
    "        self.grad = np.zeros((size,1))\n",
    "        self.act_func = activation_func\n",
    "        self.prevLayer = None\n",
    "        self.nextLayer = None\n",
    "        \n",
    "    def forward(self):\n",
    "        self.alpha = np.sum(self.prevLayer.x* self.w.T ,axis=1)\n",
    "        self.x = self.act_func.func(self.alpha)\n",
    "        self.w_old = self.w.copy()\n",
    "        self.nextLayer.forward()\n",
    "    \n",
    "    def backPropagation(self):\n",
    "        self.grad = np.sum(self.nextLayer.grad*self.nextLayer.w_old,axis=1)*self.act_func.deriv(self.alpha)\n",
    "        self.w = np.array(self.w - Layer.lr*np.mat(self.prevLayer.x).T*np.mat(self.grad))\n",
    "        self.b = self.w - Layer.lr*self.grad\n",
    "        self.prevLayer.backPropagation()"
   ]
  },
  {
   "cell_type": "code",
   "execution_count": 12,
   "id": "incoming-trash",
   "metadata": {},
   "outputs": [],
   "source": [
    "class outputLayer(Layer):\n",
    "    def __init__(self, size, prevsize, activation_func=softmax(), loss_func=crossEntropy):\n",
    "        super(outputLayer, self).__init__(size, prevsize,activation_func)\n",
    "        self.y = np.zeros((size,1))\n",
    "        self.loss_func = crossEntropy\n",
    "        \n",
    "    def calcLoss(self):\n",
    "        return self.loss_func(self.y,self.x)\n",
    "    \n",
    "    def forward(self):\n",
    "        self.alpha = np.sum(self.prevLayer.x* self.w.T ,axis=1)\n",
    "        self.x = self.act_func.func(self.alpha)\n",
    "        self.w_old = self.w.copy()\n",
    "    \n",
    "    def backPropagation(self):\n",
    "        self.grad = self.act_func.func(self.alpha) - self.y\n",
    "        self.w = np.array(self.w - Layer.lr*np.mat(self.prevLayer.x).T*np.mat(self.grad))\n",
    "        self.b = self.b - Layer.lr*self.grad\n",
    "        self.prevLayer.backPropagation()"
   ]
  },
  {
   "cell_type": "code",
   "execution_count": 13,
   "id": "taken-developer",
   "metadata": {},
   "outputs": [],
   "source": [
    "class inputLayer(Layer):\n",
    "    def __init__(self, size, activation_func=identity()):\n",
    "        super(inputLayer, self).__init__(size, 1, activation_func)\n",
    "    \n",
    "    def forward(self,X):\n",
    "        self.x = self.act_func.func(X)\n",
    "        self.nextLayer.forward()\n",
    "    \n",
    "    def backPropagation(self):\n",
    "        pass"
   ]
  },
  {
   "cell_type": "markdown",
   "id": "beautiful-switch",
   "metadata": {},
   "source": [
    "## 神经网络实现\n",
    "\n",
    "因为上一节中体验了`sklearn`的神经网络分类器，因此部分功能的实现和方法也尽量仿照其功能来写，沿用部分属性名。"
   ]
  },
  {
   "cell_type": "markdown",
   "id": "emotional-occupation",
   "metadata": {},
   "source": [
    "### 初始化\n",
    "\n",
    "注意到`sklearn`的初始化并未传入训练数据，且不指定输入输出层参数（实际上与数据有关），判定此时实际上没有初始化，仅进行参数存储，因此`__init__()`方法也只存参数。"
   ]
  },
  {
   "cell_type": "markdown",
   "id": "grave-scheme",
   "metadata": {},
   "source": [
    "### 训练\n",
    "\n",
    "网络的初始化实际从这里开始，根据输入输出特征（自适应）调整输入层、输出层结构，根据参数调整隐层结构。\n",
    "\n",
    "当网络各层构建完成时，更新网络属性中的前后层指针。\n",
    "\n",
    "开始迭代训练（调用第一层forward和最后一层BP），设置终止条件：①迭代次数到限制；②参数变化小于阈值。\n",
    "\n",
    "记录训练过程（损失值、准确率）"
   ]
  },
  {
   "cell_type": "markdown",
   "id": "distinguished-colorado",
   "metadata": {},
   "source": [
    "### 测试\n",
    "\n",
    "仅调用第一层forward，输入数据，计算损失值、准确率并返回。"
   ]
  },
  {
   "cell_type": "markdown",
   "id": "devoted-blogger",
   "metadata": {},
   "source": [
    "### 预测\n",
    "\n",
    "由于原数据值不是onehot而是一列向量，所以返回的应该是经过argmax处理的结果。同样是调用forward计算到最后一层，再保存所有结果。"
   ]
  },
  {
   "cell_type": "markdown",
   "id": "changing-habitat",
   "metadata": {},
   "source": [
    "### 实现"
   ]
  },
  {
   "cell_type": "code",
   "execution_count": 14,
   "id": "comfortable-consolidation",
   "metadata": {},
   "outputs": [],
   "source": [
    "class BPNeuralNetwork:\n",
    "    def __init__(self,hidden_layer_sizes=100,activation=sigmoid(),learning_rate= 0.001,tol=0.0001,max_iter=200,n_iter_no_change=5):\n",
    "        self.hidden_layer_sizes = hidden_layer_sizes\n",
    "        self.activation = activation\n",
    "        self.learning_rate = learning_rate\n",
    "        self.tol = tol\n",
    "        self.max_iter = max_iter\n",
    "        self.n_iter_no_change = n_iter_no_change\n",
    "        self.layers = None\n",
    "        \n",
    "    def train(self,X,Y):\n",
    "        # 初始化网络\n",
    "        Layer.lr = self.learning_rate\n",
    "        input_dim = X.shape[1]\n",
    "        output_dim = np.unique(Y).shape[0]\n",
    "        self.layers = []\n",
    "        self.layers.append(inputLayer(input_dim))\n",
    "        prev_size = input_dim\n",
    "        if type(self.hidden_layer_sizes) == tuple:\n",
    "            for size in self.hidden_layer_sizes:\n",
    "                hidden_layer = Layer(size,prev_size,activation_func=self.activation)\n",
    "                self.layers.append(hidden_layer)\n",
    "                prev_size = size\n",
    "        elif type(self.hidden_layer_sizes) == int:\n",
    "            self.layers.append(Layer(self.hidden_layer_sizes,prev_size,activation_func=self.activation))\n",
    "            prev_size = self.hidden_layer_sizes\n",
    "        else: raise TypeError('Only int & tuple inputs supported for \\'hidden_layer_sizes\\'')\n",
    "        self.layers.append(outputLayer(output_dim, prev_size))\n",
    "        for i in range(len(self.layers)-1):\n",
    "            self.layers[i].nextLayer = self.layers[i+1]\n",
    "        for i in range(len(self.layers)-1,0,-1):\n",
    "            self.layers[i].prevLayer = self.layers[i-1]\n",
    "        \n",
    "        Y_oh = np.eye(output_dim)[Y]\n",
    "        \n",
    "        # 训练\n",
    "        i = 0; iter_no_change = 0\n",
    "        accuracy = [0,]; loss = [0,]\n",
    "        flag = False\n",
    "        while(i < self.max_iter):\n",
    "            i+=1\n",
    "            accu_count = 0; iter_loss = 0\n",
    "            print('\\rTotal Iter: %d / %d' % (i,self.max_iter),end='')\n",
    "            for j in range(X.shape[0]):\n",
    "                self.layers[-1].y = Y_oh[j]\n",
    "                self.layers[0].forward(X[j]) #前向传播\n",
    "                self.layers[-1].backPropagation() # 反向传播\n",
    "                \n",
    "                iter_loss += self.layers[-1].calcLoss()\n",
    "                accu_count += (np.argmax(self.layers[-1].x)==Y[j])\n",
    "                \n",
    "            iter_accu = accu_count/X.shape[0]\n",
    "            iter_loss = iter_loss/X.shape[0]\n",
    "            \n",
    "            accuracy.append(iter_accu)\n",
    "            loss.append(iter_loss)\n",
    "            history = {'accuracy':accuracy,'loss':loss}\n",
    "            if abs(accuracy[i]-accuracy[i-1]) <= self.tol or abs(loss[i]-loss[i-1]) <= self.tol:\n",
    "                iter_no_change += 1\n",
    "                if iter_no_change >= self.n_iter_no_change:\n",
    "                    print('\\nOptimization beneath tol.')\n",
    "                    return history # 终止条件2：n次优化值小于tol\n",
    "            else: iter_no_change = 0\n",
    "        print()    \n",
    "        return history # 终止条件1：迭代次数达max\n",
    "    \n",
    "    def test(self,X,Y):\n",
    "        output_dim = np.unique(Y).shape[0]\n",
    "        Y_oh = np.eye(output_dim)[Y]\n",
    "        accu_count = 0; loss = 0\n",
    "        for j in range(X.shape[0]):\n",
    "            self.layers[-1].y = Y_oh[j]\n",
    "            self.layers[0].forward(X[j]) #前向传播\n",
    "\n",
    "            loss += self.layers[-1].calcLoss()\n",
    "            accu_count += (np.argmax(self.layers[-1].x)==Y[j])\n",
    "\n",
    "        accu = accu_count/X.shape[0]\n",
    "        loss = loss/X.shape[0]\n",
    "        result = {'accuracy':accu,'loss':loss}\n",
    "        return result\n",
    "    \n",
    "    def predict(self,X):\n",
    "        result = []\n",
    "        for j in range(X.shape[0]):\n",
    "            self.layers[0].forward(X[j]) #前向传播\n",
    "            result.append(np.argmax(self.layers[-1].x))\n",
    "        return np.array(result)\n",
    "    \n",
    "    def display_model(self):\n",
    "        if self.layers is None: return None\n",
    "        else:\n",
    "            layers_info = []\n",
    "            for layer in self.layers:\n",
    "                info = []\n",
    "                info.append(layer.__class__.__name__)\n",
    "                info.append(layer.x.shape[0])\n",
    "                info.append(layer.act_func.__class__.__name__)\n",
    "                layers_info.append(info)\n",
    "            return pd.DataFrame(layers_info,columns=['Layer Type','Size','Activation Function'])"
   ]
  },
  {
   "cell_type": "markdown",
   "id": "entitled-shoulder",
   "metadata": {},
   "source": [
    "## 模型应用：手写数字分类\n",
    "\n",
    "数据已经在第一节时加载，现在根据现有模型调整不同参数展开实验。"
   ]
  },
  {
   "cell_type": "code",
   "execution_count": 15,
   "id": "alike-potato",
   "metadata": {},
   "outputs": [],
   "source": [
    "def train_evaluate(model,history,X_test,y_test): #可视化训练过程\n",
    "    print('Model Structure:')\n",
    "    display(model.display_model())\n",
    "    train_accu = history['accuracy']\n",
    "    train_loss = history['loss']\n",
    "\n",
    "    iters = range(1,len(train_accu))\n",
    "\n",
    "    fig = plt.figure()\n",
    "    ax = fig.add_subplot(111)\n",
    "    ax.plot(iters,train_accu[1:],'-g',label='train_accu')\n",
    "    ax2 = ax.twinx();ax2.set_ylabel('loss')\n",
    "    ax2.plot(iters,train_loss[1:],'--r',label='train_loss')\n",
    "    ax2.set_ylim(0,train_loss[1])\n",
    "    ax.set_ylim(0,1);ax.set_ylabel('accuracy')\n",
    "    ax.set_xlabel('iteration')\n",
    "    ax.set_title('Training Process of Neural Network')\n",
    "    fig.legend()\n",
    "    result = model.test(X_test,y_test)\n",
    "    print('Test Loss:\\t %.5f' % result['loss'])\n",
    "    print('Test Accuracy:\\t %.5f' % result['accuracy'])"
   ]
  },
  {
   "cell_type": "code",
   "execution_count": 16,
   "id": "cooked-fence",
   "metadata": {},
   "outputs": [
    {
     "name": "stdout",
     "output_type": "stream",
     "text": [
      "Total Iter: 87 / 200\n",
      "Optimization beneath tol.\n"
     ]
    }
   ],
   "source": [
    "model = BPNeuralNetwork(hidden_layer_sizes=(100,),activation=sigmoid(),tol=1e-8,max_iter=200)\n",
    "history = model.train(X_train,y_train)"
   ]
  },
  {
   "cell_type": "code",
   "execution_count": 17,
   "id": "authorized-rehabilitation",
   "metadata": {},
   "outputs": [
    {
     "name": "stdout",
     "output_type": "stream",
     "text": [
      "Model Structure:\n"
     ]
    },
    {
     "data": {
      "text/html": [
       "<div>\n",
       "<style scoped>\n",
       "    .dataframe tbody tr th:only-of-type {\n",
       "        vertical-align: middle;\n",
       "    }\n",
       "\n",
       "    .dataframe tbody tr th {\n",
       "        vertical-align: top;\n",
       "    }\n",
       "\n",
       "    .dataframe thead th {\n",
       "        text-align: right;\n",
       "    }\n",
       "</style>\n",
       "<table border=\"1\" class=\"dataframe\">\n",
       "  <thead>\n",
       "    <tr style=\"text-align: right;\">\n",
       "      <th></th>\n",
       "      <th>Layer Type</th>\n",
       "      <th>Size</th>\n",
       "      <th>Activation Function</th>\n",
       "    </tr>\n",
       "  </thead>\n",
       "  <tbody>\n",
       "    <tr>\n",
       "      <th>0</th>\n",
       "      <td>inputLayer</td>\n",
       "      <td>64</td>\n",
       "      <td>identity</td>\n",
       "    </tr>\n",
       "    <tr>\n",
       "      <th>1</th>\n",
       "      <td>Layer</td>\n",
       "      <td>100</td>\n",
       "      <td>sigmoid</td>\n",
       "    </tr>\n",
       "    <tr>\n",
       "      <th>2</th>\n",
       "      <td>outputLayer</td>\n",
       "      <td>10</td>\n",
       "      <td>softmax</td>\n",
       "    </tr>\n",
       "  </tbody>\n",
       "</table>\n",
       "</div>"
      ],
      "text/plain": [
       "    Layer Type  Size Activation Function\n",
       "0   inputLayer    64            identity\n",
       "1        Layer   100             sigmoid\n",
       "2  outputLayer    10             softmax"
      ]
     },
     "metadata": {},
     "output_type": "display_data"
    },
    {
     "name": "stdout",
     "output_type": "stream",
     "text": [
      "Test Loss:\t 0.35746\n",
      "Test Accuracy:\t 0.90833\n"
     ]
    },
    {
     "data": {
      "image/png": "[encoded data removed]",
      "text/plain": [
       "<Figure size 432x288 with 2 Axes>"
      ]
     },
     "metadata": {
      "needs_background": "light"
     },
     "output_type": "display_data"
    }
   ],
   "source": [
    "train_evaluate(model,history,X_test,y_test)"
   ]
  },
  {
   "cell_type": "code",
   "execution_count": 18,
   "id": "weird-constitution",
   "metadata": {},
   "outputs": [
    {
     "name": "stdout",
     "output_type": "stream",
     "text": [
      "Total Iter: 23 / 200\n",
      "Optimization beneath tol.\n"
     ]
    }
   ],
   "source": [
    "model = BPNeuralNetwork(hidden_layer_sizes=(100,),activation=relu(),tol=1e-8,max_iter=200)\n",
    "history = model.train(X_train,y_train)"
   ]
  },
  {
   "cell_type": "code",
   "execution_count": 19,
   "id": "structural-northern",
   "metadata": {},
   "outputs": [
    {
     "name": "stdout",
     "output_type": "stream",
     "text": [
      "Model Structure:\n"
     ]
    },
    {
     "data": {
      "text/html": [
       "<div>\n",
       "<style scoped>\n",
       "    .dataframe tbody tr th:only-of-type {\n",
       "        vertical-align: middle;\n",
       "    }\n",
       "\n",
       "    .dataframe tbody tr th {\n",
       "        vertical-align: top;\n",
       "    }\n",
       "\n",
       "    .dataframe thead th {\n",
       "        text-align: right;\n",
       "    }\n",
       "</style>\n",
       "<table border=\"1\" class=\"dataframe\">\n",
       "  <thead>\n",
       "    <tr style=\"text-align: right;\">\n",
       "      <th></th>\n",
       "      <th>Layer Type</th>\n",
       "      <th>Size</th>\n",
       "      <th>Activation Function</th>\n",
       "    </tr>\n",
       "  </thead>\n",
       "  <tbody>\n",
       "    <tr>\n",
       "      <th>0</th>\n",
       "      <td>inputLayer</td>\n",
       "      <td>64</td>\n",
       "      <td>identity</td>\n",
       "    </tr>\n",
       "    <tr>\n",
       "      <th>1</th>\n",
       "      <td>Layer</td>\n",
       "      <td>100</td>\n",
       "      <td>relu</td>\n",
       "    </tr>\n",
       "    <tr>\n",
       "      <th>2</th>\n",
       "      <td>outputLayer</td>\n",
       "      <td>10</td>\n",
       "      <td>softmax</td>\n",
       "    </tr>\n",
       "  </tbody>\n",
       "</table>\n",
       "</div>"
      ],
      "text/plain": [
       "    Layer Type  Size Activation Function\n",
       "0   inputLayer    64            identity\n",
       "1        Layer   100                relu\n",
       "2  outputLayer    10             softmax"
      ]
     },
     "metadata": {},
     "output_type": "display_data"
    },
    {
     "name": "stdout",
     "output_type": "stream",
     "text": [
      "Test Loss:\t 1.19253\n",
      "Test Accuracy:\t 0.96111\n"
     ]
    },
    {
     "data": {
      "image/png": "[encoded data removed]",
      "text/plain": [
       "<Figure size 432x288 with 2 Axes>"
      ]
     },
     "metadata": {
      "needs_background": "light"
     },
     "output_type": "display_data"
    }
   ],
   "source": [
    "train_evaluate(model,history,X_test,y_test)"
   ]
  },
  {
   "cell_type": "markdown",
   "id": "ambient-planet",
   "metadata": {},
   "source": [
    "本轮对比可以看出，网络结构相同的情况下，使用`relu`作为激活函数往往能够使模型加速收敛，且最终表现较好；`sigmoid`函数因为导函数值较小，容易出现梯度消失的情况，所以不仅模型收敛速度较慢，而且也有可能因为多次梯度消失导致提前收敛，最终表现不是特别好。"
   ]
  },
  {
   "cell_type": "code",
   "execution_count": 20,
   "id": "separated-frequency",
   "metadata": {},
   "outputs": [
    {
     "data": {
      "text/plain": [
       "array([6, 2, 5, 3, 7, 8, 6, 2, 1, 3])"
      ]
     },
     "execution_count": 20,
     "metadata": {},
     "output_type": "execute_result"
    }
   ],
   "source": [
    "model.predict(X_test[:10])"
   ]
  },
  {
   "cell_type": "code",
   "execution_count": 21,
   "id": "spare-tract",
   "metadata": {},
   "outputs": [
    {
     "name": "stdout",
     "output_type": "stream",
     "text": [
      "Total Iter: 76 / 200\n",
      "Optimization beneath tol.\n",
      "Model Structure:\n"
     ]
    },
    {
     "data": {
      "text/html": [
       "<div>\n",
       "<style scoped>\n",
       "    .dataframe tbody tr th:only-of-type {\n",
       "        vertical-align: middle;\n",
       "    }\n",
       "\n",
       "    .dataframe tbody tr th {\n",
       "        vertical-align: top;\n",
       "    }\n",
       "\n",
       "    .dataframe thead th {\n",
       "        text-align: right;\n",
       "    }\n",
       "</style>\n",
       "<table border=\"1\" class=\"dataframe\">\n",
       "  <thead>\n",
       "    <tr style=\"text-align: right;\">\n",
       "      <th></th>\n",
       "      <th>Layer Type</th>\n",
       "      <th>Size</th>\n",
       "      <th>Activation Function</th>\n",
       "    </tr>\n",
       "  </thead>\n",
       "  <tbody>\n",
       "    <tr>\n",
       "      <th>0</th>\n",
       "      <td>inputLayer</td>\n",
       "      <td>64</td>\n",
       "      <td>identity</td>\n",
       "    </tr>\n",
       "    <tr>\n",
       "      <th>1</th>\n",
       "      <td>Layer</td>\n",
       "      <td>32</td>\n",
       "      <td>relu</td>\n",
       "    </tr>\n",
       "    <tr>\n",
       "      <th>2</th>\n",
       "      <td>outputLayer</td>\n",
       "      <td>10</td>\n",
       "      <td>softmax</td>\n",
       "    </tr>\n",
       "  </tbody>\n",
       "</table>\n",
       "</div>"
      ],
      "text/plain": [
       "    Layer Type  Size Activation Function\n",
       "0   inputLayer    64            identity\n",
       "1        Layer    32                relu\n",
       "2  outputLayer    10             softmax"
      ]
     },
     "metadata": {},
     "output_type": "display_data"
    },
    {
     "name": "stdout",
     "output_type": "stream",
     "text": [
      "Test Loss:\t 1.01320\n",
      "Test Accuracy:\t 0.91944\n"
     ]
    },
    {
     "data": {
      "image/png": "[encoded data removed]",
      "text/plain": [
       "<Figure size 432x288 with 2 Axes>"
      ]
     },
     "metadata": {
      "needs_background": "light"
     },
     "output_type": "display_data"
    }
   ],
   "source": [
    "model = BPNeuralNetwork(hidden_layer_sizes=(32,),activation=relu(),tol=1e-8,max_iter=200)\n",
    "history = model.train(X_train,y_train)\n",
    "\n",
    "train_evaluate(model,history,X_test,y_test)"
   ]
  },
  {
   "cell_type": "code",
   "execution_count": 22,
   "id": "weird-sight",
   "metadata": {},
   "outputs": [
    {
     "name": "stdout",
     "output_type": "stream",
     "text": [
      "Total Iter: 145 / 200\n",
      "Optimization beneath tol.\n",
      "Model Structure:\n"
     ]
    },
    {
     "data": {
      "text/html": [
       "<div>\n",
       "<style scoped>\n",
       "    .dataframe tbody tr th:only-of-type {\n",
       "        vertical-align: middle;\n",
       "    }\n",
       "\n",
       "    .dataframe tbody tr th {\n",
       "        vertical-align: top;\n",
       "    }\n",
       "\n",
       "    .dataframe thead th {\n",
       "        text-align: right;\n",
       "    }\n",
       "</style>\n",
       "<table border=\"1\" class=\"dataframe\">\n",
       "  <thead>\n",
       "    <tr style=\"text-align: right;\">\n",
       "      <th></th>\n",
       "      <th>Layer Type</th>\n",
       "      <th>Size</th>\n",
       "      <th>Activation Function</th>\n",
       "    </tr>\n",
       "  </thead>\n",
       "  <tbody>\n",
       "    <tr>\n",
       "      <th>0</th>\n",
       "      <td>inputLayer</td>\n",
       "      <td>64</td>\n",
       "      <td>identity</td>\n",
       "    </tr>\n",
       "    <tr>\n",
       "      <th>1</th>\n",
       "      <td>Layer</td>\n",
       "      <td>32</td>\n",
       "      <td>relu</td>\n",
       "    </tr>\n",
       "    <tr>\n",
       "      <th>2</th>\n",
       "      <td>Layer</td>\n",
       "      <td>16</td>\n",
       "      <td>relu</td>\n",
       "    </tr>\n",
       "    <tr>\n",
       "      <th>3</th>\n",
       "      <td>outputLayer</td>\n",
       "      <td>10</td>\n",
       "      <td>softmax</td>\n",
       "    </tr>\n",
       "  </tbody>\n",
       "</table>\n",
       "</div>"
      ],
      "text/plain": [
       "    Layer Type  Size Activation Function\n",
       "0   inputLayer    64            identity\n",
       "1        Layer    32                relu\n",
       "2        Layer    16                relu\n",
       "3  outputLayer    10             softmax"
      ]
     },
     "metadata": {},
     "output_type": "display_data"
    },
    {
     "name": "stdout",
     "output_type": "stream",
     "text": [
      "Test Loss:\t 1.64716\n",
      "Test Accuracy:\t 0.38611\n"
     ]
    },
    {
     "data": {
      "image/png": "[encoded data removed]",
      "text/plain": [
       "<Figure size 432x288 with 2 Axes>"
      ]
     },
     "metadata": {
      "needs_background": "light"
     },
     "output_type": "display_data"
    }
   ],
   "source": [
    "model = BPNeuralNetwork(hidden_layer_sizes=(32,16),activation=relu(),tol=1e-8,max_iter=200)\n",
    "history = model.train(X_train,y_train)\n",
    "\n",
    "train_evaluate(model,history,X_test,y_test)"
   ]
  },
  {
   "cell_type": "code",
   "execution_count": 23,
   "id": "divine-asset",
   "metadata": {},
   "outputs": [
    {
     "data": {
      "text/plain": [
       "array([-0.00000000e+00,  0.00000000e+00, -0.00000000e+00,  0.00000000e+00,\n",
       "       -2.53209703e-08, -0.00000000e+00,  0.00000000e+00,  0.00000000e+00,\n",
       "        0.00000000e+00,  0.00000000e+00, -0.00000000e+00,  0.00000000e+00,\n",
       "        0.00000000e+00, -0.00000000e+00, -0.00000000e+00, -0.00000000e+00])"
      ]
     },
     "execution_count": 23,
     "metadata": {},
     "output_type": "execute_result"
    }
   ],
   "source": [
    "model.layers[2].grad"
   ]
  },
  {
   "cell_type": "markdown",
   "id": "creative-happiness",
   "metadata": {},
   "source": [
    "这一次实验隐藏层数增加，展现了`relu`函数的弱点，即**“死亡Relu”**。因为参数不恰当的更新（比如学习率设置的过大）导致出现负值，而relu函数、导函数在自变量为负值时均为0，会导致某一梯度变为0之后，永远无法更新，也就是这个隐层神经元“死亡”了。而同样的网络结构换用`sigmoid`作为激活函数并不会出现这样的问题。"
   ]
  },
  {
   "cell_type": "code",
   "execution_count": 24,
   "id": "desirable-senator",
   "metadata": {},
   "outputs": [
    {
     "name": "stdout",
     "output_type": "stream",
     "text": [
      "Total Iter: 177 / 200\n",
      "Optimization beneath tol.\n",
      "Model Structure:\n"
     ]
    },
    {
     "data": {
      "text/html": [
       "<div>\n",
       "<style scoped>\n",
       "    .dataframe tbody tr th:only-of-type {\n",
       "        vertical-align: middle;\n",
       "    }\n",
       "\n",
       "    .dataframe tbody tr th {\n",
       "        vertical-align: top;\n",
       "    }\n",
       "\n",
       "    .dataframe thead th {\n",
       "        text-align: right;\n",
       "    }\n",
       "</style>\n",
       "<table border=\"1\" class=\"dataframe\">\n",
       "  <thead>\n",
       "    <tr style=\"text-align: right;\">\n",
       "      <th></th>\n",
       "      <th>Layer Type</th>\n",
       "      <th>Size</th>\n",
       "      <th>Activation Function</th>\n",
       "    </tr>\n",
       "  </thead>\n",
       "  <tbody>\n",
       "    <tr>\n",
       "      <th>0</th>\n",
       "      <td>inputLayer</td>\n",
       "      <td>64</td>\n",
       "      <td>identity</td>\n",
       "    </tr>\n",
       "    <tr>\n",
       "      <th>1</th>\n",
       "      <td>Layer</td>\n",
       "      <td>32</td>\n",
       "      <td>sigmoid</td>\n",
       "    </tr>\n",
       "    <tr>\n",
       "      <th>2</th>\n",
       "      <td>Layer</td>\n",
       "      <td>16</td>\n",
       "      <td>sigmoid</td>\n",
       "    </tr>\n",
       "    <tr>\n",
       "      <th>3</th>\n",
       "      <td>outputLayer</td>\n",
       "      <td>10</td>\n",
       "      <td>softmax</td>\n",
       "    </tr>\n",
       "  </tbody>\n",
       "</table>\n",
       "</div>"
      ],
      "text/plain": [
       "    Layer Type  Size Activation Function\n",
       "0   inputLayer    64            identity\n",
       "1        Layer    32             sigmoid\n",
       "2        Layer    16             sigmoid\n",
       "3  outputLayer    10             softmax"
      ]
     },
     "metadata": {},
     "output_type": "display_data"
    },
    {
     "name": "stdout",
     "output_type": "stream",
     "text": [
      "Test Loss:\t 0.48586\n",
      "Test Accuracy:\t 0.86944\n"
     ]
    },
    {
     "data": {
      "image/png": "[encoded data removed]",
      "text/plain": [
       "<Figure size 432x288 with 2 Axes>"
      ]
     },
     "metadata": {
      "needs_background": "light"
     },
     "output_type": "display_data"
    }
   ],
   "source": [
    "model = BPNeuralNetwork(hidden_layer_sizes=(32,16),activation=sigmoid(),tol=1e-8,max_iter=200)\n",
    "history = model.train(X_train,y_train)\n",
    "\n",
    "train_evaluate(model,history,X_test,y_test)"
   ]
  },
  {
   "cell_type": "code",
   "execution_count": 25,
   "id": "exterior-archive",
   "metadata": {},
   "outputs": [
    {
     "data": {
      "text/plain": [
       "array([ 3.60639992e-03,  1.25682840e-04,  6.93461731e-03, -6.40269890e-04,\n",
       "       -4.00750112e-02,  2.30742193e-02, -5.82608968e-02,  4.12186950e-06,\n",
       "       -1.02405951e-03, -5.15133091e-04,  3.01855122e-04, -2.57302600e-03,\n",
       "       -6.43587049e-04,  1.54500792e-02,  4.61627819e-02,  1.63981829e-02])"
      ]
     },
     "execution_count": 25,
     "metadata": {},
     "output_type": "execute_result"
    }
   ],
   "source": [
    "model.layers[2].grad"
   ]
  },
  {
   "cell_type": "markdown",
   "id": "outer-course",
   "metadata": {},
   "source": [
    "# 总结\n",
    "\n",
    "1. 完成了实验的各项要求，通过使用sklearn的神经网络分类器和自己使用numpy实现神经网络分类器，增进了对前馈神经网络的理解，通过模型对手写数字数据集进行了分类，调优后的模型表现均尚可。\n",
    "2. sklearn实验能够逐步理解参数，而复现神经网络感觉难度较大，大量的时间花费在对基本的神经网络正向传播和反向传播的理解中，自己也参考课本和网络上的一些资料，对于推导过程进行了推演和编程实现，通过广泛的学习和实验，对网络布局和激活函数的使用有了更加直观的理解。理论课程中虽说感觉把握了神经网络及其反向传播的基本思想，但是在复现的过程中还是感觉有些许困难，必须自己推演一遍才能掌握。另外，感觉自己对于numpy向量、矩阵运算不够熟练，导致完成时间较长。\n",
    "3. 神经网络复现部分，参考对比了网络上的一些实现的文章，我实现的神经网络的优点主要在于：\n",
    "    1. 能够自适应调整输入、输出层维度；\n",
    "    2. 能够自定义添加多个隐层（很多实现只包含单个隐层），且有多个参数可调节，自定义程度更高；\n",
    "    3. 网络、层、激活函数都使用了面向对象的思想，代码结构方面可能更清晰、易于理解。\n",
    "    4. 能够展现网络结构，易于理解。\n",
    "4. 本次实验的不足：\n",
    "    1. 没有实现分批(batch)训练，整体训练速度一般。\n",
    "    2. 虽然使用面向对象易于理解，但是代码整体较长，不如其他人的简洁凝练。\n",
    "    3. 没有添加完备的异常处理，仅对神经网络进行了复现和基本实验，健壮性有待提升。"
   ]
  }
 ],
 "metadata": {
  "kernelspec": {
   "display_name": "Python 3.6",
   "language": "python",
   "name": "python3"
  },
  "language_info": {
   "codemirror_mode": {
    "name": "ipython",
    "version": 3
   },
   "file_extension": ".py",
   "mimetype": "text/x-python",
   "name": "python",
   "nbconvert_exporter": "python",
   "pygments_lexer": "ipython3",
   "version": "3.6.8"
  },
  "toc": {
   "base_numbering": 1,
   "nav_menu": {},
   "number_sections": true,
   "sideBar": true,
   "skip_h1_title": false,
   "title_cell": "Table of Contents",
   "title_sidebar": "Contents",
   "toc_cell": false,
   "toc_position": {},
   "toc_section_display": true,
   "toc_window_display": false
  }
 },
 "nbformat": 4,
 "nbformat_minor": 5
}
