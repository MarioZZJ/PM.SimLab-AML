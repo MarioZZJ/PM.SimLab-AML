{
 "cells": [
  {
   "cell_type": "markdown",
   "id": "heavy-payroll",
   "metadata": {},
   "source": [
    "## 学习和使用回归分析\n",
    "\n",
    "* 复习教材第8、9章内容，调试运行相关代码。\n",
    "* 查阅scikit-learn工具包中回归学习器的相关说明，了解相关函数使用方法。\n",
    "* 对波士顿房价数据集进行回归分析。\n",
    "\n",
    "# 回归分析\n",
    "\n",
    "## 线性回归\n",
    "\n",
    "目标：给定数据集$D=\\{(\\boldsymbol{x_1},y_1),(\\boldsymbol{x_2},y_2),...,(\\boldsymbol{x_m},y_m)\\}$ ，其中$\\boldsymbol{x_i}=(x_{i1};x_{i2};...x_{id}), \\ y_i \\in R$，学习一个线性模型以尽可能准确地预测实值输出标记，即学习得到$f(x_i)\\approx y_i$\n",
    "\n",
    "先考虑简单的一元线性回归，目标是求得回归方程 $f(x)=wx_i+b$ 使得 $f(x_i)\\approx y_i$ 。 $w$ 称为回归系数，求回归系数的过程就是回归。\n",
    "\n",
    "我们可以简单地从一定量数据中求得回归方程。假定输入数据存放在矩阵 $\\boldsymbol{X}$ 中，回归系数存放在向量 $w$ 中，对于给定的 $X_1$ ，预测结果将会通过 $Y_1 = X_1^T w$ 给出，通过计算预测Y和真实Y之间的差值，选择一个使得误差最小的 $w$ 。比如可以采用平方误差：\n",
    "\n",
    "$$ \\sum\\limits_{i=1}^m (y_i - x_i^Tw)^2 $$\n",
    "\n",
    "用矩阵表示则是 $ (y-\\boldsymbol{X}w)^T(y-\\boldsymbol{X}w $ 。对 $w$ 求导并令其为零，可以解出最优解（普通最小二乘法，OLS）\n",
    "\n",
    "$$ \\hat{w} = (\\boldsymbol{X}^T\\boldsymbol{X})^{-1}\\boldsymbol{X}^Ty $$\n",
    "\n",
    "计算过程中存在求逆运算，所以需要判断逆矩阵是否存在。"
   ]
  },
  {
   "cell_type": "code",
   "execution_count": 15,
   "id": "distinguished-mother",
   "metadata": {},
   "outputs": [],
   "source": [
    "import numpy as np\n",
    "import matplotlib.pyplot as plt"
   ]
  },
  {
   "cell_type": "code",
   "execution_count": 9,
   "id": "immune-contract",
   "metadata": {},
   "outputs": [],
   "source": [
    "def loadDataSet(fileName):      #general function to parse tab -delimited floats\n",
    "    numFeat = len(open(fileName).readline().split('\\t')) - 1 #get number of fields \n",
    "    dataMat = []; labelMat = []\n",
    "    fr = open(fileName)\n",
    "    for line in fr.readlines():\n",
    "        lineArr =[]\n",
    "        curLine = line.strip().split('\\t')\n",
    "        for i in range(numFeat):\n",
    "            lineArr.append(float(curLine[i]))\n",
    "        dataMat.append(lineArr)\n",
    "        labelMat.append(float(curLine[-1]))\n",
    "    return dataMat,labelMat\n",
    "\n",
    "def standRegres(xArr,yArr):\n",
    "    xMat = np.mat(xArr); yMat = np.mat(yArr).T\n",
    "    xTx = xMat.T*xMat\n",
    "    if np.linalg.det(xTx) == 0.0: # 检查行列式是否为0\n",
    "        print(\"This matrix is singular, cannot do inverse\")\n",
    "        return\n",
    "    ws = xTx.I * (xMat.T*yMat) #.I 为逆运算\n",
    "    return ws"
   ]
  },
  {
   "cell_type": "code",
   "execution_count": 13,
   "id": "desperate-correlation",
   "metadata": {},
   "outputs": [
    {
     "data": {
      "text/plain": [
       "[[1.0, 0.067732], [1.0, 0.42781]]"
      ]
     },
     "metadata": {},
     "output_type": "display_data"
    },
    {
     "data": {
      "text/plain": [
       "[3.176513, 3.816464]"
      ]
     },
     "metadata": {},
     "output_type": "display_data"
    }
   ],
   "source": [
    "xArr,yArr=loadDataSet('./data/ex0.txt')\n",
    "display(xArr[0:2]) # X0,X1\n",
    "display(yArr[0:2])"
   ]
  },
  {
   "cell_type": "code",
   "execution_count": 12,
   "id": "amazing-condition",
   "metadata": {},
   "outputs": [
    {
     "data": {
      "text/plain": [
       "matrix([[3.00774324],\n",
       "        [1.69532264]])"
      ]
     },
     "execution_count": 12,
     "metadata": {},
     "output_type": "execute_result"
    }
   ],
   "source": [
    "ws = standRegres(xArr,yArr)\n",
    "ws"
   ]
  },
  {
   "cell_type": "markdown",
   "id": "mineral-constitution",
   "metadata": {},
   "source": [
    "得到了回归系数，得到回归方程。y = ws[0] + ws[1] \\* X1，可以绘图查看拟合效果"
   ]
  },
  {
   "cell_type": "code",
   "execution_count": 19,
   "id": "proper-argument",
   "metadata": {},
   "outputs": [
    {
     "data": {
      "text/plain": [
       "[<matplotlib.lines.Line2D at 0x7fa7f3184630>]"
      ]
     },
     "execution_count": 19,
     "metadata": {},
     "output_type": "execute_result"
    },
    {
     "data": {
      "image/png": "[encoded data removed]",
      "text/plain": [
       "<Figure size 432x288 with 1 Axes>"
      ]
     },
     "metadata": {
      "needs_background": "light"
     },
     "output_type": "display_data"
    }
   ],
   "source": [
    "xMat = np.mat(xArr)\n",
    "yMat = np.mat(yArr)\n",
    "yHat = xMat*ws\n",
    "\n",
    "fig = plt.figure()\n",
    "ax = fig.add_subplot(111)\n",
    "ax.scatter(xMat[:,1].flatten().A[0],yMat.T[:,0].flatten().A[0])\n",
    "xCopy = xMat.copy()\n",
    "xCopy.sort(0)\n",
    "yHat = xCopy*ws\n",
    "ax.plot(xCopy[:,1],yHat,'r+')"
   ]
  },
  {
   "cell_type": "markdown",
   "id": "sacred-sequence",
   "metadata": {},
   "source": [
    "除了可视化，也可以使用计算相关系数的方法来评估回归效果。`numpy`自带的`corrcoef()`方法可以计算预测值和真实值的相关性："
   ]
  },
  {
   "cell_type": "code",
   "execution_count": 21,
   "id": "utility-guard",
   "metadata": {},
   "outputs": [
    {
     "data": {
      "text/plain": [
       "array([[1.        , 0.98647356],\n",
       "       [0.98647356, 1.        ]])"
      ]
     },
     "execution_count": 21,
     "metadata": {},
     "output_type": "execute_result"
    }
   ],
   "source": [
    "np.corrcoef((xMat*ws).T, yMat)"
   ]
  },
  {
   "cell_type": "markdown",
   "id": "cross-folks",
   "metadata": {},
   "source": [
    "## 局部加权线性回归LWLR\n",
    "\n",
    "一般的线性回归容易出现欠拟合，无法发现数据中的一些潜在模式。\n",
    "\n",
    "局部加权线性回归给待预测点附近的每个点赋予一定的权重，在子集上基于最小均方差进行普通回归（每次回归都需要事先选取出对应的数据子集）。该算法解出的回归系数最优解为：\n",
    "\n",
    "$$ \\hat{w} = (\\boldsymbol{X}^T\\boldsymbol{W}\\boldsymbol{X})^{-1}\\boldsymbol{X}^T\\boldsymbol{W}y $$\n",
    "\n",
    "其中 $\\boldsymbol{W}$ 为一个矩阵，为每个数据点赋予权重。\n",
    "\n",
    "LWLR使用“核”对附近的点赋予更高的权重。最常用的核为高斯核：\n",
    "\n",
    "$$ w(i,i) = \\exp{\\left(-\\dfrac{(x^{(i)}-x)^2}{2k^2}\\right)} $$"
   ]
  },
  {
   "cell_type": "code",
   "execution_count": 24,
   "id": "working-minister",
   "metadata": {},
   "outputs": [],
   "source": [
    "def lwlr(testPoint,xArr,yArr,k=1.0):\n",
    "    xMat = np.mat(xArr); yMat = np.mat(yArr).T\n",
    "    m = np.shape(xMat)[0]\n",
    "    weights = np.mat(np.eye((m)))\n",
    "    for j in range(m):                      #next 2 lines create weights matrix\n",
    "        diffMat = testPoint - xMat[j,:]     #Xi - X\n",
    "        weights[j,j] = np.exp(diffMat*diffMat.T/(-2.0*k**2))\n",
    "    xTx = xMat.T * (weights * xMat)\n",
    "    if np.linalg.det(xTx) == 0.0:\n",
    "        print(\"This matrix is singular, cannot do inverse\")\n",
    "        return\n",
    "    ws = xTx.I * (xMat.T * (weights * yMat))\n",
    "    return testPoint * ws\n",
    "\n",
    "def lwlrTest(testArr,xArr,yArr,k=1.0):  #loops over all the data points and applies lwlr to each one\n",
    "    m = np.shape(testArr)[0]\n",
    "    yHat = np.zeros(m)\n",
    "    for i in range(m):\n",
    "        yHat[i] = lwlr(testArr[i],xArr,yArr,k)\n",
    "    return yHat"
   ]
  },
  {
   "cell_type": "code",
   "execution_count": 26,
   "id": "upper-conjunction",
   "metadata": {},
   "outputs": [
    {
     "data": {
      "text/plain": [
       "matrix([[3.12204471]])"
      ]
     },
     "metadata": {},
     "output_type": "display_data"
    },
    {
     "data": {
      "text/plain": [
       "matrix([[3.20175729]])"
      ]
     },
     "metadata": {},
     "output_type": "display_data"
    }
   ],
   "source": [
    "display(lwlr(xArr[0],xArr,yArr,1.0)) # 单点估计\n",
    "display(lwlr(xArr[0],xArr,yArr,0.001)) # 单点估计"
   ]
  },
  {
   "cell_type": "code",
   "execution_count": 28,
   "id": "inappropriate-singing",
   "metadata": {},
   "outputs": [
    {
     "name": "stdout",
     "output_type": "stream",
     "text": [
      "CPU times: user 3.04 s, sys: 1.28 s, total: 4.32 s\n",
      "Wall time: 2.2 s\n"
     ]
    }
   ],
   "source": [
    "%%time\n",
    "yHat = lwlrTest(xArr, xArr, yArr, 0.003) # 整体估计"
   ]
  },
  {
   "cell_type": "markdown",
   "id": "bottom-rugby",
   "metadata": {},
   "source": [
    "局部加权线性回归增加了计算量，对每个点做预测时都必须使用整个数据集。"
   ]
  },
  {
   "cell_type": "code",
   "execution_count": 30,
   "id": "single-kruger",
   "metadata": {},
   "outputs": [],
   "source": [
    "srtInd = xMat[:,1].argsort(0)\n",
    "xSort = xMat[srtInd][:,0,:]"
   ]
  },
  {
   "cell_type": "code",
   "execution_count": 33,
   "id": "plastic-drawing",
   "metadata": {},
   "outputs": [],
   "source": [
    "yHat1 = lwlrTest(xArr, xArr, yArr, 1)\n",
    "yHat2 = lwlrTest(xArr, xArr, yArr, 0.01)\n",
    "yHat3 = lwlrTest(xArr, xArr, yArr, 0.003)"
   ]
  },
  {
   "cell_type": "code",
   "execution_count": 45,
   "id": "editorial-combination",
   "metadata": {},
   "outputs": [
    {
     "data": {
      "text/plain": [
       "<matplotlib.collections.PathCollection at 0x7fa7f2de4c88>"
      ]
     },
     "execution_count": 45,
     "metadata": {},
     "output_type": "execute_result"
    },
    {
     "data": {
      "image/png": "[encoded data removed]",
      "text/plain": [
       "<Figure size 432x288 with 3 Axes>"
      ]
     },
     "metadata": {
      "needs_background": "light"
     },
     "output_type": "display_data"
    }
   ],
   "source": [
    "fig = plt.figure()\n",
    "ax1 = fig.add_subplot(311)\n",
    "ax1.set_title('$k=1$')\n",
    "ax1.plot(xSort[:,1],yHat1[srtInd])\n",
    "ax1.scatter(xMat[:,1].flatten().A[0],yMat.T[:,0].flatten().A[0], s=2, c='r')\n",
    "ax2 = fig.add_subplot(312)\n",
    "ax2.set_title('$k=0.01$')\n",
    "ax2.plot(xSort[:,1],yHat2[srtInd])\n",
    "ax2.scatter(xMat[:,1].flatten().A[0],yMat.T[:,0].flatten().A[0], s=2, c='r')\n",
    "ax3 = fig.add_subplot(313)\n",
    "ax3.set_title('$k=0.003$')\n",
    "ax3.plot(xSort[:,1],yHat3[srtInd])\n",
    "ax3.scatter(xMat[:,1].flatten().A[0],yMat.T[:,0].flatten().A[0], s=2, c='r')"
   ]
  },
  {
   "cell_type": "markdown",
   "id": "banner-doctor",
   "metadata": {},
   "source": [
    "可以观察到k取三种值时回归曲线的拟合情况。k过大可能导致欠拟合，k过小可能导致过拟合。"
   ]
  }
 ],
 "metadata": {
  "kernelspec": {
   "display_name": "Python 3.6",
   "language": "python",
   "name": "python3"
  },
  "language_info": {
   "codemirror_mode": {
    "name": "ipython",
    "version": 3
   },
   "file_extension": ".py",
   "mimetype": "text/x-python",
   "name": "python",
   "nbconvert_exporter": "python",
   "pygments_lexer": "ipython3",
   "version": "3.6.8"
  },
  "toc": {
   "base_numbering": 1,
   "nav_menu": {},
   "number_sections": true,
   "sideBar": true,
   "skip_h1_title": false,
   "title_cell": "Table of Contents",
   "title_sidebar": "Contents",
   "toc_cell": false,
   "toc_position": {},
   "toc_section_display": true,
   "toc_window_display": false
  }
 },
 "nbformat": 4,
 "nbformat_minor": 5
}
