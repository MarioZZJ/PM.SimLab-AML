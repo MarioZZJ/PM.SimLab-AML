{
 "cells": [
  {
   "cell_type": "markdown",
   "id": "marine-leisure",
   "metadata": {},
   "source": [
    "## 学习和使用回归分析\n",
    "\n",
    "* 复习教材第8、9章内容，调试运行相关代码。\n",
    "* 查阅scikit-learn工具包中回归学习器的相关说明，了解相关函数使用方法。\n",
    "* 对波士顿房价数据集进行回归分析。"
   ]
  },
  {
   "cell_type": "markdown",
   "id": "lyric-biodiversity",
   "metadata": {},
   "source": [
    "# 回归分析"
   ]
  },
  {
   "cell_type": "markdown",
   "id": "attached-duncan",
   "metadata": {},
   "source": [
    "## 线性回归\n",
    "\n",
    "目标：给定数据集$D=\\{(\\boldsymbol{x_1},y_1),(\\boldsymbol{x_2},y_2),...,(\\boldsymbol{x_m},y_m)\\}$ ，其中$\\boldsymbol{x_i}=(x_{i1};x_{i2};...x_{id}), \\ y_i \\in R$，学习一个线性模型以尽可能准确地预测实值输出标记，即学习得到$f(x_i)\\approx y_i$\n",
    "\n",
    "先考虑简单的一元线性回归，目标是求得回归方程 $f(x)=wx_i+b$ 使得 $f(x_i)\\approx y_i$ 。 $w$ 称为回归系数，求回归系数的过程就是回归。\n",
    "\n",
    "我们可以简单地从一定量数据中求得回归方程。假定输入数据存放在矩阵 $\\boldsymbol{X}$ 中，回归系数存放在向量 $w$ 中，对于给定的 $X_1$ ，预测结果将会通过 $Y_1 = X_1^T w$ 给出，通过计算预测Y和真实Y之间的差值，选择一个使得误差最小的 $w$ 。比如可以采用平方误差：\n",
    "\n",
    "$$ \\sum\\limits_{i=1}^m (y_i - x_i^Tw)^2 $$\n",
    "\n",
    "用矩阵表示则是 $ (y-\\boldsymbol{X}w)^T(y-\\boldsymbol{X}w $ 。对 $w$ 求导并令其为零，可以解出最优解（普通最小二乘法，OLS）\n",
    "\n",
    "$$ \\hat{w} = (\\boldsymbol{X}^T\\boldsymbol{X})^{-1}\\boldsymbol{X}^Ty $$\n",
    "\n",
    "计算过程中存在求逆运算，所以需要判断逆矩阵是否存在。"
   ]
  },
  {
   "cell_type": "code",
   "execution_count": 1,
   "id": "accepting-onion",
   "metadata": {},
   "outputs": [],
   "source": [
    "import numpy as np\n",
    "import matplotlib.pyplot as plt"
   ]
  },
  {
   "cell_type": "code",
   "execution_count": 2,
   "id": "applicable-lesson",
   "metadata": {},
   "outputs": [],
   "source": [
    "def loadDataSet(fileName):      #general function to parse tab -delimited floats\n",
    "    numFeat = len(open(fileName).readline().split('\\t')) - 1 #get number of fields \n",
    "    dataMat = []; labelMat = []\n",
    "    fr = open(fileName)\n",
    "    for line in fr.readlines():\n",
    "        lineArr =[]\n",
    "        curLine = line.strip().split('\\t')\n",
    "        for i in range(numFeat):\n",
    "            lineArr.append(float(curLine[i]))\n",
    "        dataMat.append(lineArr)\n",
    "        labelMat.append(float(curLine[-1]))\n",
    "    return dataMat,labelMat\n",
    "\n",
    "def standRegres(xArr,yArr):\n",
    "    xMat = np.mat(xArr); yMat = np.mat(yArr).T\n",
    "    xTx = xMat.T*xMat\n",
    "    if np.linalg.det(xTx) == 0.0: # 检查行列式是否为0\n",
    "        print(\"This matrix is singular, cannot do inverse\")\n",
    "        return\n",
    "    ws = xTx.I * (xMat.T*yMat) #.I 为逆运算\n",
    "    return ws"
   ]
  },
  {
   "cell_type": "code",
   "execution_count": 3,
   "id": "configured-vinyl",
   "metadata": {},
   "outputs": [
    {
     "data": {
      "text/plain": [
       "[[1.0, 0.067732], [1.0, 0.42781]]"
      ]
     },
     "metadata": {},
     "output_type": "display_data"
    },
    {
     "data": {
      "text/plain": [
       "[3.176513, 3.816464]"
      ]
     },
     "metadata": {},
     "output_type": "display_data"
    }
   ],
   "source": [
    "xArr,yArr=loadDataSet('./data/ex0.txt')\n",
    "display(xArr[0:2]) # X0,X1\n",
    "display(yArr[0:2])"
   ]
  },
  {
   "cell_type": "code",
   "execution_count": 4,
   "id": "fitted-reach",
   "metadata": {},
   "outputs": [
    {
     "data": {
      "text/plain": [
       "matrix([[3.00774324],\n",
       "        [1.69532264]])"
      ]
     },
     "execution_count": 4,
     "metadata": {},
     "output_type": "execute_result"
    }
   ],
   "source": [
    "ws = standRegres(xArr,yArr)\n",
    "ws"
   ]
  },
  {
   "cell_type": "markdown",
   "id": "characteristic-response",
   "metadata": {},
   "source": [
    "得到了回归系数，得到回归方程。y = ws[0] + ws[1] \\* X1，可以绘图查看拟合效果"
   ]
  },
  {
   "cell_type": "code",
   "execution_count": 5,
   "id": "disciplinary-dollar",
   "metadata": {},
   "outputs": [
    {
     "data": {
      "text/plain": [
       "[<matplotlib.lines.Line2D at 0x7fa63b2c9e10>]"
      ]
     },
     "execution_count": 5,
     "metadata": {},
     "output_type": "execute_result"
    },
    {
     "data": {
      "image/png": "[encoded data removed]",
      "text/plain": [
       "<Figure size 432x288 with 1 Axes>"
      ]
     },
     "metadata": {
      "needs_background": "light"
     },
     "output_type": "display_data"
    }
   ],
   "source": [
    "xMat = np.mat(xArr)\n",
    "yMat = np.mat(yArr)\n",
    "yHat = xMat*ws\n",
    "\n",
    "fig = plt.figure()\n",
    "ax = fig.add_subplot(111)\n",
    "ax.scatter(xMat[:,1].flatten().A[0],yMat.T[:,0].flatten().A[0])\n",
    "xCopy = xMat.copy()\n",
    "xCopy.sort(0)\n",
    "yHat = xCopy*ws\n",
    "ax.plot(xCopy[:,1],yHat,'r+')"
   ]
  },
  {
   "cell_type": "markdown",
   "id": "auburn-monkey",
   "metadata": {},
   "source": [
    "除了可视化，也可以使用计算相关系数的方法来评估回归效果。`numpy`自带的`corrcoef()`方法可以计算预测值和真实值的相关性："
   ]
  },
  {
   "cell_type": "code",
   "execution_count": 6,
   "id": "tropical-pulse",
   "metadata": {},
   "outputs": [
    {
     "data": {
      "text/plain": [
       "array([[1.        , 0.98647356],\n",
       "       [0.98647356, 1.        ]])"
      ]
     },
     "execution_count": 6,
     "metadata": {},
     "output_type": "execute_result"
    }
   ],
   "source": [
    "np.corrcoef((xMat*ws).T, yMat)"
   ]
  },
  {
   "cell_type": "markdown",
   "id": "potential-correction",
   "metadata": {},
   "source": [
    "## 局部加权线性回归LWLR\n",
    "\n",
    "一般的线性回归容易出现欠拟合，无法发现数据中的一些潜在模式。\n",
    "\n",
    "局部加权线性回归给待预测点附近的每个点赋予一定的权重，在子集上基于最小均方差进行普通回归（每次回归都需要事先选取出对应的数据子集）。该算法解出的回归系数最优解为：\n",
    "\n",
    "$$ \\hat{w} = (\\boldsymbol{X}^T\\boldsymbol{W}\\boldsymbol{X})^{-1}\\boldsymbol{X}^T\\boldsymbol{W}y $$\n",
    "\n",
    "其中 $\\boldsymbol{W}$ 为一个矩阵，为每个数据点赋予权重。\n",
    "\n",
    "LWLR使用“核”对附近的点赋予更高的权重。最常用的核为高斯核：\n",
    "\n",
    "$$ w(i,i) = \\exp{\\left(-\\dfrac{(x^{(i)}-x)^2}{2k^2}\\right)} $$"
   ]
  },
  {
   "cell_type": "code",
   "execution_count": 7,
   "id": "invalid-oxygen",
   "metadata": {},
   "outputs": [],
   "source": [
    "def lwlr(testPoint,xArr,yArr,k=1.0):\n",
    "    xMat = np.mat(xArr); yMat = np.mat(yArr).T\n",
    "    m = np.shape(xMat)[0]\n",
    "    weights = np.mat(np.eye((m)))\n",
    "    for j in range(m):                      #next 2 lines create weights matrix\n",
    "        diffMat = testPoint - xMat[j,:]     #Xi - X\n",
    "        weights[j,j] = np.exp(diffMat*diffMat.T/(-2.0*k**2))\n",
    "    xTx = xMat.T * (weights * xMat)\n",
    "    if np.linalg.det(xTx) == 0.0:\n",
    "        print(\"This matrix is singular, cannot do inverse\")\n",
    "        return\n",
    "    ws = xTx.I * (xMat.T * (weights * yMat))\n",
    "    return testPoint * ws\n",
    "\n",
    "def lwlrTest(testArr,xArr,yArr,k=1.0):  #loops over all the data points and applies lwlr to each one\n",
    "    m = np.shape(testArr)[0]\n",
    "    yHat = np.zeros(m)\n",
    "    for i in range(m):\n",
    "        yHat[i] = lwlr(testArr[i],xArr,yArr,k)\n",
    "    return yHat"
   ]
  },
  {
   "cell_type": "code",
   "execution_count": 8,
   "id": "suitable-system",
   "metadata": {},
   "outputs": [
    {
     "data": {
      "text/plain": [
       "matrix([[3.12204471]])"
      ]
     },
     "metadata": {},
     "output_type": "display_data"
    },
    {
     "data": {
      "text/plain": [
       "matrix([[3.20175729]])"
      ]
     },
     "metadata": {},
     "output_type": "display_data"
    }
   ],
   "source": [
    "display(lwlr(xArr[0],xArr,yArr,1.0)) # 单点估计\n",
    "display(lwlr(xArr[0],xArr,yArr,0.001)) # 单点估计"
   ]
  },
  {
   "cell_type": "code",
   "execution_count": 9,
   "id": "manufactured-wallet",
   "metadata": {},
   "outputs": [
    {
     "name": "stdout",
     "output_type": "stream",
     "text": [
      "CPU times: user 3.08 s, sys: 1.2 s, total: 4.28 s\n",
      "Wall time: 2.21 s\n"
     ]
    }
   ],
   "source": [
    "%%time\n",
    "yHat = lwlrTest(xArr, xArr, yArr, 0.003) # 整体估计"
   ]
  },
  {
   "cell_type": "markdown",
   "id": "happy-rainbow",
   "metadata": {},
   "source": [
    "局部加权线性回归增加了计算量，对每个点做预测时都必须使用整个数据集。"
   ]
  },
  {
   "cell_type": "code",
   "execution_count": 10,
   "id": "final-skating",
   "metadata": {},
   "outputs": [],
   "source": [
    "srtInd = xMat[:,1].argsort(0)\n",
    "xSort = xMat[srtInd][:,0,:]"
   ]
  },
  {
   "cell_type": "code",
   "execution_count": 11,
   "id": "unable-joining",
   "metadata": {},
   "outputs": [],
   "source": [
    "yHat1 = lwlrTest(xArr, xArr, yArr, 1)\n",
    "yHat2 = lwlrTest(xArr, xArr, yArr, 0.01)\n",
    "yHat3 = lwlrTest(xArr, xArr, yArr, 0.003)"
   ]
  },
  {
   "cell_type": "code",
   "execution_count": 12,
   "id": "printable-perfume",
   "metadata": {},
   "outputs": [
    {
     "data": {
      "text/plain": [
       "<matplotlib.collections.PathCollection at 0x7fa63b164c18>"
      ]
     },
     "execution_count": 12,
     "metadata": {},
     "output_type": "execute_result"
    },
    {
     "data": {
      "image/png": "[encoded data removed]",
      "text/plain": [
       "<Figure size 432x288 with 3 Axes>"
      ]
     },
     "metadata": {
      "needs_background": "light"
     },
     "output_type": "display_data"
    }
   ],
   "source": [
    "fig = plt.figure()\n",
    "ax1 = fig.add_subplot(311)\n",
    "ax1.set_title('$k=1$')\n",
    "ax1.plot(xSort[:,1],yHat1[srtInd])\n",
    "ax1.scatter(xMat[:,1].flatten().A[0],yMat.T[:,0].flatten().A[0], s=2, c='r')\n",
    "ax2 = fig.add_subplot(312)\n",
    "ax2.set_title('$k=0.01$')\n",
    "ax2.plot(xSort[:,1],yHat2[srtInd])\n",
    "ax2.scatter(xMat[:,1].flatten().A[0],yMat.T[:,0].flatten().A[0], s=2, c='r')\n",
    "ax3 = fig.add_subplot(313)\n",
    "ax3.set_title('$k=0.003$')\n",
    "ax3.plot(xSort[:,1],yHat3[srtInd])\n",
    "ax3.scatter(xMat[:,1].flatten().A[0],yMat.T[:,0].flatten().A[0], s=2, c='r')"
   ]
  },
  {
   "cell_type": "markdown",
   "id": "pursuant-drunk",
   "metadata": {},
   "source": [
    "可以观察到k取三种值时回归曲线的拟合情况。k过大可能导致欠拟合，k过小可能导致过拟合。"
   ]
  },
  {
   "cell_type": "markdown",
   "id": "animal-wages",
   "metadata": {},
   "source": [
    "## 缩减系数"
   ]
  },
  {
   "cell_type": "markdown",
   "id": "scheduled-review",
   "metadata": {},
   "source": [
    "### 岭回归\n",
    "\n",
    "当特征数大于样本数，即 $X^TX$ 不是满秩矩阵时，求逆运算无法正常进行。此时可以对原式中 $X^TX$ 加上一个 $\\lambda I$ 单位矩阵，使得矩阵非奇异。\n",
    "\n",
    "此时回归参数最优解为\n",
    "\n",
    "$$ \\hat{w}=(X^TX+\\lambda I)^{-1}X^Ty $$\n",
    "\n",
    "岭回归最先用来处理特征数多于样本数的情况，现在也用于在估计中加入偏差，从而得到更好的估计。这里通过引入 $\\lambda$ 来限制了所有 $w$ 之和，通过引入该惩罚项，能够减少不重要的参数，这个技术在统计学中也叫做缩减"
   ]
  },
  {
   "cell_type": "code",
   "execution_count": 13,
   "id": "imported-integrity",
   "metadata": {},
   "outputs": [],
   "source": [
    "def ridgeRegres(xMat,yMat,lam=0.2):\n",
    "    xTx = xMat.T*xMat\n",
    "    denom = xTx + np.eye(np.shape(xMat)[1])*lam\n",
    "    if np.linalg.det(denom) == 0.0: # 这里一般是lam设置为0的情况\n",
    "        print(\"This matrix is singular, cannot do inverse\")\n",
    "        return\n",
    "    ws = denom.I * (xMat.T*yMat)\n",
    "    return ws\n",
    "    \n",
    "def ridgeTest(xArr,yArr):\n",
    "    xMat = np.mat(xArr); yMat=np.mat(yArr).T\n",
    "    yMean = np.mean(yMat,0)\n",
    "    yMat = yMat - yMean     #to eliminate X0 take mean off of Y\n",
    "    #regularize X's 对X标准化处理\n",
    "    xMeans = np.mean(xMat,0)   #calc mean then subtract it off\n",
    "    xVar = np.var(xMat,0)      #calc variance of Xi then divide by it\n",
    "    xMat = (xMat - xMeans)/xVar\n",
    "    numTestPts = 30\n",
    "    wMat = np.zeros((numTestPts,np.shape(xMat)[1]))\n",
    "    for i in range(numTestPts):\n",
    "        ws = ridgeRegres(xMat,yMat,np.exp(i-10))\n",
    "        wMat[i,:]=ws.T\n",
    "    return wMat"
   ]
  },
  {
   "cell_type": "markdown",
   "id": "superior-linux",
   "metadata": {},
   "source": [
    "调用`ridgeTest()`可以在30个不同的 $\\lambda$ 下调用 `ridgeRegres()`方法。可以得到30个不同 $\\lambda$ 下得到的回归系数。"
   ]
  },
  {
   "cell_type": "code",
   "execution_count": 14,
   "id": "heated-vessel",
   "metadata": {},
   "outputs": [
    {
     "data": {
      "text/plain": [
       "(30, 8)"
      ]
     },
     "execution_count": 14,
     "metadata": {},
     "output_type": "execute_result"
    }
   ],
   "source": [
    "abX, abY = loadDataSet('./data/abalone.txt')\n",
    "ridgeWeights = ridgeTest(abX,abY) \n",
    "ridgeWeights.shape"
   ]
  },
  {
   "cell_type": "code",
   "execution_count": 15,
   "id": "optimum-concern",
   "metadata": {},
   "outputs": [
    {
     "data": {
      "image/png": "[encoded data removed]",
      "text/plain": [
       "<Figure size 432x288 with 1 Axes>"
      ]
     },
     "metadata": {
      "needs_background": "light"
     },
     "output_type": "display_data"
    }
   ],
   "source": [
    "fig = plt.figure()\n",
    "ax = fig.add_subplot(111)\n",
    "ax.plot(ridgeWeights)\n",
    "plt.xlabel('$\\log{\\lambda}$')\n",
    "plt.ylabel('$w$')\n",
    "plt.show()"
   ]
  },
  {
   "cell_type": "markdown",
   "id": "dimensional-crawford",
   "metadata": {},
   "source": [
    "可以在图中看出回归系数和 $\\log{\\lambda}$ 的关系。 $\\lambda$ 最小时，可以得到所有系数的原始值（与线性回归一致）；而很大时，系数全部缩减为0。中间部分的某值可以取得最好的预测效果。"
   ]
  },
  {
   "cell_type": "markdown",
   "id": "incident-personality",
   "metadata": {},
   "source": [
    "### 前向逐步回归\n",
    "\n",
    "前向逐步回归属于一种贪心算法，每一步都减少误差。一开始所有的权重都设为1，然后每一步所做的决策是对某个权重增加或减少一个很小的值。\n",
    "\n",
    "算法思路：\n",
    "\n",
    "> * 数据标准化，使其分布满足0均值和单位方差\n",
    "> * 在每轮迭代过程中：\n",
    ">   * 设置当前最小误差lowestError为+∞\n",
    ">   * 对每个特征：\n",
    ">     * 增大或缩小：\n",
    ">       * 改变一个系数得到一个新的 $w$\n",
    ">       * 计算新 $w$ 下的误差\n",
    ">       * 如果误差Error小于当前最小误差lowestError：\n",
    ">         * 设置 $w_{\\text{best}}$等于当前的 $w$ \n",
    ">   * 将 $w$ 设置为新的$w_{\\text{best}}$\n",
    "\n"
   ]
  },
  {
   "cell_type": "code",
   "execution_count": 16,
   "id": "facial-strip",
   "metadata": {},
   "outputs": [],
   "source": [
    "def rssError(yArr,yHatArr): #yArr and yHatArr both need to be arrays\n",
    "    return ((yArr-yHatArr)**2).sum()\n",
    "\n",
    "def regularize(xMat):#regularize by columns\n",
    "    inMat = xMat.copy()\n",
    "    inMeans = np.mean(inMat,0)   #calc mean then subtract it off\n",
    "    inVar = np.var(inMat,0)      #calc variance of Xi then divide by it\n",
    "    inMat = (inMat - inMeans)/inVar\n",
    "    return inMat\n",
    "\n",
    "def stageWise(xArr,yArr,eps=0.01,numIt=100): #eps：每次迭代需要调整的步长； numIt：迭代次数。\n",
    "    xMat = np.mat(xArr); yMat=np.mat(yArr).T\n",
    "    yMean = np.mean(yMat,0)\n",
    "    yMat = yMat - yMean     #can also regularize ys but will get smaller coef\n",
    "    xMat = regularize(xMat)\n",
    "    m,n = np.shape(xMat)\n",
    "    returnMat = np.zeros((numIt,n)) \n",
    "    ws = np.zeros((n,1)); wsTest = ws.copy(); wsMax = ws.copy()\n",
    "    for i in range(numIt):\n",
    "#         print(ws.T)\n",
    "        lowestError = np.inf; \n",
    "        for j in range(n):\n",
    "            for sign in [-1,1]:\n",
    "                wsTest = ws.copy()\n",
    "                wsTest[j] += eps*sign\n",
    "                yTest = xMat*wsTest\n",
    "                rssE = rssError(yMat.A,yTest.A)\n",
    "                if rssE < lowestError:\n",
    "                    lowestError = rssE\n",
    "                    wsMax = wsTest\n",
    "        ws = wsMax.copy()\n",
    "        returnMat[i,:]=ws.T\n",
    "    return returnMat"
   ]
  },
  {
   "cell_type": "code",
   "execution_count": 17,
   "id": "boxed-marina",
   "metadata": {},
   "outputs": [
    {
     "data": {
      "text/plain": [
       "array([[ 0.  ,  0.  ,  0.  , ...,  0.  ,  0.  ,  0.  ],\n",
       "       [ 0.  ,  0.  ,  0.  , ...,  0.  ,  0.  ,  0.  ],\n",
       "       [ 0.  ,  0.  ,  0.  , ...,  0.  ,  0.  ,  0.  ],\n",
       "       ...,\n",
       "       [ 0.05,  0.  ,  0.09, ..., -0.64,  0.  ,  0.36],\n",
       "       [ 0.04,  0.  ,  0.09, ..., -0.64,  0.  ,  0.36],\n",
       "       [ 0.05,  0.  ,  0.09, ..., -0.64,  0.  ,  0.36]])"
      ]
     },
     "execution_count": 17,
     "metadata": {},
     "output_type": "execute_result"
    }
   ],
   "source": [
    "stageWise(abX,abY,0.01,200)"
   ]
  },
  {
   "cell_type": "code",
   "execution_count": 18,
   "id": "organized-remark",
   "metadata": {},
   "outputs": [
    {
     "name": "stdout",
     "output_type": "stream",
     "text": [
      "CPU times: user 8.71 s, sys: 3.11 s, total: 11.8 s\n",
      "Wall time: 6.22 s\n"
     ]
    },
    {
     "data": {
      "text/plain": [
       "array([[ 0.   ,  0.   ,  0.   , ...,  0.   ,  0.   ,  0.   ],\n",
       "       [ 0.   ,  0.   ,  0.   , ...,  0.   ,  0.   ,  0.   ],\n",
       "       [ 0.   ,  0.   ,  0.   , ...,  0.   ,  0.   ,  0.   ],\n",
       "       ...,\n",
       "       [ 0.043, -0.011,  0.12 , ..., -0.963, -0.105,  0.187],\n",
       "       [ 0.044, -0.011,  0.12 , ..., -0.963, -0.105,  0.187],\n",
       "       [ 0.043, -0.011,  0.12 , ..., -0.963, -0.105,  0.187]])"
      ]
     },
     "execution_count": 18,
     "metadata": {},
     "output_type": "execute_result"
    }
   ],
   "source": [
    "%%time\n",
    "stageWise(abX,abY,0.001,5000)"
   ]
  },
  {
   "cell_type": "markdown",
   "id": "indie-torture",
   "metadata": {},
   "source": [
    "尝试更小的步长和更多的步数后，可以得到一个较好的结果。和最小二乘法进行比较："
   ]
  },
  {
   "cell_type": "code",
   "execution_count": 19,
   "id": "stuck-breakfast",
   "metadata": {},
   "outputs": [
    {
     "name": "stdout",
     "output_type": "stream",
     "text": [
      "CPU times: user 18.9 ms, sys: 11 ms, total: 29.9 ms\n",
      "Wall time: 17 ms\n"
     ]
    },
    {
     "data": {
      "text/plain": [
       "matrix([[ 0.0430442 , -0.02274163,  0.13214087,  0.02075182,  2.22403814,\n",
       "         -0.99895312, -0.11725427,  0.16622915]])"
      ]
     },
     "execution_count": 19,
     "metadata": {},
     "output_type": "execute_result"
    }
   ],
   "source": [
    "%%time\n",
    "xMat = np.mat(abX); yMat = np.mat(abY).T\n",
    "xMat = regularize(xMat)\n",
    "yM = np.mean(yMat,0)\n",
    "yMat = yMat - yM\n",
    "weights = standRegres(xMat,yMat.T)\n",
    "weights.T"
   ]
  },
  {
   "cell_type": "markdown",
   "id": "broadband-fancy",
   "metadata": {},
   "source": [
    "可以看到多次迭代后，逐步线性回归算法与常规的最小二乘法效果类似。逐步线性回归能够帮助人们理解现有的模型并作出改进，当构建了一个模型后，可以运行该算法找出重要的特征，这样就有可能及时停止对那些不重要特征的收集。"
   ]
  },
  {
   "cell_type": "markdown",
   "id": "demographic-offset",
   "metadata": {},
   "source": [
    "# 树回归\n",
    "\n",
    "线性回归的不足：\n",
    "\n",
    "* 现实问题非线性\n",
    "* 仅用线性回归难以拟合所有样本（容易过拟合）\n",
    "* 解决方法\n",
    "  * 递归切分数据集，使子集适于用线性模型拟合\n",
    "  * 树结构+回归\n",
    "  * CART树\n",
    "  "
   ]
  },
  {
   "cell_type": "markdown",
   "id": "dominant-closure",
   "metadata": {},
   "source": [
    "## CART回归树生成\n",
    "\n",
    "基本思路：\n",
    "\n",
    "> * 给定训练数据集 $D=\\{(x_1,y_1),(x_2,y_2),...,(x_N,y_N)\\}$ \n",
    ">\n",
    "> * 设回归树将输入空间划分为 $m$ 个单元 $R_1,R_2,...,R_m$ 并且每个单元 $R_m$ 上有一个固定的输出 $C_m$ ，则回归树可表示为\n",
    ">   $$\n",
    "  f(x) = \\sum\\limits_{m=1}^M c_mI \\ \\ (x\\in R_m)\n",
    "   $$\n",
    ">\n",
    "> * 由平方误差 $\\sum\\limits_{x_i\\in m} (y_i-f(x_i))^2$ 最小准则，可知每个单元 $R_m$ 上的最优输出值 $\\hat{c}_m = \\text{ave}(y_i|x_i \\in R_m)$\n",
    "\n",
    "最小二乘回归树生成算法\n",
    "\n",
    "> * 输入：训练数据集 $D$ ;\n",
    ">\n",
    "> * 输出：回归树 $f(x)$。\n",
    ">\n",
    "> * 在训练数据集所在的输入空间中，递归地将每个区域划分为两个子区域并决定每个子区域上的输出值，构建二叉决策树：\n",
    ">\n",
    ">   * 选择最优切分变量 $j$ 和切分点 $s$ ，求解\n",
    ">     $$\n",
    "     \\min\\limits_{j,s}\\left[\\min\\limits_{c_1}\\sum\\limits_{x\\in R_1(j,s)}(y_i-c_1)^2 + \\min\\limits_{c_2}\\sum\\limits_{x\\in R_2(j,s)}(y_i-c_2)^2\\right]\n",
    "     $$\n",
    ">     遍历变量 $j$ ，对固定的切分变量 $j$ 扫描切分点 $s$ ，选择使式达到最小值的 $(j,s)$ 对。\n",
    ">\n",
    ">   * 用选定的 $(j,s)$ 对划分区域并决定相应的输出值：\n",
    ">     $$\n",
    "     R_1(j,s) = \\{x|x^{(j)} \\le s\\}, \\ R_2(j,s) = \\{x|x^{(j)} \\gt s\\} \\\\\n",
    "     \\hat{c}_m = \\dfrac{1}{N_m} \\sum\\limits_{x_i \\in R_m(j,s)} y_i, \\ \\ x\\in R_m, \\ \\ m=1,2\n",
    "     $$\n",
    ">\n",
    ">   * 继续对两个子区域调用以上两步，直至满足停止条件。\n",
    ">\n",
    ">   * 将输入空间划分为 $M$ 个区域 $R_1, R_2, ..., R_M$ ，生成决策树：\n",
    ">     $$\n",
    "     f(x) = \\sum\\limits_{m=1}^M c_mI \\ \\ (x\\in R_m)\n",
    "     $$"
   ]
  },
  {
   "cell_type": "code",
   "execution_count": 20,
   "id": "modern-brush",
   "metadata": {},
   "outputs": [],
   "source": [
    "# 树的数据结构\n",
    "\n",
    "class treeNode():\n",
    "    def __init__(self, feat, val, right, left):\n",
    "        featureToSplitOn = feat\n",
    "        valueOfSplit = val\n",
    "        rightBranch = right\n",
    "        leftBranch = left"
   ]
  },
  {
   "cell_type": "code",
   "execution_count": 21,
   "id": "frank-color",
   "metadata": {},
   "outputs": [],
   "source": [
    "def loadDataSet(fileName):\n",
    "    dataMat = []\n",
    "    fr = open(fileName)\n",
    "    for line in fr.readlines():\n",
    "        curLine = line.strip().split('\\t')\n",
    "        fltLine = list(map(float, curLine))  # 转化为float类型\n",
    "        dataMat.append(fltLine)\n",
    "    return dataMat\n",
    "\n",
    "def binSplitDataSet(dataSet, feature, value): # 函数说明:根据特征切分数据集合\n",
    "    mat0 = dataSet[np.nonzero(dataSet[:, feature] > value)[0], :]\n",
    "    mat1 = dataSet[np.nonzero(dataSet[:, feature] <= value)[0], :]\n",
    "    return mat0, mat1\n",
    "\n",
    "def regLeaf(dataSet): # 函数说明:生成叶结点\n",
    "    return np.mean(dataSet[:, -1])\n",
    "\n",
    "def regErr(dataSet): # 函数说明:误差估计函数\n",
    "    return np.var(dataSet[:, -1]) * np.shape(dataSet)[0]\n",
    "\n",
    "# 函数说明:找到数据的最佳二元切分方式函数\n",
    "\"\"\"\n",
    "Parameters:\n",
    "    dataSet - 数据集合\n",
    "    leafType - 生成叶结点\n",
    "    regErr - 误差估计函数\n",
    "    ops - 用户定义的参数构成的元组\n",
    "\"\"\"\n",
    "def chooseBestSplit(dataSet, leafType=regLeaf, errType=regErr, ops=(1, 4)):\n",
    "    import types\n",
    "    # tolS允许的误差下降值,tolN切分的最少样本数\n",
    "    ## 用于控制函数的停止时机\n",
    "    tolS = ops[0]; tolN = ops[1]\n",
    "    # 如果当前所有值相等,则退出。(根据set的特性)\n",
    "    if len(set(dataSet[:, -1].T.tolist()[0])) == 1:\n",
    "        return None, leafType(dataSet)\n",
    "    # 统计数据集合的行m和列n\n",
    "    m, n = np.shape(dataSet)\n",
    "    # 默认最后一个特征为最佳切分特征,计算其误差估计\n",
    "    S = errType(dataSet)\n",
    "    # 分别为最佳误差,最佳特征切分的索引值,最佳特征值\n",
    "    bestS = float('inf');\n",
    "    bestIndex = 0;\n",
    "    bestValue = 0\n",
    "    # 遍历所有特征列\n",
    "    for featIndex in range(n - 1):\n",
    "        # 遍历所有特征值\n",
    "        for splitVal in set(dataSet[:, featIndex].T.A.tolist()[0]):\n",
    "            # 根据特征和特征值切分数据集\n",
    "            mat0, mat1 = binSplitDataSet(dataSet, featIndex, splitVal)\n",
    "            # 如果数据少于tolN,则退出\n",
    "            if (np.shape(mat0)[0] < tolN) or (np.shape(mat1)[0] < tolN): continue\n",
    "            # 计算误差估计\n",
    "            newS = errType(mat0) + errType(mat1)\n",
    "            # 如果误差估计更小,则更新特征索引值和特征值\n",
    "            if newS < bestS:\n",
    "                bestIndex = featIndex\n",
    "                bestValue = splitVal\n",
    "                bestS = newS\n",
    "    # 如果误差减少不大则退出\n",
    "    if (S - bestS) < tolS:\n",
    "        return None, leafType(dataSet)\n",
    "    # 根据最佳的切分特征和特征值切分数据集合\n",
    "    mat0, mat1 = binSplitDataSet(dataSet, bestIndex, bestValue)\n",
    "    # 如果切分出的数据集很小则退出\n",
    "    if (np.shape(mat0)[0] < tolN) or (np.shape(mat1)[0] < tolN):\n",
    "        return None, leafType(dataSet)\n",
    "    # 返回最佳切分特征和特征值\n",
    "    return bestIndex, bestValue\n",
    "\n",
    "# 函数说明:树构建函数\n",
    "\"\"\"\n",
    "Parameters:\n",
    "    dataSet - 数据集合\n",
    "    leafType - 建立叶结点的函数\n",
    "    errType - 误差计算函数\n",
    "    ops - 包含树构建所有其他参数的元组\n",
    "\"\"\"\n",
    "def createTree(dataSet, leafType=regLeaf, errType=regErr, ops=(1, 4)):\n",
    "    # 选择最佳切分特征和特征值\n",
    "    feat, val = chooseBestSplit(dataSet, leafType, errType, ops)\n",
    "    # r如果没有特征,则返回特征值\n",
    "    if feat == None: return val\n",
    "    # 回归树\n",
    "    retTree = {}\n",
    "    retTree['spInd'] = feat\n",
    "    retTree['spVal'] = val\n",
    "    # 分成左数据集和右数据集\n",
    "    lSet, rSet = binSplitDataSet(dataSet, feat, val)\n",
    "    # 创建左子树和右子树\n",
    "    retTree['left'] = createTree(lSet, leafType, errType, ops)\n",
    "    retTree['right'] = createTree(rSet, leafType, errType, ops)\n",
    "    return retTree"
   ]
  },
  {
   "cell_type": "code",
   "execution_count": 22,
   "id": "dominican-seafood",
   "metadata": {},
   "outputs": [
    {
     "data": {
      "text/plain": [
       "{'spInd': 0,\n",
       " 'spVal': 0.48813,\n",
       " 'left': 1.0180967672413792,\n",
       " 'right': -0.04465028571428572}"
      ]
     },
     "execution_count": 22,
     "metadata": {},
     "output_type": "execute_result"
    }
   ],
   "source": [
    "myDat = loadDataSet('./data/ex00.txt')\n",
    "myMat = np.mat(myDat)\n",
    "createTree(myMat)"
   ]
  },
  {
   "cell_type": "code",
   "execution_count": 23,
   "id": "faced-indication",
   "metadata": {},
   "outputs": [
    {
     "data": {
      "text/plain": [
       "<matplotlib.collections.PathCollection at 0x7fa63afacf28>"
      ]
     },
     "execution_count": 23,
     "metadata": {},
     "output_type": "execute_result"
    },
    {
     "data": {
      "image/png": "[encoded data removed]",
      "text/plain": [
       "<Figure size 432x288 with 1 Axes>"
      ]
     },
     "metadata": {
      "needs_background": "light"
     },
     "output_type": "display_data"
    }
   ],
   "source": [
    "plt.scatter(np.array(myDat)[:,0],np.array(myDat)[:,1])"
   ]
  },
  {
   "cell_type": "markdown",
   "id": "explicit-twenty",
   "metadata": {},
   "source": [
    "上图为原数据分布情况，我们生成的树正好包含2个叶节点。"
   ]
  },
  {
   "cell_type": "code",
   "execution_count": 24,
   "id": "preceding-accused",
   "metadata": {},
   "outputs": [
    {
     "name": "stdout",
     "output_type": "stream",
     "text": [
      "{'spInd': 0, 'spVal': 0.48813, 'left': 1.0180967672413792, 'right': -0.04465028571428572}\n"
     ]
    },
    {
     "data": {
      "text/plain": [
       "<matplotlib.collections.PathCollection at 0x7fa63ae11fd0>"
      ]
     },
     "execution_count": 24,
     "metadata": {},
     "output_type": "execute_result"
    },
    {
     "data": {
      "image/png": "[encoded data removed]",
      "text/plain": [
       "<Figure size 432x288 with 1 Axes>"
      ]
     },
     "metadata": {
      "needs_background": "light"
     },
     "output_type": "display_data"
    }
   ],
   "source": [
    "myDat1 = loadDataSet('./data/ex01.txt')\n",
    "myMat1 = np.mat(myDat)\n",
    "print(createTree(myMat1))\n",
    "plt.scatter(np.array(myDat1)[:,1],np.array(myDat1)[:,2])"
   ]
  },
  {
   "cell_type": "markdown",
   "id": "latest-championship",
   "metadata": {},
   "source": [
    "另取数据，从图看有五个簇，而生成的树恰好也有五个叶子节点。"
   ]
  },
  {
   "cell_type": "markdown",
   "id": "outer-bouquet",
   "metadata": {},
   "source": [
    "## CART树剪枝\n",
    "\n",
    "基本方法：\n",
    "\n",
    "* 从决策树底端开始不断剪枝直至根节点，形成子树序列\n",
    "* 通过交叉验证法测试子树序列选取最优子树"
   ]
  },
  {
   "cell_type": "markdown",
   "id": "designing-speaker",
   "metadata": {},
   "source": [
    "### 预剪枝\n",
    "\n",
    "树构建算法对输入的参数`tolS` 和`tolN` 非常敏感。可以测试"
   ]
  },
  {
   "cell_type": "code",
   "execution_count": 25,
   "id": "italian-evening",
   "metadata": {},
   "outputs": [
    {
     "name": "stdout",
     "output_type": "stream",
     "text": [
      "{'spInd': 0, 'spVal': 0.48813, 'left': {'spInd': 0, 'spVal': 0.620599, 'left': {'spInd': 0, 'spVal': 0.625336, 'left': {'spInd': 0, 'spVal': 0.625791, 'left': {'spInd': 0, 'spVal': 0.643601, 'left': {'spInd': 0, 'spVal': 0.651376, 'left': {'spInd': 0, 'spVal': 0.6632, 'left': {'spInd': 0, 'spVal': 0.683921, 'left': {'spInd': 0, 'spVal': 0.819823, 'left': {'spInd': 0, 'spVal': 0.837522, 'left': {'spInd': 0, 'spVal': 0.846455, 'left': {'spInd': 0, 'spVal': 0.919384, 'left': {'spInd': 0, 'spVal': 0.976414, 'left': {'spInd': 0, 'spVal': 0.985425, 'left': {'spInd': 0, 'spVal': 0.989888, 'left': {'spInd': 0, 'spVal': 0.993349, 'left': 1.035533, 'right': 1.077553}, 'right': {'spInd': 0, 'spVal': 0.988852, 'left': 0.744207, 'right': 1.069062}}, 'right': 1.227946}, 'right': {'spInd': 0, 'spVal': 0.953112, 'left': {'spInd': 0, 'spVal': 0.975022, 'left': 0.862911, 'right': 0.673579}, 'right': {'spInd': 0, 'spVal': 0.948268, 'left': {'spInd': 0, 'spVal': 0.951949, 'left': 1.06469, 'right': {'spInd': 0, 'spVal': 0.950153, 'left': 0.945255, 'right': 1.022906}}, 'right': {'spInd': 0, 'spVal': 0.936783, 'left': 0.631862, 'right': {'spInd': 0, 'spVal': 0.928097, 'left': {'spInd': 0, 'spVal': 0.930173, 'left': 1.026258, 'right': 1.035645}, 'right': 0.883225}}}}}, 'right': {'spInd': 0, 'spVal': 0.877241, 'left': {'spInd': 0, 'spVal': 0.897094, 'left': {'spInd': 0, 'spVal': 0.902532, 'left': {'spInd': 0, 'spVal': 0.919074, 'left': 1.029889, 'right': 1.123413}, 'right': {'spInd': 0, 'spVal': 0.901056, 'left': 0.861601, 'right': {'spInd': 0, 'spVal': 0.900272, 'left': 1.0559, 'right': 0.996871}}}, 'right': {'spInd': 0, 'spVal': 0.89593, 'left': 1.240209, 'right': {'spInd': 0, 'spVal': 0.884512, 'left': 1.077275, 'right': 1.117833}}}, 'right': {'spInd': 0, 'spVal': 0.848921, 'left': {'spInd': 0, 'spVal': 0.860049, 'left': {'spInd': 0, 'spVal': 0.869077, 'left': 0.797005, 'right': 1.114825}, 'right': 0.71749}, 'right': 1.170959}}}, 'right': {'spInd': 0, 'spVal': 0.845815, 'left': 0.72003, 'right': 0.952617}}, 'right': {'spInd': 0, 'spVal': 0.821648, 'left': {'spInd': 0, 'spVal': 0.834078, 'left': 1.229373, 'right': {'spInd': 0, 'spVal': 0.824442, 'left': 1.01058, 'right': {'spInd': 0, 'spVal': 0.822443, 'left': 1.082153, 'right': 1.086648}}}, 'right': {'spInd': 0, 'spVal': 0.820802, 'left': 1.280895, 'right': 1.325907}}}, 'right': {'spInd': 0, 'spVal': 0.785541, 'left': {'spInd': 0, 'spVal': 0.79024, 'left': {'spInd': 0, 'spVal': 0.813719, 'left': {'spInd': 0, 'spVal': 0.814825, 'left': 0.835264, 'right': 1.095206}, 'right': {'spInd': 0, 'spVal': 0.804586, 'left': 0.706601, 'right': {'spInd': 0, 'spVal': 0.795072, 'left': 0.924033, 'right': 0.965721}}}, 'right': {'spInd': 0, 'spVal': 0.789625, 'left': 0.533214, 'right': 0.552614}}, 'right': {'spInd': 0, 'spVal': 0.712503, 'left': {'spInd': 0, 'spVal': 0.72312, 'left': {'spInd': 0, 'spVal': 0.768784, 'left': {'spInd': 0, 'spVal': 0.773422, 'left': {'spInd': 0, 'spVal': 0.782167, 'left': 1.165296, 'right': {'spInd': 0, 'spVal': 0.774301, 'left': {'spInd': 0, 'spVal': 0.78193, 'left': 0.886049, 'right': 1.074488}, 'right': 0.836763}}, 'right': {'spInd': 0, 'spVal': 0.772083, 'left': {'spInd': 0, 'spVal': 0.773168, 'left': 1.125943, 'right': 1.140917}, 'right': 1.299018}}, 'right': {'spInd': 0, 'spVal': 0.742527, 'left': {'spInd': 0, 'spVal': 0.750918, 'left': {'spInd': 0, 'spVal': 0.761474, 'left': {'spInd': 0, 'spVal': 0.768596, 'left': 0.899705, 'right': 0.760219}, 'right': 1.058262}, 'right': {'spInd': 0, 'spVal': 0.750078, 'left': 0.748104, 'right': 0.906291}}, 'right': {'spInd': 0, 'spVal': 0.729234, 'left': {'spInd': 0, 'spVal': 0.737189, 'left': 1.087056, 'right': 1.200781}, 'right': {'spInd': 0, 'spVal': 0.727098, 'left': 0.931956, 'right': {'spInd': 0, 'spVal': 0.726828, 'left': 1.000567, 'right': 1.017112}}}}}, 'right': 1.307248}, 'right': {'spInd': 0, 'spVal': 0.703755, 'left': {'spInd': 0, 'spVal': 0.712386, 'left': 0.93349, 'right': 0.564858}, 'right': {'spInd': 0, 'spVal': 0.696648, 'left': {'spInd': 0, 'spVal': 0.697718, 'left': {'spInd': 0, 'spVal': 0.697777, 'left': 1.101678, 'right': 0.827805}, 'right': 1.212434}, 'right': {'spInd': 0, 'spVal': 0.691115, 'left': 0.845423, 'right': 0.834391}}}}}}, 'right': {'spInd': 0, 'spVal': 0.683886, 'left': 1.414382, 'right': {'spInd': 0, 'spVal': 0.678287, 'left': {'spInd': 0, 'spVal': 0.67939, 'left': 0.999985, 'right': 1.307217}, 'right': {'spInd': 0, 'spVal': 0.66387, 'left': {'spInd': 0, 'spVal': 0.673195, 'left': 0.907727, 'right': 0.915077}, 'right': 1.187129}}}}, 'right': {'spInd': 0, 'spVal': 0.656218, 'left': {'spInd': 0, 'spVal': 0.661923, 'left': 0.701634, 'right': 0.76704}, 'right': {'spInd': 0, 'spVal': 0.652121, 'left': 0.958506, 'right': 1.004346}}}, 'right': {'spInd': 0, 'spVal': 0.645762, 'left': {'spInd': 0, 'spVal': 0.648675, 'left': 1.315384, 'right': 1.287407}, 'right': {'spInd': 0, 'spVal': 0.643665, 'left': 1.026886, 'right': 1.024241}}}, 'right': {'spInd': 0, 'spVal': 0.626011, 'left': 0.782552, 'right': 0.840544}}, 'right': 1.244731}, 'right': {'spInd': 0, 'spVal': 0.622398, 'left': 0.623696, 'right': 0.76633}}, 'right': {'spInd': 0, 'spVal': 0.61127, 'left': {'spInd': 0, 'spVal': 0.613765, 'left': 1.334421, 'right': 1.621091}, 'right': {'spInd': 0, 'spVal': 0.517921, 'left': {'spInd': 0, 'spVal': 0.541314, 'left': {'spInd': 0, 'spVal': 0.559763, 'left': {'spInd': 0, 'spVal': 0.590062, 'left': {'spInd': 0, 'spVal': 0.595012, 'left': {'spInd': 0, 'spVal': 0.597409, 'left': {'spInd': 0, 'spVal': 0.604529, 'left': 0.982036, 'right': 1.212685}, 'right': 0.97477}, 'right': {'spInd': 0, 'spVal': 0.59021, 'left': 1.213435, 'right': 1.336661}}, 'right': {'spInd': 0, 'spVal': 0.589575, 'left': 0.705531, 'right': {'spInd': 0, 'spVal': 0.575805, 'left': {'spInd': 0, 'spVal': 0.576946, 'left': {'spInd': 0, 'spVal': 0.578252, 'left': 1.185812, 'right': 0.921885}, 'right': 1.234129}, 'right': {'spInd': 0, 'spVal': 0.574573, 'left': 0.89909, 'right': {'spInd': 0, 'spVal': 0.561362, 'left': {'spInd': 0, 'spVal': 0.567704, 'left': 1.06613, 'right': 0.969058}, 'right': 1.070529}}}}}, 'right': {'spInd': 0, 'spVal': 0.552381, 'left': {'spInd': 0, 'spVal': 0.55299, 'left': {'spInd': 0, 'spVal': 0.55352, 'left': 1.253151, 'right': 1.391273}, 'right': 1.036158}, 'right': 1.36963}}, 'right': {'spInd': 0, 'spVal': 0.520207, 'left': {'spInd': 0, 'spVal': 0.536689, 'left': {'spInd': 0, 'spVal': 0.539558, 'left': 0.893748, 'right': 1.053846}, 'right': {'spInd': 0, 'spVal': 0.529491, 'left': {'spInd': 0, 'spVal': 0.530897, 'left': 0.867284, 'right': 0.893462}, 'right': {'spInd': 0, 'spVal': 0.527505, 'left': 1.022206, 'right': 0.87956}}}, 'right': {'spInd': 0, 'spVal': 0.520044, 'left': 1.209557, 'right': {'spInd': 0, 'spVal': 0.518735, 'left': 0.961983, 'right': 1.037179}}}}, 'right': {'spInd': 0, 'spVal': 0.514563, 'left': 1.493586, 'right': {'spInd': 0, 'spVal': 0.50794, 'left': 1.156648, 'right': 1.107265}}}}}, 'right': {'spInd': 0, 'spVal': 0.343479, 'left': {'spInd': 0, 'spVal': 0.406649, 'left': {'spInd': 0, 'spVal': 0.41023, 'left': {'spInd': 0, 'spVal': 0.458121, 'left': {'spInd': 0, 'spVal': 0.475976, 'left': -0.097791, 'right': {'spInd': 0, 'spVal': 0.465625, 'left': -0.163707, 'right': -0.15294}}, 'right': {'spInd': 0, 'spVal': 0.429664, 'left': {'spInd': 0, 'spVal': 0.44928, 'left': -0.061456, 'right': {'spInd': 0, 'spVal': 0.448656, 'left': 0.069098, 'right': {'spInd': 0, 'spVal': 0.438367, 'left': 0.026974, 'right': 0.034014}}}, 'right': -0.188659}}, 'right': 0.331722}, 'right': {'spInd': 0, 'spVal': 0.355688, 'left': {'spInd': 0, 'spVal': 0.362314, 'left': {'spInd': 0, 'spVal': 0.377597, 'left': {'spInd': 0, 'spVal': 0.401152, 'left': -0.366317, 'right': {'spInd': 0, 'spVal': 0.378595, 'left': -0.12164, 'right': -0.296094}}, 'right': {'spInd': 0, 'spVal': 0.377201, 'left': 0.088505, 'right': -0.24355}}, 'right': {'spInd': 0, 'spVal': 0.360323, 'left': -0.556464, 'right': -0.20483}}, 'right': {'spInd': 0, 'spVal': 0.343554, 'left': {'spInd': 0, 'spVal': 0.347837, 'left': {'spInd': 0, 'spVal': 0.348013, 'left': -0.119399, 'right': 0.048939}, 'right': {'spInd': 0, 'spVal': 0.344102, 'left': {'spInd': 0, 'spVal': 0.346986, 'left': -0.153405, 'right': -0.150389}, 'right': -0.061539}}, 'right': -0.3717}}}, 'right': {'spInd': 0, 'spVal': 0.325412, 'left': {'spInd': 0, 'spVal': 0.3371, 'left': {'spInd': 0, 'spVal': 0.339563, 'left': 0.175264, 'right': 0.206783}, 'right': {'spInd': 0, 'spVal': 0.332982, 'left': 0.026332, 'right': 0.210084}}, 'right': {'spInd': 0, 'spVal': 0.048014, 'left': {'spInd': 0, 'spVal': 0.081931, 'left': {'spInd': 0, 'spVal': 0.188218, 'left': {'spInd': 0, 'spVal': 0.23807, 'left': {'spInd': 0, 'spVal': 0.242204, 'left': {'spInd': 0, 'spVal': 0.323181, 'left': -0.219245, 'right': {'spInd': 0, 'spVal': 0.314924, 'left': 0.180811, 'right': {'spInd': 0, 'spVal': 0.27394, 'left': {'spInd': 0, 'spVal': 0.278661, 'left': {'spInd': 0, 'spVal': 0.280738, 'left': {'spInd': 0, 'spVal': 0.302001, 'left': {'spInd': 0, 'spVal': 0.306964, 'left': -0.001952, 'right': {'spInd': 0, 'spVal': 0.30554, 'left': -0.177321, 'right': {'spInd': 0, 'spVal': 0.302217, 'left': -0.115991, 'right': -0.14865}}}, 'right': {'spInd': 0, 'spVal': 0.295511, 'left': 0.317135, 'right': 0.002882}}, 'right': -0.22888}, 'right': 0.253628}, 'right': {'spInd': 0, 'spVal': 0.268857, 'left': {'spInd': 0, 'spVal': 0.273147, 'left': -0.085713, 'right': {'spInd': 0, 'spVal': 0.269681, 'left': -0.455219, 'right': -0.165971}}, 'right': {'spInd': 0, 'spVal': 0.252649, 'left': 0.073447, 'right': {'spInd': 0, 'spVal': 0.250744, 'left': -0.055613, 'right': {'spInd': 0, 'spVal': 0.243909, 'left': 0.046297, 'right': -0.029467}}}}}}}, 'right': 0.209359}, 'right': {'spInd': 0, 'spVal': 0.210334, 'left': {'spInd': 0, 'spVal': 0.233115, 'left': -0.358459, 'right': -0.348147}, 'right': {'spInd': 0, 'spVal': 0.193641, 'left': {'spInd': 0, 'spVal': 0.203693, 'left': -0.006899, 'right': {'spInd': 0, 'spVal': 0.196005, 'left': {'spInd': 0, 'spVal': 0.202054, 'left': -0.064036, 'right': -0.087744}, 'right': -0.048847}}, 'right': -0.327589}}}, 'right': {'spInd': 0, 'spVal': 0.1333, 'left': {'spInd': 0, 'spVal': 0.146366, 'left': {'spInd': 0, 'spVal': 0.148049, 'left': {'spInd': 0, 'spVal': 0.180506, 'left': {'spInd': 0, 'spVal': 0.18351, 'left': 0.113685, 'right': 0.184843}, 'right': {'spInd': 0, 'spVal': 0.152324, 'left': 0.103676, 'right': 0.132858}}, 'right': 0.204298}, 'right': {'spInd': 0, 'spVal': 0.145809, 'left': 0.034283, 'right': 0.136979}}, 'right': {'spInd': 0, 'spVal': 0.130962, 'left': {'spInd': 0, 'spVal': 0.132543, 'left': -0.223143, 'right': -0.329372}, 'right': {'spInd': 0, 'spVal': 0.118156, 'left': {'spInd': 0, 'spVal': 0.129061, 'left': {'spInd': 0, 'spVal': 0.130052, 'left': 0.184241, 'right': -0.026167}, 'right': 0.305107}, 'right': {'spInd': 0, 'spVal': 0.096994, 'left': {'spInd': 0, 'spVal': 0.098016, 'left': {'spInd': 0, 'spVal': 0.101149, 'left': -0.077409, 'right': {'spInd': 0, 'spVal': 0.099142, 'left': 0.068834, 'right': 0.02528}}, 'right': -0.33276}, 'right': {'spInd': 0, 'spVal': 0.091358, 'left': 0.227167, 'right': {'spInd': 0, 'spVal': 0.084248, 'left': 0.099935, 'right': -0.019547}}}}}}}, 'right': {'spInd': 0, 'spVal': 0.071769, 'left': {'spInd': 0, 'spVal': 0.074795, 'left': -0.269756, 'right': {'spInd': 0, 'spVal': 0.072243, 'left': -0.349692, 'right': -0.420983}}, 'right': {'spInd': 0, 'spVal': 0.065615, 'left': {'spInd': 0, 'spVal': 0.066172, 'left': -0.110946, 'right': 0.052439}, 'right': -0.30697}}}, 'right': {'spInd': 0, 'spVal': 0.014083, 'left': {'spInd': 0, 'spVal': 0.036492, 'left': 0.064496, 'right': {'spInd': 0, 'spVal': 0.036098, 'left': 0.408155, 'right': 0.155096}}, 'right': {'spInd': 0, 'spVal': 0.009849, 'left': -0.132525, 'right': {'spInd': 0, 'spVal': 0.008307, 'left': 0.056594, 'right': {'spInd': 0, 'spVal': 0.000234, 'left': {'spInd': 0, 'spVal': 0.007044, 'left': 0.069976, 'right': 0.09415}, 'right': 0.060903}}}}}}}}\n"
     ]
    }
   ],
   "source": [
    "print(createTree(myMat,ops=(0,1))) ## 几乎为每个样本都构建了一个叶子节点"
   ]
  },
  {
   "cell_type": "code",
   "execution_count": 26,
   "id": "revolutionary-somerset",
   "metadata": {},
   "outputs": [
    {
     "name": "stdout",
     "output_type": "stream",
     "text": [
      "{'spInd': 0, 'spVal': 0.499171, 'left': {'spInd': 0, 'spVal': 0.729397, 'left': {'spInd': 0, 'spVal': 0.952833, 'left': {'spInd': 0, 'spVal': 0.958512, 'left': 105.24862350000001, 'right': 112.42895575000001}, 'right': {'spInd': 0, 'spVal': 0.759504, 'left': {'spInd': 0, 'spVal': 0.790312, 'left': {'spInd': 0, 'spVal': 0.833026, 'left': {'spInd': 0, 'spVal': 0.944221, 'left': 87.3103875, 'right': {'spInd': 0, 'spVal': 0.85497, 'left': {'spInd': 0, 'spVal': 0.910975, 'left': 96.452867, 'right': {'spInd': 0, 'spVal': 0.892999, 'left': 104.825409, 'right': {'spInd': 0, 'spVal': 0.872883, 'left': 95.181793, 'right': 102.25234449999999}}}, 'right': 95.27584316666666}}, 'right': {'spInd': 0, 'spVal': 0.811602, 'left': 81.110152, 'right': 88.78449880000001}}, 'right': 102.35780185714285}, 'right': 78.08564325}}, 'right': {'spInd': 0, 'spVal': 0.640515, 'left': {'spInd': 0, 'spVal': 0.666452, 'left': {'spInd': 0, 'spVal': 0.706961, 'left': 114.554706, 'right': {'spInd': 0, 'spVal': 0.698472, 'left': 104.82495374999999, 'right': 108.92921799999999}}, 'right': 114.1516242857143}, 'right': {'spInd': 0, 'spVal': 0.613004, 'left': 93.67344971428572, 'right': {'spInd': 0, 'spVal': 0.582311, 'left': 123.2101316, 'right': {'spInd': 0, 'spVal': 0.553797, 'left': 97.20018024999999, 'right': {'spInd': 0, 'spVal': 0.51915, 'left': {'spInd': 0, 'spVal': 0.543843, 'left': 109.38961049999999, 'right': 110.979946}, 'right': 101.73699325000001}}}}}}, 'right': {'spInd': 0, 'spVal': 0.457563, 'left': {'spInd': 0, 'spVal': 0.467383, 'left': 12.50675925, 'right': 3.4331330000000007}, 'right': {'spInd': 0, 'spVal': 0.126833, 'left': {'spInd': 0, 'spVal': 0.373501, 'left': {'spInd': 0, 'spVal': 0.437652, 'left': -12.558604833333334, 'right': {'spInd': 0, 'spVal': 0.412516, 'left': 14.38417875, 'right': {'spInd': 0, 'spVal': 0.385021, 'left': -0.8923554999999995, 'right': 3.6584772500000016}}}, 'right': {'spInd': 0, 'spVal': 0.335182, 'left': {'spInd': 0, 'spVal': 0.350725, 'left': -15.08511175, 'right': -22.693879600000002}, 'right': {'spInd': 0, 'spVal': 0.324274, 'left': 15.05929075, 'right': {'spInd': 0, 'spVal': 0.297107, 'left': -19.9941552, 'right': {'spInd': 0, 'spVal': 0.166765, 'left': {'spInd': 0, 'spVal': 0.202161, 'left': {'spInd': 0, 'spVal': 0.217214, 'left': {'spInd': 0, 'spVal': 0.228473, 'left': {'spInd': 0, 'spVal': 0.25807, 'left': 0.40377471428571476, 'right': -13.070501}, 'right': 6.770429}, 'right': -11.822278500000001}, 'right': 3.4496025}, 'right': {'spInd': 0, 'spVal': 0.156067, 'left': -12.1079725, 'right': -6.247900000000001}}}}}}, 'right': {'spInd': 0, 'spVal': 0.084661, 'left': 6.509843285714284, 'right': {'spInd': 0, 'spVal': 0.044737, 'left': -2.544392714285715, 'right': 4.091626}}}}}\n"
     ]
    },
    {
     "data": {
      "text/plain": [
       "<matplotlib.collections.PathCollection at 0x7fa63ad7b710>"
      ]
     },
     "execution_count": 26,
     "metadata": {},
     "output_type": "execute_result"
    },
    {
     "data": {
      "image/png": "[encoded data removed]",
      "text/plain": [
       "<Figure size 432x288 with 1 Axes>"
      ]
     },
     "metadata": {
      "needs_background": "light"
     },
     "output_type": "display_data"
    }
   ],
   "source": [
    "myDat2 = loadDataSet('./data/ex2.txt')\n",
    "myMat2 = np.mat(myDat2)\n",
    "print(createTree(myMat2))\n",
    "plt.scatter(np.array(myMat2)[:,0],np.array(myMat2)[:,1])"
   ]
  },
  {
   "cell_type": "markdown",
   "id": "oriented-commissioner",
   "metadata": {},
   "source": [
    "`ex2.txt`的数据相比`ex0.txt`只是数量级发生了变化。而生成的树却有很多叶节点。原因在于停止条件`tolS`对误差的数量级十分敏感。如果在参数中对误差容忍度取平方值，可以得到仅有两个叶节点组成的树："
   ]
  },
  {
   "cell_type": "code",
   "execution_count": 27,
   "id": "virtual-effort",
   "metadata": {},
   "outputs": [
    {
     "data": {
      "text/plain": [
       "{'spInd': 0,\n",
       " 'spVal': 0.499171,\n",
       " 'left': 101.35815937735848,\n",
       " 'right': -2.637719329787234}"
      ]
     },
     "execution_count": 27,
     "metadata": {},
     "output_type": "execute_result"
    }
   ],
   "source": [
    "createTree(myMat2, ops=(10000,4))"
   ]
  },
  {
   "cell_type": "markdown",
   "id": "blessed-violence",
   "metadata": {},
   "source": [
    "然而，不断修改停止条件来得到“合理”结果并不是很好的方法，大多时候我们不确定要得到什么样的结果。"
   ]
  },
  {
   "cell_type": "markdown",
   "id": "impaired-oliver",
   "metadata": {},
   "source": [
    "### 后剪枝\n",
    "\n",
    "简化算法：\n",
    "\n",
    "> *  基于已有的树切分测试数据：\n",
    ">    * 如果存在任一子集是一棵树，则在该子集递归剪枝过程\n",
    ">    * 计算将当前两个叶节点合并后的误差\n",
    ">    * 计算不合并的误差\n",
    ">    * 如果合并会降低误差的话，就将叶节点合并"
   ]
  },
  {
   "cell_type": "code",
   "execution_count": 28,
   "id": "eleven-violin",
   "metadata": {},
   "outputs": [],
   "source": [
    "def isTree(obj):\n",
    "    import types\n",
    "    return (type(obj).__name__ == 'dict')\n",
    "\n",
    "def getMean(tree): # 函数说明:对树进行塌陷处理(即返回树平均值)\n",
    "    if isTree(tree['right']): tree['right'] = getMean(tree['right'])\n",
    "    if isTree(tree['left']): tree['left'] = getMean(tree['left'])\n",
    "    return (tree['left'] + tree['right']) / 2.0\n",
    "\n",
    "def prune(tree, testData):\n",
    "    #如果测试集为空,则对树进行塌陷处理\n",
    "    if np.shape(testData)[0] == 0: return getMean(tree)\n",
    "    #如果有左子树或者右子树,则切分数据集\n",
    "    if (isTree(tree['right']) or isTree(tree['left'])):\n",
    "        lSet, rSet = binSplitDataSet(testData, tree['spInd'], tree['spVal'])\n",
    "    #处理左子树(剪枝)\n",
    "    if isTree(tree['left']): tree['left'] = prune(tree['left'], lSet)\n",
    "    #处理右子树(剪枝)\n",
    "    if isTree(tree['right']): tree['right'] =  prune(tree['right'], rSet)\n",
    "    #如果当前结点的左右结点为叶结点\n",
    "    if not isTree(tree['left']) and not isTree(tree['right']):\n",
    "        lSet, rSet = binSplitDataSet(testData, tree['spInd'], tree['spVal'])\n",
    "        #计算没有合并的误差\n",
    "        errorNoMerge = np.sum(np.power(lSet[:,-1] - tree['left'],2)) + np.sum(np.power(rSet[:,-1] - tree['right'],2))\n",
    "        #计算合并的均值\n",
    "        treeMean = (tree['left'] + tree['right']) / 2.0\n",
    "        #计算合并的误差\n",
    "        errorMerge = np.sum(np.power(testData[:,-1] - treeMean, 2))\n",
    "        #如果合并的误差小于没有合并的误差,则合并\n",
    "        if errorMerge < errorNoMerge:\n",
    "            print('merging')\n",
    "            return treeMean\n",
    "        else: return tree\n",
    "    else: return tree"
   ]
  },
  {
   "cell_type": "code",
   "execution_count": 29,
   "id": "lovely-agency",
   "metadata": {},
   "outputs": [
    {
     "name": "stdout",
     "output_type": "stream",
     "text": [
      "merging\n",
      "merging\n",
      "merging\n",
      "merging\n",
      "merging\n",
      "merging\n",
      "merging\n",
      "merging\n",
      "merging\n",
      "merging\n",
      "merging\n",
      "merging\n",
      "merging\n",
      "merging\n",
      "merging\n",
      "merging\n",
      "merging\n",
      "merging\n",
      "merging\n",
      "merging\n",
      "merging\n",
      "merging\n",
      "merging\n",
      "merging\n",
      "merging\n",
      "merging\n",
      "merging\n",
      "merging\n",
      "merging\n",
      "merging\n",
      "merging\n",
      "merging\n",
      "merging\n",
      "merging\n",
      "merging\n",
      "merging\n",
      "merging\n",
      "merging\n",
      "merging\n",
      "merging\n",
      "merging\n",
      "merging\n",
      "merging\n",
      "merging\n",
      "{'spInd': 0, 'spVal': 0.499171, 'left': {'spInd': 0, 'spVal': 0.729397, 'left': {'spInd': 0, 'spVal': 0.952833, 'left': {'spInd': 0, 'spVal': 0.965969, 'left': 92.5239915, 'right': {'spInd': 0, 'spVal': 0.956951, 'left': {'spInd': 0, 'spVal': 0.958512, 'left': {'spInd': 0, 'spVal': 0.960398, 'left': 112.386764, 'right': 123.559747}, 'right': 135.837013}, 'right': 111.2013225}}, 'right': {'spInd': 0, 'spVal': 0.759504, 'left': {'spInd': 0, 'spVal': 0.763328, 'left': {'spInd': 0, 'spVal': 0.769043, 'left': {'spInd': 0, 'spVal': 0.790312, 'left': {'spInd': 0, 'spVal': 0.806158, 'left': {'spInd': 0, 'spVal': 0.815215, 'left': {'spInd': 0, 'spVal': 0.833026, 'left': {'spInd': 0, 'spVal': 0.841547, 'left': {'spInd': 0, 'spVal': 0.841625, 'left': {'spInd': 0, 'spVal': 0.944221, 'left': {'spInd': 0, 'spVal': 0.948822, 'left': 96.41885225, 'right': 69.318649}, 'right': {'spInd': 0, 'spVal': 0.85497, 'left': {'spInd': 0, 'spVal': 0.936524, 'left': 110.03503850000001, 'right': {'spInd': 0, 'spVal': 0.934853, 'left': 65.548418, 'right': {'spInd': 0, 'spVal': 0.925782, 'left': 115.753994, 'right': {'spInd': 0, 'spVal': 0.910975, 'left': {'spInd': 0, 'spVal': 0.912161, 'left': 94.3961145, 'right': 85.005351}, 'right': {'spInd': 0, 'spVal': 0.901444, 'left': {'spInd': 0, 'spVal': 0.908629, 'left': 106.814667, 'right': 118.513475}, 'right': {'spInd': 0, 'spVal': 0.901421, 'left': 87.300625, 'right': {'spInd': 0, 'spVal': 0.892999, 'left': {'spInd': 0, 'spVal': 0.900699, 'left': 100.133819, 'right': 108.094934}, 'right': {'spInd': 0, 'spVal': 0.888426, 'left': 82.436686, 'right': {'spInd': 0, 'spVal': 0.872199, 'left': 98.54454949999999, 'right': 106.16859550000001}}}}}}}}}, 'right': {'spInd': 0, 'spVal': 0.84294, 'left': {'spInd': 0, 'spVal': 0.847219, 'left': 89.20993, 'right': 76.240984}, 'right': 95.893131}}}, 'right': 60.552308}, 'right': 124.87935300000001}, 'right': {'spInd': 0, 'spVal': 0.823848, 'left': 76.723835, 'right': {'spInd': 0, 'spVal': 0.819722, 'left': 59.342323, 'right': 70.054508}}}, 'right': {'spInd': 0, 'spVal': 0.811602, 'left': 118.319942, 'right': {'spInd': 0, 'spVal': 0.811363, 'left': 99.841379, 'right': 112.981216}}}, 'right': 73.49439925}, 'right': {'spInd': 0, 'spVal': 0.786865, 'left': 114.4008695, 'right': 102.26514075}}, 'right': 64.041941}, 'right': 115.199195}, 'right': 78.08564325}}, 'right': {'spInd': 0, 'spVal': 0.640515, 'left': {'spInd': 0, 'spVal': 0.642373, 'left': {'spInd': 0, 'spVal': 0.642707, 'left': {'spInd': 0, 'spVal': 0.665329, 'left': {'spInd': 0, 'spVal': 0.706961, 'left': {'spInd': 0, 'spVal': 0.70889, 'left': {'spInd': 0, 'spVal': 0.716211, 'left': 110.90283, 'right': {'spInd': 0, 'spVal': 0.710234, 'left': 103.345308, 'right': 108.553919}}, 'right': 135.416767}, 'right': {'spInd': 0, 'spVal': 0.698472, 'left': {'spInd': 0, 'spVal': 0.69892, 'left': {'spInd': 0, 'spVal': 0.699873, 'left': {'spInd': 0, 'spVal': 0.70639, 'left': 106.180427, 'right': 105.062147}, 'right': 115.586605}, 'right': 92.470636}, 'right': {'spInd': 0, 'spVal': 0.689099, 'left': 120.521925, 'right': {'spInd': 0, 'spVal': 0.666452, 'left': 101.91115275, 'right': 112.78136649999999}}}}, 'right': {'spInd': 0, 'spVal': 0.661073, 'left': 121.980607, 'right': {'spInd': 0, 'spVal': 0.652462, 'left': 115.687524, 'right': 112.715799}}}, 'right': 82.500766}, 'right': 140.613941}, 'right': {'spInd': 0, 'spVal': 0.613004, 'left': {'spInd': 0, 'spVal': 0.623909, 'left': {'spInd': 0, 'spVal': 0.628061, 'left': {'spInd': 0, 'spVal': 0.637999, 'left': 82.713621, 'right': {'spInd': 0, 'spVal': 0.632691, 'left': 91.656617, 'right': 93.645293}}, 'right': {'spInd': 0, 'spVal': 0.624827, 'left': 117.628346, 'right': 105.970743}}, 'right': 82.04976400000001}, 'right': {'spInd': 0, 'spVal': 0.606417, 'left': 168.180746, 'right': {'spInd': 0, 'spVal': 0.513332, 'left': {'spInd': 0, 'spVal': 0.533511, 'left': {'spInd': 0, 'spVal': 0.548539, 'left': {'spInd': 0, 'spVal': 0.553797, 'left': {'spInd': 0, 'spVal': 0.560301, 'left': {'spInd': 0, 'spVal': 0.599142, 'left': 93.521396, 'right': {'spInd': 0, 'spVal': 0.589806, 'left': 130.378529, 'right': {'spInd': 0, 'spVal': 0.582311, 'left': 111.9849935, 'right': {'spInd': 0, 'spVal': 0.571214, 'left': 82.589328, 'right': {'spInd': 0, 'spVal': 0.569327, 'left': 114.872056, 'right': 108.435392}}}}}, 'right': 82.903945}, 'right': 129.0624485}, 'right': {'spInd': 0, 'spVal': 0.546601, 'left': 83.114502, 'right': {'spInd': 0, 'spVal': 0.537834, 'left': 97.3405265, 'right': 90.995536}}}, 'right': {'spInd': 0, 'spVal': 0.51915, 'left': {'spInd': 0, 'spVal': 0.531944, 'left': 129.766743, 'right': 124.795495}, 'right': 116.176162}}, 'right': {'spInd': 0, 'spVal': 0.508548, 'left': 101.075609, 'right': {'spInd': 0, 'spVal': 0.508542, 'left': 93.292829, 'right': 96.403373}}}}}}}, 'right': {'spInd': 0, 'spVal': 0.457563, 'left': {'spInd': 0, 'spVal': 0.465561, 'left': {'spInd': 0, 'spVal': 0.467383, 'left': {'spInd': 0, 'spVal': 0.483803, 'left': {'spInd': 0, 'spVal': 0.487381, 'left': 8.53677, 'right': 27.729263}, 'right': 5.224234}, 'right': {'spInd': 0, 'spVal': 0.46568, 'left': -9.712925, 'right': -23.777531}}, 'right': {'spInd': 0, 'spVal': 0.463241, 'left': 30.051931, 'right': 17.171057}}, 'right': {'spInd': 0, 'spVal': 0.455761, 'left': -34.044555, 'right': {'spInd': 0, 'spVal': 0.126833, 'left': {'spInd': 0, 'spVal': 0.130626, 'left': {'spInd': 0, 'spVal': 0.382037, 'left': {'spInd': 0, 'spVal': 0.388789, 'left': {'spInd': 0, 'spVal': 0.437652, 'left': -4.1911745, 'right': {'spInd': 0, 'spVal': 0.412516, 'left': {'spInd': 0, 'spVal': 0.418943, 'left': {'spInd': 0, 'spVal': 0.426711, 'left': {'spInd': 0, 'spVal': 0.428582, 'left': 19.745224, 'right': 15.224266}, 'right': -21.594268}, 'right': 44.161493}, 'right': {'spInd': 0, 'spVal': 0.403228, 'left': -26.419289, 'right': 0.6359300000000001}}}, 'right': 23.197474}, 'right': {'spInd': 0, 'spVal': 0.335182, 'left': {'spInd': 0, 'spVal': 0.370042, 'left': {'spInd': 0, 'spVal': 0.378965, 'left': -29.007783, 'right': {'spInd': 0, 'spVal': 0.373501, 'left': {'spInd': 0, 'spVal': 0.377383, 'left': 13.583555, 'right': 5.241196}, 'right': -8.228297}}, 'right': {'spInd': 0, 'spVal': 0.35679, 'left': -32.124495, 'right': {'spInd': 0, 'spVal': 0.350725, 'left': -9.9938275, 'right': -26.851234812500003}}}, 'right': {'spInd': 0, 'spVal': 0.324274, 'left': 22.286959625, 'right': {'spInd': 0, 'spVal': 0.309133, 'left': {'spInd': 0, 'spVal': 0.310956, 'left': -20.3973335, 'right': -49.939516}, 'right': {'spInd': 0, 'spVal': 0.131833, 'left': {'spInd': 0, 'spVal': 0.138619, 'left': {'spInd': 0, 'spVal': 0.156067, 'left': {'spInd': 0, 'spVal': 0.166765, 'left': {'spInd': 0, 'spVal': 0.193282, 'left': {'spInd': 0, 'spVal': 0.211633, 'left': {'spInd': 0, 'spVal': 0.228473, 'left': {'spInd': 0, 'spVal': 0.25807, 'left': {'spInd': 0, 'spVal': 0.284794, 'left': {'spInd': 0, 'spVal': 0.300318, 'left': 8.814725, 'right': {'spInd': 0, 'spVal': 0.297107, 'left': -18.051318, 'right': {'spInd': 0, 'spVal': 0.295993, 'left': -1.798377, 'right': {'spInd': 0, 'spVal': 0.290749, 'left': -14.988279, 'right': -14.391613}}}}, 'right': {'spInd': 0, 'spVal': 0.273863, 'left': 35.623746, 'right': {'spInd': 0, 'spVal': 0.264926, 'left': -9.457556, 'right': {'spInd': 0, 'spVal': 0.264639, 'left': 5.280579, 'right': 2.557923}}}}, 'right': {'spInd': 0, 'spVal': 0.228628, 'left': {'spInd': 0, 'spVal': 0.228751, 'left': -9.601409499999999, 'right': -30.812912}, 'right': -2.266273}}, 'right': 6.099239}, 'right': {'spInd': 0, 'spVal': 0.202161, 'left': -16.42737025, 'right': -2.6781805}}, 'right': 9.5773855}, 'right': {'spInd': 0, 'spVal': 0.156273, 'left': {'spInd': 0, 'spVal': 0.164134, 'left': {'spInd': 0, 'spVal': 0.166431, 'left': -14.740059, 'right': -6.512506}, 'right': -27.405211}, 'right': 0.225886}}, 'right': {'spInd': 0, 'spVal': 0.13988, 'left': 7.557349, 'right': 7.336784}}, 'right': -29.087463}, 'right': 22.478291}}}}}, 'right': -39.524461}, 'right': {'spInd': 0, 'spVal': 0.124723, 'left': 22.891675, 'right': {'spInd': 0, 'spVal': 0.085111, 'left': {'spInd': 0, 'spVal': 0.108801, 'left': 6.196516, 'right': {'spInd': 0, 'spVal': 0.10796, 'left': -16.106164, 'right': {'spInd': 0, 'spVal': 0.085873, 'left': -1.293195, 'right': -10.137104}}}, 'right': {'spInd': 0, 'spVal': 0.084661, 'left': 37.820659, 'right': {'spInd': 0, 'spVal': 0.080061, 'left': -24.132226, 'right': {'spInd': 0, 'spVal': 0.068373, 'left': 15.824970500000001, 'right': {'spInd': 0, 'spVal': 0.061219, 'left': -15.160836, 'right': {'spInd': 0, 'spVal': 0.044737, 'left': {'spInd': 0, 'spVal': 0.053764, 'left': {'spInd': 0, 'spVal': 0.055862, 'left': 6.695567, 'right': -3.131497}, 'right': -13.731698}, 'right': 4.091626}}}}}}}}}}}\n"
     ]
    }
   ],
   "source": [
    "myTree = createTree(myMat2, ops=(0,1))\n",
    "myDat2Test = loadDataSet('./data/ex2test.txt')\n",
    "myMat2Test = np.mat(myDat2Test)\n",
    "print(prune(myTree, myMat2Test))"
   ]
  },
  {
   "cell_type": "markdown",
   "id": "inner-reader",
   "metadata": {},
   "source": [
    "大量的节点被剪枝掉了，但是叶子节点还剩下了很多，说明后剪枝未必有预剪枝有效。一般可以同时采用两种剪枝技术来寻求最佳模型。"
   ]
  },
  {
   "cell_type": "markdown",
   "id": "literary-condition",
   "metadata": {},
   "source": [
    "## 模型树\n",
    "\n",
    "用树来对数据建模，除了把叶节点简单地设定为常数值之外，还有一种方法是把叶节点设定为分段线性函数。"
   ]
  },
  {
   "cell_type": "code",
   "execution_count": 30,
   "id": "placed-export",
   "metadata": {},
   "outputs": [],
   "source": [
    "def linearSolve(dataSet):   #helper function used in two places\n",
    "    m,n = np.shape(dataSet)\n",
    "    X = np.mat(np.ones((m,n))); Y = np.mat(np.ones((m,1)))#create a copy of data with 1 in 0th postion\n",
    "    X[:,1:n] = dataSet[:,0:n-1]; Y = dataSet[:,-1]#and strip out Y\n",
    "    xTx = X.T*X\n",
    "    if np.linalg.det(xTx) == 0.0:\n",
    "        raise NameError('This matrix is singular, cannot do inverse,\\n\\\n",
    "        try increasing the second value of ops')\n",
    "    ws = xTx.I * (X.T * Y)\n",
    "    return ws,X,Y\n",
    "\n",
    "def modelLeaf(dataSet):#create linear model and return coeficients\n",
    "    ws,X,Y = linearSolve(dataSet)\n",
    "    return ws\n",
    "\n",
    "def modelErr(dataSet):\n",
    "    ws,X,Y = linearSolve(dataSet)\n",
    "    yHat = X * ws\n",
    "    return np.sum(np.power(Y - yHat,2))"
   ]
  },
  {
   "cell_type": "markdown",
   "id": "narrative-computer",
   "metadata": {},
   "source": [
    "对原来的`createTree()`方法中，修改`leafType`和`errType`参数，即可"
   ]
  },
  {
   "cell_type": "code",
   "execution_count": 31,
   "id": "suspended-federal",
   "metadata": {},
   "outputs": [
    {
     "data": {
      "text/plain": [
       "{'spInd': 0,\n",
       " 'spVal': 0.285477,\n",
       " 'left': matrix([[1.69855694e-03],\n",
       "         [1.19647739e+01]]),\n",
       " 'right': matrix([[3.46877936],\n",
       "         [1.18521743]])}"
      ]
     },
     "metadata": {},
     "output_type": "display_data"
    },
    {
     "data": {
      "text/plain": [
       "<matplotlib.collections.PathCollection at 0x7fa63acf55f8>"
      ]
     },
     "execution_count": 31,
     "metadata": {},
     "output_type": "execute_result"
    },
    {
     "data": {
      "image/png": "[encoded data removed]",
      "text/plain": [
       "<Figure size 432x288 with 1 Axes>"
      ]
     },
     "metadata": {
      "needs_background": "light"
     },
     "output_type": "display_data"
    }
   ],
   "source": [
    "myMat2 = np.mat(loadDataSet('./data/exp2.txt'))\n",
    "display(createTree(myMat2, leafType=modelLeaf, errType=modelErr, ops=(1,10)))\n",
    "plt.scatter(np.array(myMat2)[:,0],np.array(myMat2)[:,1])"
   ]
  },
  {
   "cell_type": "markdown",
   "id": "brutal-candy",
   "metadata": {},
   "source": [
    "程序以0.285477为界创建了两个模型，与数据的分段类似。\n",
    "\n",
    "生成的两个线性模型也与真实模型非常接近：\n",
    "\n",
    "| 分段 | 回归方程 | 实际方程 |\n",
    "| -- | ------------ | ------------ |\n",
    "| 0~0.3 | $y=3.468+1.1852 x$ | $y=3.5+1.0x+高斯噪声$ |\n",
    "| 0.3~1 | $y=0.00169+11.96x$ | $y=0.0+12.0x+高斯噪声$ |"
   ]
  }
 ],
 "metadata": {
  "kernelspec": {
   "display_name": "Python 3.6",
   "language": "python",
   "name": "python3"
  },
  "language_info": {
   "codemirror_mode": {
    "name": "ipython",
    "version": 3
   },
   "file_extension": ".py",
   "mimetype": "text/x-python",
   "name": "python",
   "nbconvert_exporter": "python",
   "pygments_lexer": "ipython3",
   "version": "3.6.8"
  },
  "toc": {
   "base_numbering": 1,
   "nav_menu": {},
   "number_sections": true,
   "sideBar": true,
   "skip_h1_title": false,
   "title_cell": "Table of Contents",
   "title_sidebar": "Contents",
   "toc_cell": false,
   "toc_position": {},
   "toc_section_display": true,
   "toc_window_display": false
  }
 },
 "nbformat": 4,
 "nbformat_minor": 5
}
