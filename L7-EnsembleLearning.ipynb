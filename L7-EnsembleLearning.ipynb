{
 "cells": [
  {
   "cell_type": "markdown",
   "id": "communist-hypothetical",
   "metadata": {},
   "source": [
    "## 学习和使用Adaboost\n",
    "\n",
    "* 复习教材第七章内容，调试运行相关代码\n",
    "* 查阅scikit-learn工具包中Adaboost和其他提升方法学习器的相关说明，了解相关函数使用方法。\n",
    "* 完成作业三"
   ]
  },
  {
   "cell_type": "markdown",
   "id": "roman-germany",
   "metadata": {},
   "source": [
    "# 集成学习\n",
    "\n",
    "将不同的分类器组合起来，组合的结果称为集成方法或元算法。使用集成方法时会有多种形式，可以是不同方法的集成，也可以是同一算法在不同设置下的集成，还可以是数据集不同部分分配给不同分类器之后的集成。\n",
    "\n",
    "* bagging：bootstrtap aggregating 自举汇聚法。从原始数据集选择S次后得到S个新数据集的一种技术。\n",
    "\n",
    "    S个数据集建好之后，将某个学习算法分别作用于每个数据集就得到了S个分类器。选择分类器投票结果中最多的类别作为最后的分类结果。\n",
    "\n",
    "    更先进的bagging方法：[随机森林](http://www.stat.berkeley.edu/~breiman/RandomForests/cc_home.htm)\n",
    "\n",
    "* boosting：相比bagging，训练器是串行训练的，每个新分类器类型一致，且是根据已训练出的分类器性能进行训练（集中关注被已有分类器错分的哪些数据）。\n",
    "\n",
    "    boosting各个分类器权重并不相等，每个权重代表的是其对应分类器在上一轮迭代中的成功度。\n",
    "    \n",
    "    Adaboost：adaptive boosting自适应boosting——boosting方法中一个最流行的版本\n",
    "    "
   ]
  },
  {
   "cell_type": "markdown",
   "id": "enabling-alcohol",
   "metadata": {},
   "source": [
    "## Adaboost\n",
    "\n",
    "Adaboost：adaptive boosting自适应boosting\n",
    "\n",
    "每个分类器都分配了一个权重值 $\\alpha$, 基于错误率 $\\epsilon$ 进行计算。\n",
    "\n",
    "$$\n",
    "\\epsilon = \\dfrac{\\text{未正确分类的样本数目}}{\\text{所有样本数目}}\n",
    "\\\\\n",
    "\\alpha = \\dfrac{1}{2} \\ln \\left(\\dfrac{1-\\epsilon}{\\epsilon}\\right)\n",
    "$$\n",
    "\n",
    "训练时，对每个样本分配一个权重，组成权重向量 $D$ 。训练计算出 $\\alpha$ 之后，可以对权重向量 $D$ 进行更新，升高误分样本权重，降低正分样本权重。\n",
    "\n",
    "正确分类的样本权重 $D_i^{(t+1)} = \\dfrac{D_i^{(t)}e^{-\\alpha}}{\\text{Sum}(D)}$\n",
    "\n",
    "错误分类的样本权重 $D_i^{(t+1)} = \\dfrac{D_i^{(t)}e^{\\alpha}}{\\text{Sum}(D)}$"
   ]
  },
  {
   "cell_type": "markdown",
   "id": "legislative-rebecca",
   "metadata": {},
   "source": [
    "## 基于单层决策树构建弱分类器\n",
    "\n",
    "单层决策树，也称决策树桩，只有一次分裂过程。"
   ]
  },
  {
   "cell_type": "code",
   "execution_count": 1,
   "id": "enormous-payment",
   "metadata": {},
   "outputs": [],
   "source": [
    "import numpy as np\n",
    "import matplotlib.pyplot as plt"
   ]
  },
  {
   "cell_type": "code",
   "execution_count": 2,
   "id": "approximate-cancellation",
   "metadata": {},
   "outputs": [],
   "source": [
    "def loadSimpData():\n",
    "    datMat = np.matrix([[ 1. ,  2.1],\n",
    "        [ 2. ,  1.1],\n",
    "        [ 1.3,  1. ],\n",
    "        [ 1. ,  1. ],\n",
    "        [ 2. ,  1. ]])\n",
    "    classLabels = [1.0, 1.0, -1.0, -1.0, 1.0]\n",
    "    return datMat,classLabels"
   ]
  },
  {
   "cell_type": "code",
   "execution_count": 3,
   "id": "charged-stick",
   "metadata": {},
   "outputs": [],
   "source": [
    "dataMat,classLabels = loadSimpData()"
   ]
  },
  {
   "cell_type": "markdown",
   "id": "approximate-experience",
   "metadata": {},
   "source": [
    "![](https://downloads.mariozzj.cn/img/picgo/20210424141441.png?imageMogr2/thumbnail/!30p)"
   ]
  },
  {
   "cell_type": "code",
   "execution_count": 4,
   "id": "modified-going",
   "metadata": {},
   "outputs": [],
   "source": [
    "# 7-1 单层决策树生成函数\n",
    "\n",
    "def stumpClassify(dataMatrix,dimen,threshVal,threshIneq):#just classify the data\n",
    "    retArray = np.ones((np.shape(dataMatrix)[0],1))\n",
    "    if threshIneq == 'lt':\n",
    "        retArray[dataMatrix[:,dimen] <= threshVal] = -1.0\n",
    "    else:\n",
    "        retArray[dataMatrix[:,dimen] > threshVal] = -1.0\n",
    "    return retArray\n",
    "    \n",
    "\n",
    "def buildStump(dataArr,classLabels,D):\n",
    "    dataMatrix = np.mat(dataArr); labelMat = np.mat(classLabels).T\n",
    "    m,n = np.shape(dataMatrix)\n",
    "    numSteps = 10.0; bestStump = {}; bestClasEst = np.mat(np.zeros((m,1)))\n",
    "    minError = np.inf #init error sum, to +infinity\n",
    "    for i in range(n):#loop over all dimensions\n",
    "        rangeMin = dataMatrix[:,i].min(); rangeMax = dataMatrix[:,i].max();\n",
    "        stepSize = (rangeMax-rangeMin)/numSteps\n",
    "        for j in range(-1,int(numSteps)+1):#loop over all range in current dimension\n",
    "            for inequal in ['lt', 'gt']: #go over less than and greater than\n",
    "                threshVal = (rangeMin + float(j) * stepSize)\n",
    "                predictedVals = stumpClassify(dataMatrix,i,threshVal,inequal)#call stump classify with i, j, lessThan\n",
    "                errArr = np.mat(np.ones((m,1)))\n",
    "                errArr[predictedVals == labelMat] = 0\n",
    "                weightedError = D.T*errArr  #calc total error multiplied by D\n",
    "#                 print(\"split: dim %d, thresh %.2f, thresh ineqal: %s, the weighted error is %.3f\" % (i, threshVal, inequal, weightedError))\n",
    "                if weightedError < minError:\n",
    "                    minError = weightedError\n",
    "                    bestClasEst = predictedVals.copy()\n",
    "                    bestStump['dim'] = i\n",
    "                    bestStump['thresh'] = threshVal\n",
    "                    bestStump['ineq'] = inequal\n",
    "    return bestStump,minError,bestClasEst"
   ]
  },
  {
   "cell_type": "code",
   "execution_count": 5,
   "id": "humanitarian-family",
   "metadata": {},
   "outputs": [
    {
     "data": {
      "text/plain": [
       "({'dim': 0, 'thresh': 1.3, 'ineq': 'lt'},\n",
       " matrix([[0.2]]),\n",
       " array([[-1.],\n",
       "        [ 1.],\n",
       "        [-1.],\n",
       "        [-1.],\n",
       "        [ 1.]]))"
      ]
     },
     "execution_count": 5,
     "metadata": {},
     "output_type": "execute_result"
    }
   ],
   "source": [
    "D = np.mat(np.ones((5,1))/5)\n",
    "buildStump(dataMat,classLabels,D)"
   ]
  },
  {
   "cell_type": "markdown",
   "id": "disturbed-registrar",
   "metadata": {},
   "source": [
    "上述单层决策树的生成函数是决策树的一个简化版本。它就是所谓的弱学习器，即弱分类算\n",
    "法。"
   ]
  },
  {
   "cell_type": "markdown",
   "id": "bibliographic-brazil",
   "metadata": {},
   "source": [
    "## 完整Adaboost算法实现\n",
    "\n",
    "伪代码：\n",
    "> * 对每次迭代：\n",
    ">   * 利用buildStump()函数找到最佳的单层决策树\n",
    ">   * 将最佳单层决策树加入到单层决策树数组\n",
    ">   * 计算alpha\n",
    ">   * 计算新的权重向量D\n",
    ">   * 更新累计类别估计值\n",
    ">   * 如果错误率等于0.0，则退出循环\n",
    "\n"
   ]
  },
  {
   "cell_type": "code",
   "execution_count": 6,
   "id": "owned-productivity",
   "metadata": {},
   "outputs": [],
   "source": [
    "def adaBoostTrainDS(dataArr,classLabels,numIt=40):\n",
    "    weakClassArr = []\n",
    "    m = np.shape(dataArr)[0]\n",
    "    D = np.mat(np.ones((m,1))/m)   #init D to all equal\n",
    "    aggClassEst = np.mat(np.zeros((m,1)))\n",
    "    for i in range(numIt):\n",
    "        bestStump,error,classEst = buildStump(dataArr,classLabels,D)#build Stump\n",
    "#         print(\"D:\",D.T)\n",
    "        alpha = float(0.5*np.log((1.0-error)/max(error,1e-16)))#calc alpha, throw in max(error,eps) to account for error=0\n",
    "        bestStump['alpha'] = alpha  \n",
    "        weakClassArr.append(bestStump)                  #store Stump Params in Array\n",
    "#         print(\"classEst: \",classEst.T)\n",
    "        expon = np.multiply(-1*alpha*np.mat(classLabels).T,classEst) #exponent for D calc, getting messy\n",
    "        D = np.multiply(D,np.exp(expon))                              #Calc New D for next iteration\n",
    "        D = D/D.sum()\n",
    "        #calc training error of all classifiers, if this is 0 quit for loop early (use break)\n",
    "        aggClassEst += alpha*classEst\n",
    "#         print(\"aggClassEst: \",aggClassEst.T)\n",
    "        aggErrors = np.multiply(np.sign(aggClassEst) != np.mat(classLabels).T,np.ones((m,1)))\n",
    "        errorRate = aggErrors.sum()/m\n",
    "        print(\"total error: \",errorRate)\n",
    "        if errorRate == 0.0: break\n",
    "#     return weakClassArr,aggClassEst\n",
    "    return weakClassArr"
   ]
  },
  {
   "cell_type": "code",
   "execution_count": 7,
   "id": "listed-progressive",
   "metadata": {},
   "outputs": [
    {
     "name": "stdout",
     "output_type": "stream",
     "text": [
      "total error:  0.2\n",
      "total error:  0.2\n",
      "total error:  0.0\n"
     ]
    }
   ],
   "source": [
    "classifierArray = adaBoostTrainDS(dataMat, classLabels, 9)"
   ]
  },
  {
   "cell_type": "code",
   "execution_count": 8,
   "id": "dying-sherman",
   "metadata": {},
   "outputs": [
    {
     "data": {
      "text/plain": [
       "[{'dim': 0, 'thresh': 1.3, 'ineq': 'lt', 'alpha': 0.6931471805599453},\n",
       " {'dim': 1, 'thresh': 1.0, 'ineq': 'lt', 'alpha': 0.9729550745276565},\n",
       " {'dim': 0, 'thresh': 0.9, 'ineq': 'lt', 'alpha': 0.8958797346140273}]"
      ]
     },
     "execution_count": 8,
     "metadata": {},
     "output_type": "execute_result"
    }
   ],
   "source": [
    "classifierArray"
   ]
  },
  {
   "cell_type": "markdown",
   "id": "incoming-command",
   "metadata": {},
   "source": [
    "## 测试：基于Adaboost的分类"
   ]
  },
  {
   "cell_type": "markdown",
   "id": "becoming-tampa",
   "metadata": {},
   "source": [
    " $H(\\boldsymbol{x}) = \\sum\\limits_{t=1}^T \\alpha_th_t(\\boldsymbol{x}); \\ \\ \\text{sign}(H(\\boldsymbol{x}))$ \n",
    " \n",
    " 对于生成的每一个决策树桩，使所有样本进行测试，通过加性模型计算整体预测结果，再使用符号函数进行输出。"
   ]
  },
  {
   "cell_type": "code",
   "execution_count": 9,
   "id": "burning-lawyer",
   "metadata": {},
   "outputs": [],
   "source": [
    "def adaClassify(datToClass,classifierArr):\n",
    "    dataMatrix = np.mat(datToClass)#do stuff similar to last aggClassEst in adaBoostTrainDS\n",
    "    m = np.shape(dataMatrix)[0]\n",
    "    aggClassEst = np.mat(np.zeros((m,1)))\n",
    "    for i in range(len(classifierArr)):\n",
    "        classEst = stumpClassify(dataMatrix,classifierArr[i]['dim'],\\\n",
    "                                 classifierArr[i]['thresh'],\\\n",
    "                                 classifierArr[i]['ineq'])#call stump classify\n",
    "        aggClassEst += classifierArr[i]['alpha']*classEst\n",
    "#         print(aggClassEst)\n",
    "    return np.sign(aggClassEst)"
   ]
  },
  {
   "cell_type": "code",
   "execution_count": 10,
   "id": "indie-phrase",
   "metadata": {},
   "outputs": [
    {
     "name": "stdout",
     "output_type": "stream",
     "text": [
      "total error:  0.2\n",
      "total error:  0.2\n",
      "total error:  0.0\n"
     ]
    },
    {
     "data": {
      "text/plain": [
       "matrix([[-1.]])"
      ]
     },
     "execution_count": 10,
     "metadata": {},
     "output_type": "execute_result"
    }
   ],
   "source": [
    "dataArr,labelArr = loadSimpData()\n",
    "\n",
    "classifierArr = adaBoostTrainDS(dataArr, labelArr, 30)\n",
    "adaClassify([0,0],classifierArr)"
   ]
  },
  {
   "cell_type": "code",
   "execution_count": 11,
   "id": "anticipated-slide",
   "metadata": {},
   "outputs": [
    {
     "data": {
      "text/plain": [
       "matrix([[ 1.],\n",
       "        [-1.]])"
      ]
     },
     "execution_count": 11,
     "metadata": {},
     "output_type": "execute_result"
    }
   ],
   "source": [
    "adaClassify([[5,5],[0,0]],classifierArr)"
   ]
  },
  {
   "cell_type": "markdown",
   "id": "funky-conflict",
   "metadata": {},
   "source": [
    "## 实战：马疝气病数据集预测存活"
   ]
  },
  {
   "cell_type": "code",
   "execution_count": 12,
   "id": "worst-barcelona",
   "metadata": {},
   "outputs": [],
   "source": [
    "# 7-4 自适应数据加载函数\n",
    "\n",
    "def loadDataSet(fileName):      #general function to parse tab -delimited floats\n",
    "    numFeat = len(open(fileName).readline().split('\\t')) #get number of fields \n",
    "    dataMat = []; labelMat = []\n",
    "    fr = open(fileName)\n",
    "    for line in fr.readlines():\n",
    "        lineArr =[]\n",
    "        curLine = line.strip().split('\\t')\n",
    "        for i in range(numFeat-1):\n",
    "            lineArr.append(float(curLine[i]))\n",
    "        dataMat.append(lineArr)\n",
    "        labelMat.append(float(curLine[-1]))\n",
    "    return dataMat,labelMat"
   ]
  },
  {
   "cell_type": "code",
   "execution_count": 13,
   "id": "incredible-memorial",
   "metadata": {},
   "outputs": [
    {
     "name": "stdout",
     "output_type": "stream",
     "text": [
      "total error:  0.2842809364548495\n",
      "total error:  0.2842809364548495\n",
      "total error:  0.24749163879598662\n",
      "total error:  0.24749163879598662\n",
      "total error:  0.25418060200668896\n",
      "total error:  0.2408026755852843\n",
      "total error:  0.2408026755852843\n",
      "total error:  0.22073578595317725\n",
      "total error:  0.24749163879598662\n",
      "total error:  0.23076923076923078\n"
     ]
    }
   ],
   "source": [
    "datArr, labelArr = loadDataSet('./data/horseColicTraining2.txt')\n",
    "classifierArray = adaBoostTrainDS(datArr, labelArr, 10)"
   ]
  },
  {
   "cell_type": "code",
   "execution_count": 14,
   "id": "swedish-tactics",
   "metadata": {},
   "outputs": [
    {
     "data": {
      "text/plain": [
       "16.0"
      ]
     },
     "execution_count": 14,
     "metadata": {},
     "output_type": "execute_result"
    }
   ],
   "source": [
    "testArr,testLabelArr = loadDataSet('./data/horseColicTest2.txt')\n",
    "prediction10 = adaClassify(testArr, classifierArray)\n",
    "errArr = np.mat(np.ones((67,1)))\n",
    "errArr[prediction10!=np.mat(testLabelArr).T].sum()"
   ]
  },
  {
   "cell_type": "markdown",
   "id": "suburban-nothing",
   "metadata": {},
   "source": [
    "## 非均衡分类问题\n",
    "\n",
    "混淆矩阵：针对一个二类问题，根据某一实例的分类结果可被分为正例和负例。\n",
    "\n",
    "|          | Predict Y            | Predict N            |\n",
    "| -------- | -------------------- | -------------------- |\n",
    "| Actual Y | True Positive真正例  | False Negative假反例 |\n",
    "| Actual N | False Positive假正例 | True Negative真反例  |\n",
    "\n",
    "模型评价 $\\text{Accuracy}=\\dfrac{TP+TN}{TP+TN+FP+FN}$ \n",
    "\n",
    "precision(精准率)=$\\dfrac{TP}{TP+FP}$, recall(召回率)=$\\dfrac{TP}{TP+FN}$,F1=$\\dfrac{2*precision*recall}{precision+recall}$\n",
    "\n",
    "\n",
    "另一个用于度量分类中的非均衡性工具是ROC曲线，ROC代表接收者操作特征（Reciever Operating Characteristic）\n",
    "\n",
    "![](https://downloads.mariozzj.cn/img/picgo/20210424213821.png?imageMogr2/thumbnail/!30p)\n",
    "\n",
    "横轴是FP比例（ $=\\dfrac{\\text{FP}}{\\text{FP+TN}}$ ），纵轴是TP比例（ $=\\dfrac{\\text{TP}}{\\text{FP+TN}}$ ）。左下角的点是将所有样例判为负例的情况，右上角是将所有样例判为正例的情况，虚线是随机猜测的结果曲线。在理想的情况下，最佳的分类器应该尽可能地处于左上角。\n",
    "\n",
    "对不同的ROC曲线进行比较的一个指标是曲线下的面积（AUC，Area Under the Curve）。AUC给出的是分类器的平均性能值，完美为1，随机猜测为0.5。"
   ]
  },
  {
   "cell_type": "code",
   "execution_count": 15,
   "id": "billion-dakota",
   "metadata": {},
   "outputs": [],
   "source": [
    "## 7-5 ROC曲线的绘制及AUC计算函数\n",
    "\n",
    "def plotROC(predStrengths, classLabels):\n",
    "    cur = (1.0,1.0) #cursor\n",
    "    ySum = 0.0 #variable to calculate AUC\n",
    "    numPosClas = sum(np.array(classLabels)==1.0)\n",
    "    yStep = 1/float(numPosClas); xStep = 1/float(len(classLabels)-numPosClas)\n",
    "    sortedIndicies = predStrengths.argsort()#get sorted index, it's reverse\n",
    "    fig = plt.figure()\n",
    "    fig.clf()\n",
    "    ax = plt.subplot(111)\n",
    "    #loop through all the values, drawing a line segment at each point\n",
    "    for index in sortedIndicies.tolist()[0]:\n",
    "        if classLabels[index] == 1.0:\n",
    "            delX = 0; delY = yStep;\n",
    "        else:\n",
    "            delX = xStep; delY = 0;\n",
    "            ySum += cur[1]\n",
    "        #draw line from cur to (cur[0]-delX,cur[1]-delY)\n",
    "        ax.plot([cur[0],cur[0]-delX],[cur[1],cur[1]-delY], c='b')\n",
    "        cur = (cur[0]-delX,cur[1]-delY)\n",
    "    ax.plot([0,1],[0,1],'b--')\n",
    "    plt.xlabel('False positive rate'); plt.ylabel('True positive rate')\n",
    "    plt.title('ROC curve for AdaBoost horse colic detection system')\n",
    "    ax.axis([0,1,0,1])\n",
    "    plt.show()\n",
    "    print(\"the Area Under the Curve is: \",ySum*xStep)"
   ]
  },
  {
   "cell_type": "code",
   "execution_count": 16,
   "id": "hydraulic-belly",
   "metadata": {},
   "outputs": [],
   "source": [
    "def adaBoostTrainDS(dataArr,classLabels,numIt=40):\n",
    "    weakClassArr = []\n",
    "    m = np.shape(dataArr)[0]\n",
    "    D = np.mat(np.ones((m,1))/m)   #init D to all equal\n",
    "    aggClassEst = np.mat(np.zeros((m,1)))\n",
    "    for i in range(numIt):\n",
    "        bestStump,error,classEst = buildStump(dataArr,classLabels,D)#build Stump\n",
    "#         print(\"D:\",D.T)\n",
    "        alpha = float(0.5*np.log((1.0-error)/max(error,1e-16)))#calc alpha, throw in max(error,eps) to account for error=0\n",
    "        bestStump['alpha'] = alpha  \n",
    "        weakClassArr.append(bestStump)                  #store Stump Params in Array\n",
    "#         print(\"classEst: \",classEst.T)\n",
    "        expon = np.multiply(-1*alpha*np.mat(classLabels).T,classEst) #exponent for D calc, getting messy\n",
    "        D = np.multiply(D,np.exp(expon))                              #Calc New D for next iteration\n",
    "        D = D/D.sum()\n",
    "        #calc training error of all classifiers, if this is 0 quit for loop early (use break)\n",
    "        aggClassEst += alpha*classEst\n",
    "#         print(\"aggClassEst: \",aggClassEst.T)\n",
    "        aggErrors = np.multiply(np.sign(aggClassEst) != np.mat(classLabels).T,np.ones((m,1)))\n",
    "        errorRate = aggErrors.sum()/m\n",
    "        print(\"total error: \",errorRate)\n",
    "        if errorRate == 0.0: break\n",
    "    return weakClassArr,aggClassEst"
   ]
  },
  {
   "cell_type": "code",
   "execution_count": 17,
   "id": "abroad-border",
   "metadata": {},
   "outputs": [
    {
     "name": "stdout",
     "output_type": "stream",
     "text": [
      "total error:  0.2842809364548495\n",
      "total error:  0.2842809364548495\n",
      "total error:  0.24749163879598662\n",
      "total error:  0.24749163879598662\n",
      "total error:  0.25418060200668896\n",
      "total error:  0.2408026755852843\n",
      "total error:  0.2408026755852843\n",
      "total error:  0.22073578595317725\n",
      "total error:  0.24749163879598662\n",
      "total error:  0.23076923076923078\n"
     ]
    },
    {
     "data": {
      "image/png": "[encoded data removed]",
      "text/plain": [
       "<Figure size 432x288 with 1 Axes>"
      ]
     },
     "metadata": {
      "needs_background": "light"
     },
     "output_type": "display_data"
    },
    {
     "name": "stdout",
     "output_type": "stream",
     "text": [
      "the Area Under the Curve is:  0.8582969635063604\n"
     ]
    }
   ],
   "source": [
    "datArr, labelArr = loadDataSet('./data/horseColicTraining2.txt')\n",
    "classifierArray, aggClassEst = adaBoostTrainDS(datArr,labelArr,10)\n",
    "plotROC(aggClassEst.T,labelArr)"
   ]
  },
  {
   "cell_type": "markdown",
   "id": "pursuant-friend",
   "metadata": {},
   "source": [
    "# sklearn集成学习\n",
    "\n",
    "```Python\n",
    "class sklearn.ensemble.AdaBoostClassifier(base_estimator=None, *, n_estimators=50, learning_rate=1.0, algorithm='SAMME.R', random_state=None)\n",
    "```\n",
    "\n",
    "* `base_estimator`: 默认None。如果设为None，基学习器则被指定为[DecisionTreeClassifier](https://scikit-learn.org/stable/modules/generated/sklearn.tree.DecisionTreeClassifier.html#sklearn.tree.DecisionTreeClassifier)，`max_depth`设为1.(即决策树桩)\n",
    "* `n_estimators`：boosting过程被终止的最大估计器数量（当然，完全拟合时会直接终止）\n",
    "* `learning_rate`：学习率。\n",
    "* `algorithm`：提升算法。如果选用`SAMMER.R`，`base_estimator`必须支持计算类概率。`SAMMER.R`收敛速度较`SAMMER`快。\n",
    "* `random_state`：随机数种子。"
   ]
  },
  {
   "cell_type": "code",
   "execution_count": 18,
   "id": "permanent-panic",
   "metadata": {},
   "outputs": [
    {
     "data": {
      "text/plain": [
       "AdaBoostClassifier(n_estimators=100, random_state=0)"
      ]
     },
     "execution_count": 18,
     "metadata": {},
     "output_type": "execute_result"
    }
   ],
   "source": [
    "from sklearn.ensemble import AdaBoostClassifier\n",
    "from sklearn.datasets import make_classification\n",
    "\n",
    "X, y = make_classification(n_samples=1000, n_features=4,\n",
    "                            n_informative=2, n_redundant=0,\n",
    "                            random_state=0, shuffle=False)\n",
    "clf = AdaBoostClassifier(n_estimators=100, random_state=0)\n",
    "clf.fit(X, y)\n"
   ]
  },
  {
   "cell_type": "code",
   "execution_count": 19,
   "id": "incomplete-surgeon",
   "metadata": {},
   "outputs": [
    {
     "data": {
      "text/plain": [
       "array([1])"
      ]
     },
     "execution_count": 19,
     "metadata": {},
     "output_type": "execute_result"
    }
   ],
   "source": [
    "clf.predict([[0, 0, 0, 0]])"
   ]
  },
  {
   "cell_type": "code",
   "execution_count": 20,
   "id": "surgical-congo",
   "metadata": {},
   "outputs": [
    {
     "data": {
      "text/plain": [
       "0.983"
      ]
     },
     "execution_count": 20,
     "metadata": {},
     "output_type": "execute_result"
    }
   ],
   "source": [
    "clf.score(X, y)"
   ]
  },
  {
   "cell_type": "markdown",
   "id": "naughty-herald",
   "metadata": {},
   "source": [
    "# 作业三\n",
    "\n",
    "某公司招聘职员考查身体、业务能力、发展潜力这三项。身体分为合格1、不合格0两级，业务能力和发展潜力分为上1、中2、下3三级。分类为合格1、不合格-1两类。已知10个人的数据如下表所示。假设弱分类器为决策树桩。试用AdaBoost算法学习一个强分类器。\n",
    "\n",
    "<center>表1 应聘人员情况数据表</center>\n",
    "\n",
    "|          | 1    | 2    | 3    | 4    | 5    | 6    | 7    | 8    | 9    | 10   |\n",
    "| -------- | -- | -- | -- | -- | -- | -- | -- | -- | -- | -- |\n",
    "| 身体     | 0    | 0    | 1    | 1    | 1    | 0    | 1    | 1    | 1    | 0    |\n",
    "| 业务能力 | 1    | 3    | 2    | 1    | 2    | 1    | 1    | 1    | 3    | 2    |\n",
    "| 发展潜力 | 3    | 1    | 2    | 3    | 3    | 2    | 2    | 1    | 1    | 1    |\n",
    "| 分类     | -1   | -1   | -1   | -1   | -1   | -1   | 1    | 1    | -1   | -1   |\n",
    "\n"
   ]
  },
  {
   "cell_type": "code",
   "execution_count": 21,
   "id": "opposite-emphasis",
   "metadata": {},
   "outputs": [],
   "source": [
    "def loadHireData():\n",
    "    datMat = np.matrix(\n",
    "       [[ 0. ,  1. , 3. ],\n",
    "        [ 0. ,  3. , 1. ],\n",
    "        [ 1. ,  2. , 2. ],\n",
    "        [ 1. ,  1. , 3. ],\n",
    "        [ 1. ,  2. , 3. ],\n",
    "        [ 0. ,  1. , 2. ],\n",
    "        [ 1. ,  1. , 2. ],\n",
    "        [ 1. ,  1. , 1. ],\n",
    "        [ 1. ,  3. , 1. ],\n",
    "        [ 0. ,  2. , 1. ]\n",
    "       ])\n",
    "    classLabels = [-1.0, -1.0, -1.0, -1.0, -1.0,\n",
    "                   -1.0,  1.0,  1.0, -1.0, -1.0]\n",
    "    return datMat,classLabels"
   ]
  },
  {
   "cell_type": "code",
   "execution_count": 22,
   "id": "mighty-jesus",
   "metadata": {},
   "outputs": [],
   "source": [
    "def stumpClassify(dataMatrix,dimen,threshVal,threshIneq):#just classify the data\n",
    "    retArray = np.ones((np.shape(dataMatrix)[0],1))\n",
    "    if threshIneq == 'lt':\n",
    "        retArray[dataMatrix[:,dimen] <= threshVal] = -1.0\n",
    "    else:\n",
    "        retArray[dataMatrix[:,dimen] > threshVal] = -1.0\n",
    "    return retArray\n",
    "    \n",
    "\n",
    "def buildStump(dataArr,classLabels,D):\n",
    "    dataMatrix = np.mat(dataArr); labelMat = np.mat(classLabels).T\n",
    "    m,n = np.shape(dataMatrix)\n",
    "    numSteps = 10.0; bestStump = {}; bestClasEst = np.mat(np.zeros((m,1)))\n",
    "    minError = np.inf #init error sum, to +infinity\n",
    "    for i in range(n):#loop over all dimensions\n",
    "        rangeMin = dataMatrix[:,i].min(); rangeMax = dataMatrix[:,i].max();\n",
    "        stepSize = (rangeMax-rangeMin)/numSteps\n",
    "        for j in range(-1,int(numSteps)+1):#loop over all range in current dimension\n",
    "            for inequal in ['lt', 'gt']: #go over less than and greater than\n",
    "                threshVal = (rangeMin + float(j) * stepSize)\n",
    "                predictedVals = stumpClassify(dataMatrix,i,threshVal,inequal)#call stump classify with i, j, lessThan\n",
    "                errArr = np.mat(np.ones((m,1)))\n",
    "                errArr[predictedVals == labelMat] = 0\n",
    "                weightedError = D.T*errArr  #calc total error multiplied by D\n",
    "#                 print(\"split: dim %d, thresh %.2f, thresh ineqal: %s, the weighted error is %.3f\" % (i, threshVal, inequal, weightedError))\n",
    "                if weightedError < minError:\n",
    "                    minError = weightedError\n",
    "                    bestClasEst = predictedVals.copy()\n",
    "                    bestStump['dim'] = i\n",
    "                    bestStump['thresh'] = threshVal\n",
    "                    bestStump['ineq'] = inequal\n",
    "    return bestStump,minError,bestClasEst"
   ]
  },
  {
   "cell_type": "code",
   "execution_count": 23,
   "id": "radio-rebate",
   "metadata": {},
   "outputs": [],
   "source": [
    "def adaBoostTrainDS(dataArr,classLabels,numIt=40):\n",
    "    weakClassArr = []\n",
    "    m = np.shape(dataArr)[0]\n",
    "    D = np.mat(np.ones((m,1))/m)   #init D to all equal\n",
    "    aggClassEst = np.mat(np.zeros((m,1)))\n",
    "    for i in range(numIt):\n",
    "        bestStump,error,classEst = buildStump(dataArr,classLabels,D)#build Stump\n",
    "        print(\"D:\",\" \"*10,D.T.round(4))\n",
    "        alpha = float(0.5*np.log((1.0-error)/max(error,1e-16)))#calc alpha, throw in max(error,eps) to account for error=0\n",
    "        bestStump['alpha'] = alpha  \n",
    "        weakClassArr.append(bestStump)                  #store Stump Params in Array\n",
    "        print(\"classEst: \",\" \"*2,classEst.T.round(4))\n",
    "        expon = np.multiply(-1*alpha*np.mat(classLabels).T,classEst) #exponent for D calc, getting messy\n",
    "        D = np.multiply(D,np.exp(expon))                              #Calc New D for next iteration\n",
    "        D = D/D.sum()\n",
    "        #calc training error of all classifiers, if this is 0 quit for loop early (use break)\n",
    "        aggClassEst += alpha*classEst\n",
    "        print(\"aggClassEst: \",aggClassEst.T.round(4))\n",
    "        aggErrors = np.multiply(np.sign(aggClassEst) != np.mat(classLabels).T,np.ones((m,1)))\n",
    "        errorRate = aggErrors.sum()/m\n",
    "        print(\"total error: \",errorRate)\n",
    "        if errorRate == 0.0: break\n",
    "#     return weakClassArr,aggClassEst\n",
    "    return weakClassArr\n",
    "\n",
    "def adaClassify(datToClass,classifierArr):\n",
    "    dataMatrix = np.mat(datToClass)#do stuff similar to last aggClassEst in adaBoostTrainDS\n",
    "    m = np.shape(dataMatrix)[0]\n",
    "    aggClassEst = np.mat(np.zeros((m,1)))\n",
    "    for i in range(len(classifierArr)):\n",
    "        classEst = stumpClassify(dataMatrix,classifierArr[i]['dim'],\\\n",
    "                                 classifierArr[i]['thresh'],\\\n",
    "                                 classifierArr[i]['ineq'])#call stump classify\n",
    "        aggClassEst += classifierArr[i]['alpha']*classEst\n",
    "#         print(aggClassEst)\n",
    "    return np.sign(aggClassEst)"
   ]
  },
  {
   "cell_type": "code",
   "execution_count": 24,
   "id": "stupid-lithuania",
   "metadata": {},
   "outputs": [
    {
     "name": "stdout",
     "output_type": "stream",
     "text": [
      "D:            [[ 0.100  0.100  0.100  0.100  0.100  0.100  0.100  0.100  0.100  0.100]]\n",
      "classEst:     [[-1.000 -1.000 -1.000 -1.000 -1.000 -1.000 -1.000 -1.000 -1.000 -1.000]]\n",
      "aggClassEst:  [[-0.693 -0.693 -0.693 -0.693 -0.693 -0.693 -0.693 -0.693 -0.693 -0.693]]\n",
      "total error:  0.2\n",
      "D:            [[ 0.062  0.062  0.062  0.062  0.062  0.062  0.250  0.250  0.062  0.062]]\n",
      "classEst:     [[ 1.000 -1.000 -1.000  1.000 -1.000  1.000  1.000  1.000 -1.000 -1.000]]\n",
      "aggClassEst:  [[ 0.040 -1.426 -1.426  0.040 -1.426  0.040  0.040  0.040 -1.426 -1.426]]\n",
      "total error:  0.3\n",
      "D:            [[ 0.167  0.038  0.038  0.167  0.038  0.167  0.154  0.154  0.038  0.038]]\n",
      "classEst:     [[-1.000  1.000 -1.000 -1.000 -1.000 -1.000 -1.000  1.000  1.000  1.000]]\n",
      "aggClassEst:  [[-0.459 -0.927 -1.926 -0.459 -1.926 -0.459 -0.459  0.539 -0.927 -0.927]]\n",
      "total error:  0.1\n",
      "D:            [[ 0.114  0.071  0.026  0.114  0.026  0.114  0.286  0.105  0.071  0.071]]\n",
      "classEst:     [[-1.000 -1.000  1.000  1.000  1.000 -1.000  1.000  1.000  1.000 -1.000]]\n",
      "aggClassEst:  [[-1.041 -1.509 -1.344  0.122 -1.344 -1.041  0.122  1.121 -0.345 -1.509]]\n",
      "total error:  0.1\n",
      "D:            [[ 0.075  0.047  0.055  0.239  0.055  0.075  0.188  0.069  0.150  0.047]]\n",
      "classEst:     [[-1.000 -1.000 -1.000 -1.000 -1.000 -1.000 -1.000 -1.000 -1.000 -1.000]]\n",
      "aggClassEst:  [[-1.573 -2.041 -1.876 -0.410 -1.876 -1.573 -0.410  0.589 -0.877 -2.041]]\n",
      "total error:  0.1\n",
      "D:            [[ 0.050  0.032  0.037  0.161  0.037  0.050  0.365  0.135  0.101  0.032]]\n",
      "classEst:     [[-1.000  1.000  1.000 -1.000 -1.000  1.000  1.000  1.000  1.000  1.000]]\n",
      "aggClassEst:  [[-2.118 -1.495 -1.330 -0.955 -2.421 -1.027  0.136  1.134 -0.332 -1.495]]\n",
      "total error:  0.0\n"
     ]
    }
   ],
   "source": [
    "dataArray,labelArray = loadHireData()\n",
    "np.set_printoptions(formatter={'float': '{: 0.3f}'.format})\n",
    "classifierArr = adaBoostTrainDS(dataArray, labelArray, 30)"
   ]
  },
  {
   "cell_type": "code",
   "execution_count": 25,
   "id": "elementary-annotation",
   "metadata": {},
   "outputs": [
    {
     "data": {
      "text/plain": [
       "[{'dim': 0, 'thresh': -0.1, 'ineq': 'gt', 'alpha': 0.6931471805599453},\n",
       " {'dim': 1, 'thresh': 1.0, 'ineq': 'gt', 'alpha': 0.7331685343967135},\n",
       " {'dim': 2, 'thresh': 1.0, 'ineq': 'gt', 'alpha': 0.49926441505556346},\n",
       " {'dim': 0, 'thresh': 0.0, 'ineq': 'lt', 'alpha': 0.5815754049028404},\n",
       " {'dim': 0, 'thresh': -0.1, 'ineq': 'gt', 'alpha': 0.5319130862913471},\n",
       " {'dim': 2, 'thresh': 2.0, 'ineq': 'gt', 'alpha': 0.5454786561898411}]"
      ]
     },
     "execution_count": 25,
     "metadata": {},
     "output_type": "execute_result"
    }
   ],
   "source": [
    "classifierArr"
   ]
  },
  {
   "cell_type": "markdown",
   "id": "perfect-writing",
   "metadata": {},
   "source": [
    "生成了6棵决策树桩并含有对应的 $\\alpha$ 值，可用于预测。其中第1、4、5棵决策树桩对现有样本而言只有一个子树。对应的属性都是身体情况（身体不合格，员工大概率也是不合格！）"
   ]
  },
  {
   "cell_type": "code",
   "execution_count": 26,
   "id": "criminal-remainder",
   "metadata": {},
   "outputs": [
    {
     "data": {
      "text/plain": [
       "matrix([[-1.000],\n",
       "        [ 1.000]])"
      ]
     },
     "execution_count": 26,
     "metadata": {},
     "output_type": "execute_result"
    }
   ],
   "source": [
    "adaClassify([[0,3,3],[1,1,1]],classifierArr)"
   ]
  },
  {
   "cell_type": "markdown",
   "id": "velvet-costs",
   "metadata": {},
   "source": [
    "进行了两个极端样本的测试，样本一{身体:0,业务能力:3,发展潜力:3}；样本二{身体:1,业务能力:1,发展潜力:1}，分类结果均符合预期。"
   ]
  }
 ],
 "metadata": {
  "kernelspec": {
   "display_name": "Python 3.6",
   "language": "python",
   "name": "python3"
  },
  "language_info": {
   "codemirror_mode": {
    "name": "ipython",
    "version": 3
   },
   "file_extension": ".py",
   "mimetype": "text/x-python",
   "name": "python",
   "nbconvert_exporter": "python",
   "pygments_lexer": "ipython3",
   "version": "3.6.8"
  }
 },
 "nbformat": 4,
 "nbformat_minor": 5
}
